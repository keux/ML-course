{
 "cells": [
  {
   "cell_type": "markdown",
   "metadata": {
    "colab_type": "text",
    "id": "cn3m4vpTzd-f"
   },
   "source": [
    "# Машинное обучение, ФКН ВШЭ\n",
    "\n",
    "## Практическое задание 10. Рекомендательные системы\n",
    "\n",
    "### Общая информация\n",
    "\n",
    "Дата выдачи: 09.05.2020  \n",
    "\n",
    "Мягкий дедлайн: 23:59MSK 24.05.2020 (за каждый день просрочки снимается 1 балл)\n",
    "\n",
    "Жесткий дедлайн: 23:59MSK 27.05.2020\n"
   ]
  },
  {
   "cell_type": "markdown",
   "metadata": {
    "colab_type": "text",
    "id": "B7erbtKozd-g"
   },
   "source": [
    "### О задании\n",
    "В этом задании мы будем практиковаться в построении рекомендательных систем: научимся считать метрики и пообучаем модели.\n",
    "\n",
    "### Оценивание и штрафы\n",
    "Каждая из задач имеет определенную «стоимость» (указана в скобках около задачи). Максимально допустимая оценка за работу — 10 баллов. Проверяющий имеет право снизить оценку за неэффективную реализацию или неопрятные графики.\n",
    "\n",
    "**Обратите внимание**, что в каждом разделе домашнего задания есть оцениваниемые задачи и есть вопросы. Вопросы дополняют задачи и направлены на то, чтобы проинтерпретировать или обосновать происходящее. Код без интерпретации не имеет смысла, поэтому отвечать на вопросы обязательно — за отсутствие ответов мы будем снижать баллы за задачи. Если вы ответите на вопросы, но не напишете корректный код к соответствующим оцениваемым задачам, то баллы за такое выставлены не будут.\n",
    "\n",
    "Сдавать задание после указанного срока сдачи нельзя. При выставлении неполного балла за задание в связи с наличием ошибок на усмотрение проверяющего предусмотрена возможность исправить работу на указанных в ответном письме условиях.\n",
    "\n",
    "Задание выполняется самостоятельно. «Похожие» решения считаются плагиатом и все задействованные студенты (в том числе те, у кого списали) не могут получить за него больше 0 баллов (подробнее о плагиате см. на странице курса). Если вы нашли решение какого-то из заданий (или его часть) в открытом источнике, необходимо указать ссылку на этот источник в отдельном блоке в конце вашей работы (скорее всего вы будете не единственным, кто это нашел, поэтому чтобы исключить подозрение в плагиате, необходима ссылка на источник).\n",
    "\n",
    "### Формат сдачи\n",
    "Задания сдаются через систему Anytask. Инвайт можно найти на странице курса. Присылать необходимо ноутбук с выполненным заданием. "
   ]
  },
  {
   "cell_type": "code",
   "execution_count": 1,
   "metadata": {
    "colab": {},
    "colab_type": "code",
    "id": "Ash475YSzd-h"
   },
   "outputs": [],
   "source": [
    "import numpy as np\n",
    "import pandas as pd\n",
    "from sklearn.model_selection import train_test_split\n",
    "import tqdm"
   ]
  },
  {
   "cell_type": "markdown",
   "metadata": {
    "colab_type": "text",
    "id": "udVpN6NXzd-l"
   },
   "source": [
    "### Данные\n",
    "\n",
    "Будем работать с датасетом  от онлайн-кинотеатра Okko [REKKO CHALLENGE](https://boosters.pro/championship/rekko_challenge/data)."
   ]
  },
  {
   "cell_type": "markdown",
   "metadata": {
    "colab_type": "text",
    "id": "siiEUo1Fzd-m"
   },
   "source": [
    "Имеющиеся данные содержат несколько файлов. Рассмотрим всё, что у нас есть."
   ]
  },
  {
   "cell_type": "markdown",
   "metadata": {
    "colab_type": "text",
    "id": "_3b75F5Azd-n"
   },
   "source": [
    "`catalogue.json` содержит анонимизированную метаинформацию о доступных в сервисе фильмах и сериалах:"
   ]
  },
  {
   "cell_type": "code",
   "execution_count": 2,
   "metadata": {
    "colab": {},
    "colab_type": "code",
    "id": "F16ixUEZzd-o"
   },
   "outputs": [],
   "source": [
    "catalogue = pd.read_json('data/catalogue.json', orient='values').T"
   ]
  },
  {
   "cell_type": "code",
   "execution_count": 3,
   "metadata": {
    "colab": {},
    "colab_type": "code",
    "id": "aDEclZBmzd-s"
   },
   "outputs": [],
   "source": [
    "catalogue['element_uid'] = catalogue.index"
   ]
  },
  {
   "cell_type": "code",
   "execution_count": 4,
   "metadata": {
    "colab": {},
    "colab_type": "code",
    "id": "6qGGga6Yzd-z",
    "outputId": "4f333cca-733f-42fe-f241-e57b2d84b2b5"
   },
   "outputs": [
    {
     "data": {
      "text/html": [
       "<div>\n",
       "<style scoped>\n",
       "    .dataframe tbody tr th:only-of-type {\n",
       "        vertical-align: middle;\n",
       "    }\n",
       "\n",
       "    .dataframe tbody tr th {\n",
       "        vertical-align: top;\n",
       "    }\n",
       "\n",
       "    .dataframe thead th {\n",
       "        text-align: right;\n",
       "    }\n",
       "</style>\n",
       "<table border=\"1\" class=\"dataframe\">\n",
       "  <thead>\n",
       "    <tr style=\"text-align: right;\">\n",
       "      <th></th>\n",
       "      <th>type</th>\n",
       "      <th>availability</th>\n",
       "      <th>duration</th>\n",
       "      <th>feature_1</th>\n",
       "      <th>feature_2</th>\n",
       "      <th>feature_3</th>\n",
       "      <th>feature_4</th>\n",
       "      <th>feature_5</th>\n",
       "      <th>attributes</th>\n",
       "      <th>element_uid</th>\n",
       "    </tr>\n",
       "  </thead>\n",
       "  <tbody>\n",
       "    <tr>\n",
       "      <td>1983</td>\n",
       "      <td>movie</td>\n",
       "      <td>[purchase, rent, subscription]</td>\n",
       "      <td>140</td>\n",
       "      <td>1.65722e+06</td>\n",
       "      <td>0.75361</td>\n",
       "      <td>39</td>\n",
       "      <td>1.11941</td>\n",
       "      <td>0</td>\n",
       "      <td>[1, 2, 3, 4, 5, 6, 7, 8, 9, 10, 11, 12, 13, 14...</td>\n",
       "      <td>1983</td>\n",
       "    </tr>\n",
       "    <tr>\n",
       "      <td>3783</td>\n",
       "      <td>movie</td>\n",
       "      <td>[purchase, rent, subscription]</td>\n",
       "      <td>110</td>\n",
       "      <td>3.55652e+07</td>\n",
       "      <td>0.766254</td>\n",
       "      <td>41</td>\n",
       "      <td>1.1386</td>\n",
       "      <td>0.654707</td>\n",
       "      <td>[1, 26, 27, 28, 29, 7, 30, 31, 32, 10, 14, 15,...</td>\n",
       "      <td>3783</td>\n",
       "    </tr>\n",
       "    <tr>\n",
       "      <td>5208</td>\n",
       "      <td>movie</td>\n",
       "      <td>[purchase, rent, subscription]</td>\n",
       "      <td>90</td>\n",
       "      <td>1.32707e+07</td>\n",
       "      <td>0.765425</td>\n",
       "      <td>27</td>\n",
       "      <td>1.13181</td>\n",
       "      <td>0.592716</td>\n",
       "      <td>[1, 38, 39, 40, 7, 41, 42, 43, 14, 15, 17, 18,...</td>\n",
       "      <td>5208</td>\n",
       "    </tr>\n",
       "    <tr>\n",
       "      <td>9744</td>\n",
       "      <td>movie</td>\n",
       "      <td>[purchase, rent, subscription]</td>\n",
       "      <td>120</td>\n",
       "      <td>2.17499e+07</td>\n",
       "      <td>0.757874</td>\n",
       "      <td>26</td>\n",
       "      <td>1.13353</td>\n",
       "      <td>0.654707</td>\n",
       "      <td>[1, 47, 48, 49, 50, 51, 52, 53, 32, 42, 54, 14...</td>\n",
       "      <td>9744</td>\n",
       "    </tr>\n",
       "    <tr>\n",
       "      <td>1912</td>\n",
       "      <td>movie</td>\n",
       "      <td>[purchase, rent]</td>\n",
       "      <td>110</td>\n",
       "      <td>9.21296e+06</td>\n",
       "      <td>0.759566</td>\n",
       "      <td>7</td>\n",
       "      <td>1.11013</td>\n",
       "      <td>0.654707</td>\n",
       "      <td>[1, 59, 60, 61, 62, 7, 52, 63, 10, 42, 54, 17,...</td>\n",
       "      <td>1912</td>\n",
       "    </tr>\n",
       "  </tbody>\n",
       "</table>\n",
       "</div>"
      ],
      "text/plain": [
       "       type                    availability duration    feature_1 feature_2  \\\n",
       "1983  movie  [purchase, rent, subscription]      140  1.65722e+06   0.75361   \n",
       "3783  movie  [purchase, rent, subscription]      110  3.55652e+07  0.766254   \n",
       "5208  movie  [purchase, rent, subscription]       90  1.32707e+07  0.765425   \n",
       "9744  movie  [purchase, rent, subscription]      120  2.17499e+07  0.757874   \n",
       "1912  movie                [purchase, rent]      110  9.21296e+06  0.759566   \n",
       "\n",
       "     feature_3 feature_4 feature_5  \\\n",
       "1983        39   1.11941         0   \n",
       "3783        41    1.1386  0.654707   \n",
       "5208        27   1.13181  0.592716   \n",
       "9744        26   1.13353  0.654707   \n",
       "1912         7   1.11013  0.654707   \n",
       "\n",
       "                                             attributes  element_uid  \n",
       "1983  [1, 2, 3, 4, 5, 6, 7, 8, 9, 10, 11, 12, 13, 14...         1983  \n",
       "3783  [1, 26, 27, 28, 29, 7, 30, 31, 32, 10, 14, 15,...         3783  \n",
       "5208  [1, 38, 39, 40, 7, 41, 42, 43, 14, 15, 17, 18,...         5208  \n",
       "9744  [1, 47, 48, 49, 50, 51, 52, 53, 32, 42, 54, 14...         9744  \n",
       "1912  [1, 59, 60, 61, 62, 7, 52, 63, 10, 42, 54, 17,...         1912  "
      ]
     },
     "execution_count": 4,
     "metadata": {},
     "output_type": "execute_result"
    }
   ],
   "source": [
    "catalogue.head()"
   ]
  },
  {
   "cell_type": "markdown",
   "metadata": {
    "colab_type": "text",
    "id": "zsA6f08Ozd-2"
   },
   "source": [
    " - `attributes` — мешок атрибутов;\n",
    " - `availability` — доступность (может содержать значения `purchase`, `rent` и `subscription`);\n",
    " - `duration` — длительность фильма (для сериалов и многосерийных фильмов — длительность серии) в минутах, округлённая до десятков;\n",
    " - `feature_1..5` — пять анонимизированных вещественных и порядковых признаков;\n",
    " - `type` — принимает значения `movie`, `multipart_movie` или `series`."
   ]
  },
  {
   "cell_type": "markdown",
   "metadata": {
    "colab_type": "text",
    "id": "x5UuKuGSzd-2"
   },
   "source": [
    "`transactions.csv` — список всех транзакций за определённый период времени:"
   ]
  },
  {
   "cell_type": "code",
   "execution_count": 5,
   "metadata": {
    "colab": {},
    "colab_type": "code",
    "id": "oS10OaPyzd-3"
   },
   "outputs": [],
   "source": [
    "transactions = pd.read_csv('data/transactions.csv',\n",
    "    dtype={\n",
    "        'element_uid': np.uint16,\n",
    "        'user_uid': np.uint32,\n",
    "        'consumption_mode': 'category',\n",
    "        'ts': np.float64,\n",
    "        'watched_time': np.uint64,\n",
    "        'device_type': np.uint8,\n",
    "        'device_manufacturer': np.uint8\n",
    "    }\n",
    ")"
   ]
  },
  {
   "cell_type": "code",
   "execution_count": 6,
   "metadata": {
    "colab": {},
    "colab_type": "code",
    "id": "FlXf3n_1zd-7",
    "outputId": "3a414079-b3c6-4705-cdb3-eb883f619a58"
   },
   "outputs": [
    {
     "data": {
      "text/html": [
       "<div>\n",
       "<style scoped>\n",
       "    .dataframe tbody tr th:only-of-type {\n",
       "        vertical-align: middle;\n",
       "    }\n",
       "\n",
       "    .dataframe tbody tr th {\n",
       "        vertical-align: top;\n",
       "    }\n",
       "\n",
       "    .dataframe thead th {\n",
       "        text-align: right;\n",
       "    }\n",
       "</style>\n",
       "<table border=\"1\" class=\"dataframe\">\n",
       "  <thead>\n",
       "    <tr style=\"text-align: right;\">\n",
       "      <th></th>\n",
       "      <th>element_uid</th>\n",
       "      <th>user_uid</th>\n",
       "      <th>consumption_mode</th>\n",
       "      <th>ts</th>\n",
       "      <th>watched_time</th>\n",
       "      <th>device_type</th>\n",
       "      <th>device_manufacturer</th>\n",
       "    </tr>\n",
       "  </thead>\n",
       "  <tbody>\n",
       "    <tr>\n",
       "      <td>0</td>\n",
       "      <td>3336</td>\n",
       "      <td>5177</td>\n",
       "      <td>S</td>\n",
       "      <td>4.430518e+07</td>\n",
       "      <td>4282</td>\n",
       "      <td>0</td>\n",
       "      <td>50</td>\n",
       "    </tr>\n",
       "    <tr>\n",
       "      <td>1</td>\n",
       "      <td>481</td>\n",
       "      <td>593316</td>\n",
       "      <td>S</td>\n",
       "      <td>4.430518e+07</td>\n",
       "      <td>2989</td>\n",
       "      <td>0</td>\n",
       "      <td>11</td>\n",
       "    </tr>\n",
       "    <tr>\n",
       "      <td>2</td>\n",
       "      <td>4128</td>\n",
       "      <td>262355</td>\n",
       "      <td>S</td>\n",
       "      <td>4.430518e+07</td>\n",
       "      <td>833</td>\n",
       "      <td>0</td>\n",
       "      <td>50</td>\n",
       "    </tr>\n",
       "    <tr>\n",
       "      <td>3</td>\n",
       "      <td>6272</td>\n",
       "      <td>74296</td>\n",
       "      <td>S</td>\n",
       "      <td>4.430518e+07</td>\n",
       "      <td>2530</td>\n",
       "      <td>0</td>\n",
       "      <td>99</td>\n",
       "    </tr>\n",
       "    <tr>\n",
       "      <td>4</td>\n",
       "      <td>5543</td>\n",
       "      <td>340623</td>\n",
       "      <td>P</td>\n",
       "      <td>4.430518e+07</td>\n",
       "      <td>6282</td>\n",
       "      <td>0</td>\n",
       "      <td>50</td>\n",
       "    </tr>\n",
       "  </tbody>\n",
       "</table>\n",
       "</div>"
      ],
      "text/plain": [
       "   element_uid  user_uid consumption_mode            ts  watched_time  \\\n",
       "0         3336      5177                S  4.430518e+07          4282   \n",
       "1          481    593316                S  4.430518e+07          2989   \n",
       "2         4128    262355                S  4.430518e+07           833   \n",
       "3         6272     74296                S  4.430518e+07          2530   \n",
       "4         5543    340623                P  4.430518e+07          6282   \n",
       "\n",
       "   device_type  device_manufacturer  \n",
       "0            0                   50  \n",
       "1            0                   11  \n",
       "2            0                   50  \n",
       "3            0                   99  \n",
       "4            0                   50  "
      ]
     },
     "execution_count": 6,
     "metadata": {},
     "output_type": "execute_result"
    }
   ],
   "source": [
    "transactions.head()"
   ]
  },
  {
   "cell_type": "code",
   "execution_count": 7,
   "metadata": {
    "colab": {},
    "colab_type": "code",
    "id": "8Iy6oiOyzd-9",
    "outputId": "3d53b4f4-e943-4331-8490-1ca3c5429806"
   },
   "outputs": [
    {
     "data": {
      "text/plain": [
       "(9643012, 7)"
      ]
     },
     "execution_count": 7,
     "metadata": {},
     "output_type": "execute_result"
    }
   ],
   "source": [
    "transactions.shape"
   ]
  },
  {
   "cell_type": "markdown",
   "metadata": {
    "colab_type": "text",
    "id": "JjTKhzeZzd_A"
   },
   "source": [
    " - `element_uid` — идентификатор элемента (фильма);\n",
    " - `user_uid` — идентификатор пользователя;\n",
    " - `consumption_mode` — тип потребления (`P` — покупка, `R` — аренда, `S` — просмотр по подписке);\n",
    " - `ts` — время совершения транзакции или начала просмотра в случае просмотра по подписке;\n",
    " - `watched_time` — число просмотренных по транзакции секунд;\n",
    " - `device_type` — анонимизированный тип устройства, с которого была совершена транзакция или начат просмотр;\n",
    " - `device_manufacturer` — анонимизированный производитель устройства, с которого была совершена транзакция или начат просмотр."
   ]
  },
  {
   "cell_type": "markdown",
   "metadata": {
    "colab_type": "text",
    "id": "0vEPq0q2zd_A"
   },
   "source": [
    "`ratings.csv` содержит информацию о поставленных пользователями оценках:"
   ]
  },
  {
   "cell_type": "code",
   "execution_count": 8,
   "metadata": {
    "colab": {},
    "colab_type": "code",
    "id": "gP-Gy4Enzd_B"
   },
   "outputs": [],
   "source": [
    "ratings = pd.read_csv('data/ratings.csv')"
   ]
  },
  {
   "cell_type": "code",
   "execution_count": 9,
   "metadata": {
    "colab": {},
    "colab_type": "code",
    "id": "PvFr8mUZzd_D",
    "outputId": "ab5b8dad-5b3c-4cbb-d349-a3afbb4ee61d"
   },
   "outputs": [
    {
     "data": {
      "text/html": [
       "<div>\n",
       "<style scoped>\n",
       "    .dataframe tbody tr th:only-of-type {\n",
       "        vertical-align: middle;\n",
       "    }\n",
       "\n",
       "    .dataframe tbody tr th {\n",
       "        vertical-align: top;\n",
       "    }\n",
       "\n",
       "    .dataframe thead th {\n",
       "        text-align: right;\n",
       "    }\n",
       "</style>\n",
       "<table border=\"1\" class=\"dataframe\">\n",
       "  <thead>\n",
       "    <tr style=\"text-align: right;\">\n",
       "      <th></th>\n",
       "      <th>user_uid</th>\n",
       "      <th>element_uid</th>\n",
       "      <th>rating</th>\n",
       "      <th>ts</th>\n",
       "    </tr>\n",
       "  </thead>\n",
       "  <tbody>\n",
       "    <tr>\n",
       "      <td>0</td>\n",
       "      <td>571252</td>\n",
       "      <td>1364</td>\n",
       "      <td>10</td>\n",
       "      <td>4.430517e+07</td>\n",
       "    </tr>\n",
       "    <tr>\n",
       "      <td>1</td>\n",
       "      <td>63140</td>\n",
       "      <td>3037</td>\n",
       "      <td>10</td>\n",
       "      <td>4.430514e+07</td>\n",
       "    </tr>\n",
       "    <tr>\n",
       "      <td>2</td>\n",
       "      <td>443817</td>\n",
       "      <td>4363</td>\n",
       "      <td>8</td>\n",
       "      <td>4.430514e+07</td>\n",
       "    </tr>\n",
       "    <tr>\n",
       "      <td>3</td>\n",
       "      <td>359870</td>\n",
       "      <td>1364</td>\n",
       "      <td>10</td>\n",
       "      <td>4.430506e+07</td>\n",
       "    </tr>\n",
       "    <tr>\n",
       "      <td>4</td>\n",
       "      <td>359870</td>\n",
       "      <td>3578</td>\n",
       "      <td>9</td>\n",
       "      <td>4.430506e+07</td>\n",
       "    </tr>\n",
       "  </tbody>\n",
       "</table>\n",
       "</div>"
      ],
      "text/plain": [
       "   user_uid  element_uid  rating            ts\n",
       "0    571252         1364      10  4.430517e+07\n",
       "1     63140         3037      10  4.430514e+07\n",
       "2    443817         4363       8  4.430514e+07\n",
       "3    359870         1364      10  4.430506e+07\n",
       "4    359870         3578       9  4.430506e+07"
      ]
     },
     "execution_count": 9,
     "metadata": {},
     "output_type": "execute_result"
    }
   ],
   "source": [
    "ratings.head()"
   ]
  },
  {
   "cell_type": "code",
   "execution_count": 10,
   "metadata": {
    "colab": {},
    "colab_type": "code",
    "id": "qQNHDxtEzd_F",
    "outputId": "6bd7d0b9-a0c4-43d1-8d5c-e1ac21abe5c1"
   },
   "outputs": [
    {
     "data": {
      "text/plain": [
       "(438790, 4)"
      ]
     },
     "execution_count": 10,
     "metadata": {},
     "output_type": "execute_result"
    }
   ],
   "source": [
    "ratings.shape"
   ]
  },
  {
   "cell_type": "markdown",
   "metadata": {
    "colab_type": "text",
    "id": "6bbAwVDVzd_H"
   },
   "source": [
    " - `rating` — поставленный пользователем рейтинг (от `0` до `10`)."
   ]
  },
  {
   "cell_type": "markdown",
   "metadata": {
    "colab_type": "text",
    "id": "WJbYVuRdzd_H"
   },
   "source": [
    "Далее будем обучать модель на долю времени просмотра фильма. Для этого к матрице `transactions` добавим информацию о длительности фильма."
   ]
  },
  {
   "cell_type": "code",
   "execution_count": 11,
   "metadata": {
    "colab": {},
    "colab_type": "code",
    "id": "TlbHyIBDzd_I"
   },
   "outputs": [],
   "source": [
    "transactions = transactions.merge(catalogue, how='left', on='element_uid')"
   ]
  },
  {
   "cell_type": "markdown",
   "metadata": {
    "colab_type": "text",
    "id": "-shep0Lgzd_K"
   },
   "source": [
    " В колонке `transactions['duration']` могут быть нули, так как значения округляются до ближайшей десятки. Поэтому добавим 10 ко всем значениям. И умножим все значения `transactions['duration']` на 60, чтобы перевести в секунды. "
   ]
  },
  {
   "cell_type": "code",
   "execution_count": 12,
   "metadata": {
    "colab": {},
    "colab_type": "code",
    "id": "Y0YgV8tSzd_K"
   },
   "outputs": [],
   "source": [
    "transactions.loc[:, 'duration'] += 10\n",
    "transactions['duration']  = transactions['duration']*60"
   ]
  },
  {
   "cell_type": "markdown",
   "metadata": {
    "colab_type": "text",
    "id": "pTxDStAGzd_N"
   },
   "source": [
    "Для простоты вычислений далее будем использовать не всех пользователей."
   ]
  },
  {
   "cell_type": "code",
   "execution_count": 13,
   "metadata": {
    "colab": {},
    "colab_type": "code",
    "id": "JgdowSayzd_N"
   },
   "outputs": [],
   "source": [
    "transactions_small = transactions.loc[transactions.user_uid < transactions.user_uid.quantile(.01)]"
   ]
  },
  {
   "cell_type": "code",
   "execution_count": 14,
   "metadata": {
    "colab": {},
    "colab_type": "code",
    "id": "sm8K1V1czd_P",
    "outputId": "e14aa07c-52ca-48e2-dc81-bd951a2314fc"
   },
   "outputs": [
    {
     "data": {
      "text/plain": [
       "8296"
      ]
     },
     "execution_count": 14,
     "metadata": {},
     "output_type": "execute_result"
    }
   ],
   "source": [
    "transactions.element_uid.nunique()"
   ]
  },
  {
   "cell_type": "markdown",
   "metadata": {
    "colab_type": "text",
    "id": "VGXzbH9uzd_S"
   },
   "source": [
    "Чтобы оценивать качество предсказаний построенных алгоритмов, разобьем данные на обучающую и тестовую выборки. Для этого вычислим 75-й перцентиль признака `ts` и разделим данные `transactions_small` во времени, так, чтобы в обучающую выборку попало 75% данных, а в тестовую — остальные 25%."
   ]
  },
  {
   "cell_type": "code",
   "execution_count": 15,
   "metadata": {
    "colab": {},
    "colab_type": "code",
    "id": "l8ayIVfkzd_S"
   },
   "outputs": [],
   "source": [
    "transactions_test = transactions_small.loc[transactions_small.ts > transactions_small.ts.quantile(.75)].reset_index()\n",
    "transactions_train = transactions_small.loc[transactions_small.ts < transactions_small.ts.quantile(.75)].reset_index()"
   ]
  },
  {
   "cell_type": "code",
   "execution_count": 16,
   "metadata": {
    "colab": {},
    "colab_type": "code",
    "id": "j__Uy4WKzd_U",
    "outputId": "c27c9bc9-6006-4d76-ee38-e87aa217fe37"
   },
   "outputs": [
    {
     "data": {
      "text/plain": [
       "(72319, 17)"
      ]
     },
     "execution_count": 16,
     "metadata": {},
     "output_type": "execute_result"
    }
   ],
   "source": [
    "transactions_train.shape"
   ]
  },
  {
   "cell_type": "code",
   "execution_count": 17,
   "metadata": {
    "colab": {},
    "colab_type": "code",
    "id": "gHLrq-7Xzd_W",
    "outputId": "d1acbf38-89b6-4c99-e8c5-6544bcfadb4e"
   },
   "outputs": [
    {
     "data": {
      "text/plain": [
       "4498"
      ]
     },
     "execution_count": 17,
     "metadata": {},
     "output_type": "execute_result"
    }
   ],
   "source": [
    "transactions_train.user_uid.nunique()"
   ]
  },
  {
   "cell_type": "code",
   "execution_count": 18,
   "metadata": {
    "colab": {},
    "colab_type": "code",
    "id": "uW7kC277zd_Y",
    "outputId": "c0f80bef-bef9-4139-bab2-e030ea15554e"
   },
   "outputs": [
    {
     "data": {
      "text/plain": [
       "2733"
      ]
     },
     "execution_count": 18,
     "metadata": {},
     "output_type": "execute_result"
    }
   ],
   "source": [
    "transactions_test.user_uid.nunique()"
   ]
  },
  {
   "cell_type": "markdown",
   "metadata": {
    "colab_type": "text",
    "id": "Qy0FB-x9zd_a"
   },
   "source": [
    "Данные `ratings` тоже необходимо сократить и исключить оценки из тестовой части:"
   ]
  },
  {
   "cell_type": "code",
   "execution_count": 19,
   "metadata": {
    "colab": {},
    "colab_type": "code",
    "id": "OwWrm6Nozd_b",
    "outputId": "c79e3f28-4ca5-4576-d159-8c296ab638b4"
   },
   "outputs": [
    {
     "name": "stderr",
     "output_type": "stream",
     "text": [
      "438790it [00:01, 220013.55it/s]\n"
     ]
    }
   ],
   "source": [
    "test_user_ids = set(transactions_test[['element_uid', 'user_uid']].itertuples(index=False))\n",
    "train_user_ids = set(transactions_train[['element_uid', 'user_uid']].itertuples(index=False))\n",
    "drop_index = []\n",
    "for row in tqdm.tqdm(ratings.itertuples()):\n",
    "    if (row.element_uid, row.user_uid) in test_user_ids or not (row.element_uid, row.user_uid) in train_user_ids:\n",
    "        drop_index.append(row.Index)"
   ]
  },
  {
   "cell_type": "code",
   "execution_count": 20,
   "metadata": {
    "colab": {},
    "colab_type": "code",
    "id": "H7o8HuO-zd_d"
   },
   "outputs": [],
   "source": [
    "ratings.drop(drop_index, inplace=True)\n",
    "ratings.reset_index(inplace=True)"
   ]
  },
  {
   "cell_type": "code",
   "execution_count": 21,
   "metadata": {
    "colab": {},
    "colab_type": "code",
    "id": "nE20z4xHzd_e",
    "outputId": "9391b50c-85db-4623-e687-17e33ad6cf60"
   },
   "outputs": [
    {
     "data": {
      "text/plain": [
       "(2836, 5)"
      ]
     },
     "execution_count": 21,
     "metadata": {},
     "output_type": "execute_result"
    }
   ],
   "source": [
    "ratings.shape"
   ]
  },
  {
   "cell_type": "code",
   "execution_count": 22,
   "metadata": {},
   "outputs": [
    {
     "data": {
      "text/html": [
       "<div>\n",
       "<style scoped>\n",
       "    .dataframe tbody tr th:only-of-type {\n",
       "        vertical-align: middle;\n",
       "    }\n",
       "\n",
       "    .dataframe tbody tr th {\n",
       "        vertical-align: top;\n",
       "    }\n",
       "\n",
       "    .dataframe thead th {\n",
       "        text-align: right;\n",
       "    }\n",
       "</style>\n",
       "<table border=\"1\" class=\"dataframe\">\n",
       "  <thead>\n",
       "    <tr style=\"text-align: right;\">\n",
       "      <th></th>\n",
       "      <th>index</th>\n",
       "      <th>user_uid</th>\n",
       "      <th>element_uid</th>\n",
       "      <th>rating</th>\n",
       "      <th>ts</th>\n",
       "    </tr>\n",
       "  </thead>\n",
       "  <tbody>\n",
       "    <tr>\n",
       "      <td>0</td>\n",
       "      <td>14329</td>\n",
       "      <td>2972</td>\n",
       "      <td>6195</td>\n",
       "      <td>9</td>\n",
       "      <td>4.418280e+07</td>\n",
       "    </tr>\n",
       "    <tr>\n",
       "      <td>1</td>\n",
       "      <td>14697</td>\n",
       "      <td>4695</td>\n",
       "      <td>8811</td>\n",
       "      <td>10</td>\n",
       "      <td>4.417677e+07</td>\n",
       "    </tr>\n",
       "    <tr>\n",
       "      <td>2</td>\n",
       "      <td>18712</td>\n",
       "      <td>1242</td>\n",
       "      <td>5589</td>\n",
       "      <td>5</td>\n",
       "      <td>4.414930e+07</td>\n",
       "    </tr>\n",
       "    <tr>\n",
       "      <td>3</td>\n",
       "      <td>18924</td>\n",
       "      <td>587</td>\n",
       "      <td>2923</td>\n",
       "      <td>10</td>\n",
       "      <td>4.414873e+07</td>\n",
       "    </tr>\n",
       "    <tr>\n",
       "      <td>4</td>\n",
       "      <td>22091</td>\n",
       "      <td>645</td>\n",
       "      <td>1935</td>\n",
       "      <td>10</td>\n",
       "      <td>4.413121e+07</td>\n",
       "    </tr>\n",
       "    <tr>\n",
       "      <td>...</td>\n",
       "      <td>...</td>\n",
       "      <td>...</td>\n",
       "      <td>...</td>\n",
       "      <td>...</td>\n",
       "      <td>...</td>\n",
       "    </tr>\n",
       "    <tr>\n",
       "      <td>2831</td>\n",
       "      <td>437629</td>\n",
       "      <td>3236</td>\n",
       "      <td>5644</td>\n",
       "      <td>4</td>\n",
       "      <td>4.173797e+07</td>\n",
       "    </tr>\n",
       "    <tr>\n",
       "      <td>2832</td>\n",
       "      <td>437751</td>\n",
       "      <td>575</td>\n",
       "      <td>2916</td>\n",
       "      <td>9</td>\n",
       "      <td>4.173749e+07</td>\n",
       "    </tr>\n",
       "    <tr>\n",
       "      <td>2833</td>\n",
       "      <td>437859</td>\n",
       "      <td>5373</td>\n",
       "      <td>8646</td>\n",
       "      <td>6</td>\n",
       "      <td>4.173715e+07</td>\n",
       "    </tr>\n",
       "    <tr>\n",
       "      <td>2834</td>\n",
       "      <td>438185</td>\n",
       "      <td>380</td>\n",
       "      <td>4319</td>\n",
       "      <td>9</td>\n",
       "      <td>4.173629e+07</td>\n",
       "    </tr>\n",
       "    <tr>\n",
       "      <td>2835</td>\n",
       "      <td>438713</td>\n",
       "      <td>1776</td>\n",
       "      <td>3230</td>\n",
       "      <td>8</td>\n",
       "      <td>4.173241e+07</td>\n",
       "    </tr>\n",
       "  </tbody>\n",
       "</table>\n",
       "<p>2836 rows × 5 columns</p>\n",
       "</div>"
      ],
      "text/plain": [
       "       index  user_uid  element_uid  rating            ts\n",
       "0      14329      2972         6195       9  4.418280e+07\n",
       "1      14697      4695         8811      10  4.417677e+07\n",
       "2      18712      1242         5589       5  4.414930e+07\n",
       "3      18924       587         2923      10  4.414873e+07\n",
       "4      22091       645         1935      10  4.413121e+07\n",
       "...      ...       ...          ...     ...           ...\n",
       "2831  437629      3236         5644       4  4.173797e+07\n",
       "2832  437751       575         2916       9  4.173749e+07\n",
       "2833  437859      5373         8646       6  4.173715e+07\n",
       "2834  438185       380         4319       9  4.173629e+07\n",
       "2835  438713      1776         3230       8  4.173241e+07\n",
       "\n",
       "[2836 rows x 5 columns]"
      ]
     },
     "execution_count": 22,
     "metadata": {},
     "output_type": "execute_result"
    }
   ],
   "source": [
    "ratings"
   ]
  },
  {
   "cell_type": "markdown",
   "metadata": {
    "colab_type": "text",
    "id": "kbtkeIwmzd_h"
   },
   "source": [
    "На выделенной обучающей выборке необходимо обучить рекомендательную систему и предсказать top-20 наиболее релевантных для пользователя идентификаторов контента."
   ]
  },
  {
   "cell_type": "markdown",
   "metadata": {
    "colab_type": "text",
    "id": "aQkWEnkuzd_i"
   },
   "source": [
    "Получим значение целевой переменной для итогового алгоритма — долю времени просмотра фильма:"
   ]
  },
  {
   "cell_type": "code",
   "execution_count": 23,
   "metadata": {
    "colab": {},
    "colab_type": "code",
    "id": "vFJBtkhvzd_i"
   },
   "outputs": [],
   "source": [
    "transactions_train['target'] = transactions_train.watched_time/transactions_train.duration"
   ]
  },
  {
   "cell_type": "code",
   "execution_count": 24,
   "metadata": {
    "colab": {},
    "colab_type": "code",
    "id": "23uNG7qNzd_k"
   },
   "outputs": [],
   "source": [
    "transactions_test['target'] = transactions_test.watched_time/transactions_test.duration"
   ]
  },
  {
   "cell_type": "markdown",
   "metadata": {
    "colab_type": "text",
    "id": "-ybEsW4Zzd_m"
   },
   "source": [
    "В поле `target` присутствуют значения больше 1, так как для сериалов и многосерийных фильмов используется средняя длина серии — заменим в таких случаях целевую переменную на 1:"
   ]
  },
  {
   "cell_type": "code",
   "execution_count": 25,
   "metadata": {
    "colab": {},
    "colab_type": "code",
    "id": "v3SRG0JNzd_m"
   },
   "outputs": [],
   "source": [
    "transactions_train.loc[transactions_train['target'] > 1, 'target'] = 1\n",
    "transactions_test.loc[transactions_test['target'] > 1, 'target'] = 1"
   ]
  },
  {
   "cell_type": "markdown",
   "metadata": {
    "colab_type": "text",
    "id": "A9-jBmtbpEj4"
   },
   "source": [
    "Далее в задании везде будем обозначать как $r_{ui}$ значение этой целевой переменной для пользователя $u$ и элемента $i$."
   ]
  },
  {
   "cell_type": "markdown",
   "metadata": {
    "colab_type": "text",
    "id": "qVBoJBhGzd_o"
   },
   "source": [
    "### Задание 0"
   ]
  },
  {
   "cell_type": "markdown",
   "metadata": {
    "colab_type": "text",
    "id": "6iuGXmRVzd_o"
   },
   "source": [
    "Для оценки качества предсказаний будем использовать метрику $MNAP@20$, которую использовали в соревновании.\n",
    "Метрика отличается от оригинальной $MAP$ тем, что значение для каждого пользователя нормализуется не на константу, а на число потреблённых фильмов. Таким образом, вес угадывания одного фильма больше у пользователей, имеющих меньшее число просмотров.\n"
   ]
  },
  {
   "cell_type": "markdown",
   "metadata": {
    "colab_type": "text",
    "id": "pA5xOcMszd_p"
   },
   "source": [
    "$$MNAP@20 = \\dfrac{1}{|U|}\\sum_{u\\in U}\\dfrac{1}{\\min(n_u, 20)}\\sum_{i=1}^{20}r_u(i)p_u@i $$\n",
    "$$p_u@k = \\dfrac{1}{k}\\sum_{j=1}^kr_u(j)$$\n",
    "- $r_{u}(i)$ — потребил ли пользователь u контент, предсказанный ему на месте i (1 либо 0);\n",
    "- $n_u$ — количество элементов, которые пользователь потребил за тестовый период;\n",
    "- $U$ — множество тестовых пользователей."
   ]
  },
  {
   "cell_type": "markdown",
   "metadata": {
    "colab_type": "text",
    "id": "TI3trSg4zd_p"
   },
   "source": [
    "Реализуйте функцию `mnap_k`, вычисляющую метрику качества $MNAP@K$, где\n",
    "\n",
    "- `predictions` — предсказания фильмов для пользователей  `List[List[int]]`;\n",
    "\n",
    "- `target` — фильмы которые посмотрел пользователь  `List[Set[int]]`."
   ]
  },
  {
   "cell_type": "code",
   "execution_count": 120,
   "metadata": {
    "colab": {},
    "colab_type": "code",
    "id": "rQvuE_HLzd_p"
   },
   "outputs": [],
   "source": [
    "def mnap_k(predictions, target, k=20):\n",
    "    n = len(predictions)\n",
    "    #╰( ͡° ͜ʖ ͡° )つ──☆*:・\n",
    "    # r = [np.array(predictions[i]) == np.array(list(target[i])) for i in range(n)]\n",
    "    r = [np.array([1 if predictions[i][j] in target[i] else 0 for j in range(len(predictions[i]))]) for i in range(n)]\n",
    "    inner = [[r[u][i - 1] * r[u][:i].sum() / i for i in range(1, k + 1)] for u in range(n)]\n",
    "    \n",
    "    u_num = n\n",
    "    user_score = []\n",
    "    scores = np.array(inner).sum(axis=1)\n",
    "    for u in range(n):\n",
    "        if len(target[u]) == 0:\n",
    "            scores[u] = 0\n",
    "            u_num -= 1\n",
    "        else:\n",
    "            scores[u] /= min(len(target[u]), 20)\n",
    "            \n",
    "    \n",
    "    # user_score = np.array(inner).sum(axis=1) / [min(len(target[u]), 20) for u in range(n) if len(target[u]) != 0]\n",
    "    \n",
    "    return np.array(scores).sum() / u_num\n"
   ]
  },
  {
   "cell_type": "markdown",
   "metadata": {
    "colab_type": "text",
    "id": "8uJNSDFoiZuV"
   },
   "source": [
    "Проведем элементарные проверки на корректность реализации:"
   ]
  },
  {
   "cell_type": "code",
   "execution_count": 121,
   "metadata": {
    "colab": {},
    "colab_type": "code",
    "id": "heIHem9xzd_s"
   },
   "outputs": [],
   "source": [
    "test = [list(np.arange(1, 21)), list(np.arange(2, 22)), list(np.arange(3, 23))]\n",
    "target = [set(np.arange(1, 21)), set(np.arange(2, 22)), set(np.arange(3, 23))]\n",
    "assert mnap_k(test, target) == 1.0"
   ]
  },
  {
   "cell_type": "code",
   "execution_count": 122,
   "metadata": {
    "colab": {},
    "colab_type": "code",
    "id": "wDoKdDcxzd_w"
   },
   "outputs": [],
   "source": [
    "test = [list(np.arange(1, 21)), list(np.arange(2, 22)), list(np.arange(3, 23))]\n",
    "target = [set(np.arange(1, 11)), set(np.arange(2, 12)), set(np.arange(3, 13))]\n",
    "assert mnap_k(test, target) == 1.0"
   ]
  },
  {
   "cell_type": "code",
   "execution_count": 123,
   "metadata": {
    "colab": {},
    "colab_type": "code",
    "id": "_yO37uI7zd_y"
   },
   "outputs": [],
   "source": [
    "test = [list(np.arange(1, 21)), list(np.arange(2, 22)), list(np.arange(3, 23))]\n",
    "target = [set(np.arange(2, 21)), set(np.arange(2, 22)), set(np.arange(3, 23))]\n",
    "assert round(mnap_k(test, target), 3) == 0.954"
   ]
  },
  {
   "cell_type": "markdown",
   "metadata": {
    "colab_type": "text",
    "id": "i2XOj-gmzd_0"
   },
   "source": [
    "### Задание 1"
   ]
  },
  {
   "cell_type": "markdown",
   "metadata": {
    "colab_type": "text",
    "id": "0NIJZnnUzd_0"
   },
   "source": [
    "\n",
    "\n",
    "#### Memory-based\n",
    "Два пользователя похожи, если им нравятся одинаковые фильмы.\n",
    "Рассмотрим двух пользователей $u$ и $v$ и обозначим через $I_{uv}$ множество фильмов $i$, которые просмотрели пользователи:\n",
    "$$\n",
    "    I_{uv}\n",
    "    =\n",
    "    \\{\n",
    "        i \\in I\n",
    "        |\n",
    "        \\exists r_{ui}\n",
    "        \\ \\&\\ \n",
    "        \\exists r_{vi}\n",
    "    \\}.\n",
    "$$\n",
    "Тогда сходство двух данных пользователей можно вычислить через корреляцию Пирсона:\n",
    "$$\n",
    "    w_{uv}\n",
    "    =\n",
    "    \\frac{\n",
    "        \\sum_{i \\in I_{uv}}\n",
    "            (r_{ui} - \\bar r_u)\n",
    "            (r_{vi} - \\bar r_v)\n",
    "    }{\n",
    "        \\sqrt{\n",
    "        \\sum_{i \\in I_{uv}}\n",
    "            (r_{ui} - \\bar r_u)^2\n",
    "        }\n",
    "        \\sqrt{\n",
    "        \\sum_{i \\in I_{uv}}\n",
    "            (r_{vi} - \\bar r_v)^2\n",
    "        }\n",
    "    },\n",
    "$$\n",
    "где $\\bar r_u$ и $\\bar r_v$ — средняя доля времени просмотра фильма для пользователей.\n",
    "\n",
    "Чтобы вычислять сходства между элементами $i$ и $j$, введём множество пользователей $U_{ij}$, для которых известны целевые переменные для этих элементов:\n",
    "$$\n",
    "    U_{ij}\n",
    "    =\n",
    "    \\{\n",
    "        u \\in U\n",
    "        |\n",
    "        \\exists r_{ui}\n",
    "        \\ \\&\\ \n",
    "        \\exists r_{uj}\n",
    "    \\}.\n",
    "$$\n",
    "Тогда сходство двух данных товаров можно вычислить через корреляцию Пирсона:\n",
    "$$\n",
    "    w_{ij}\n",
    "    =\n",
    "    \\frac{\n",
    "        \\sum_{u \\in U_{ij}}\n",
    "            (r_{ui} - \\bar r_i)\n",
    "            (r_{uj} - \\bar r_j)\n",
    "    }{\n",
    "        \\sqrt{\n",
    "        \\sum_{u \\in U_{ij}}\n",
    "            (r_{ui} - \\bar r_i)^2\n",
    "        }\n",
    "        \\sqrt{\n",
    "        \\sum_{u \\in U_{ij}}\n",
    "            (r_{uj} - \\bar r_j)^2\n",
    "        }\n",
    "    },\n",
    "$$\n",
    "где $\\bar r_i$ и $\\bar r_j$ — средняя доля времени просмотра для фильмов"
   ]
  },
  {
   "cell_type": "markdown",
   "metadata": {
    "colab_type": "text",
    "id": "nIjHtixOzd_1"
   },
   "source": [
    "Реализуйте класс `MemoryBased` с методами:\n",
    "\n",
    "- `__init__` — конструктор класса, принимает на вход матрицу целевых переменных $r_{ui}$;\n",
    "- `user_similarity` — возвращает вектор $w_u$ сходства пользователя $u$ и всех пользователей из обучающей выборки; если пользователь $u$ не встречался в обучающей выборке, то возвращайте нулевой вектор;\n",
    "- `item_similarity` — возвращает вектор $w_i$ сходства фильма $i$ и всех фильмов из обучающей выборки; если фильм $i$ не встречался в обучающей выборке, то возвращайте нулевой вектор.\n",
    "\n",
    "\n",
    "\n",
    "Уделите особое внимание оптимизации кода. Используйте векторизацию и матричные вычисления, где это возможно."
   ]
  },
  {
   "cell_type": "code",
   "execution_count": 33,
   "metadata": {},
   "outputs": [
    {
     "data": {
      "text/plain": [
       "'N = len(self.ratings)\\n        M = len(test_user)\\n        \\n        u = -1\\n        u = [ind for ind, user in enumerate(self.ratings) if (user == test_user).all()][0]\\n        if u == -1:\\n            return np.zeros(N)\\n        items = np.where(test_user != 0)[0]\\n        Iuv = [set() for i in range(N)]\\n        [[Iuv[v].add(i) for i in items  if v != u and self.ratings[v][i]] for v in range(N)] \\n                    \\n        r_normalized = self.ratings - np.true_divide(self.ratings.sum(1),(self.ratings!=0).sum(1)).reshape(-1,1)\\n        \\n        result = [\\n            np.dot(r_normalized[u][list(Iuv[v])], r_normalized[v][list(Iuv[v])]) / (\\n                np.sqrt(\\n                    np.dot(r_normalized[u][list(Iuv[v])],r_normalized[u][list(Iuv[v])]) *\\n                    np.dot(r_normalized[v][list(Iuv[v])], r_normalized[v][list(Iuv[v])])\\n                )\\n            )\\n            if v != u\\n            else\\n            1.0\\n            for v in range(N)\\n        ]\\n        return result'"
      ]
     },
     "execution_count": 33,
     "metadata": {},
     "output_type": "execute_result"
    }
   ],
   "source": [
    "'''N = len(self.ratings)\n",
    "        M = len(test_user)\n",
    "        \n",
    "        u = -1\n",
    "        u = [ind for ind, user in enumerate(self.ratings) if (user == test_user).all()][0]\n",
    "        if u == -1:\n",
    "            return np.zeros(N)\n",
    "        items = np.where(test_user != 0)[0]\n",
    "        Iuv = [set() for i in range(N)]\n",
    "        [[Iuv[v].add(i) for i in items  if v != u and self.ratings[v][i]] for v in range(N)] \n",
    "                    \n",
    "        r_normalized = self.ratings - np.true_divide(self.ratings.sum(1),(self.ratings!=0).sum(1)).reshape(-1,1)\n",
    "        \n",
    "        result = [\n",
    "            np.dot(r_normalized[u][list(Iuv[v])], r_normalized[v][list(Iuv[v])]) / (\n",
    "                np.sqrt(\n",
    "                    np.dot(r_normalized[u][list(Iuv[v])],r_normalized[u][list(Iuv[v])]) *\n",
    "                    np.dot(r_normalized[v][list(Iuv[v])], r_normalized[v][list(Iuv[v])])\n",
    "                )\n",
    "            )\n",
    "            if v != u\n",
    "            else\n",
    "            1.0\n",
    "            for v in range(N)\n",
    "        ]\n",
    "        return result'''\n",
    "\n",
    "N, M = self.ratings.shape\n",
    "        if not len(np.where((self.ratings==test_user).all(axis=1))[0]):\n",
    "            return np.zeros(N)\n",
    "        \n",
    "        ru = test_user.copy()\n",
    "        ru[ru == 0] = np.nan\n",
    "        ru = np.nan_to_num(ru -  np.nanmean(ru))\n",
    "        \n",
    "        if np.sum(ru) == 0:\n",
    "            return np.zeros(N)\n",
    "        \n",
    "        R = self.ratings.copy()\n",
    "        R[R==0] = np.nan\n",
    "        R = R - np.nanmean(R, axis=1).reshape(-1, 1)\n",
    "        mask = ~np.isnan(R)\n",
    "        R = np.nan_to_num(R)\n",
    "        R[:, [np.where(ru == 0)]] = 0\n",
    "        result = np.nan_to_num(R.dot(ru) / (np.linalg.norm(mask*ru, axis=1)*np.linalg.norm(R, axis=1)))\n",
    "        return result"
   ]
  },
  {
   "cell_type": "code",
   "execution_count": 135,
   "metadata": {
    "colab": {},
    "colab_type": "code",
    "id": "EAAYmlfxzeAj"
   },
   "outputs": [],
   "source": [
    "class MemoryBased():\n",
    "    def __init__(self, ratings):\n",
    "        self.ratings = ratings\n",
    "        # self.Iuv = [[set() for j in range(len(ratings[0]))] for i in range(len(ratings))]\n",
    "        pass\n",
    "        \n",
    "    def user_similarity(self, test_user):\n",
    "        \"\"\"test_user - вектор соответствующий пользователю\"\"\"\n",
    "        #╰( ͡° ͜ʖ ͡° )つ──☆*:・\n",
    "        N = len(self.ratings)\n",
    "        M = len(test_user)\n",
    "        \n",
    "        u = -1\n",
    "        u = [ind for ind, user in enumerate(self.ratings) if (user == test_user).all()][0]\n",
    "        if u == -1:\n",
    "            return np.zeros(N)\n",
    "        items = np.where(test_user != 0)[0]\n",
    "        Iuv = [set() for i in range(N)]\n",
    "        [[Iuv[v].add(i) for i in items  if v != u and self.ratings[v][i]] for v in range(N)] \n",
    "                    \n",
    "        r_normalized = self.ratings - np.true_divide(self.ratings.sum(1),(self.ratings!=0).sum(1)).reshape(-1,1)\n",
    "        \n",
    "        result = [\n",
    "            np.dot(r_normalized[u][list(Iuv[v])], r_normalized[v][list(Iuv[v])]) / (\n",
    "                np.sqrt(\n",
    "                    np.dot(r_normalized[u][list(Iuv[v])],r_normalized[u][list(Iuv[v])]) *\n",
    "                    np.dot(r_normalized[v][list(Iuv[v])], r_normalized[v][list(Iuv[v])])\n",
    "                )\n",
    "            )\n",
    "            if v != u\n",
    "            else\n",
    "            1.0\n",
    "            for v in range(N)\n",
    "        ]\n",
    "        return result\n",
    "        \n",
    "    def item_similarity(self, test_item):\n",
    "        \"\"\"test_item - вектор соответствующий фильму\"\"\"\n",
    "        #╰( ͡° ͜ʖ ͡° )つ──☆*:・\n",
    "        M = len(self.ratings)\n",
    "        N = len(self.ratings[0])\n",
    "        \n",
    "        i = -1\n",
    "        i = [ind for ind, item in enumerate(self.ratings) if (item == test_item).all()][0]\n",
    "        if i == -1:\n",
    "            return np.zeros(M)\n",
    "        users = np.where(test != 0)[0]\n",
    "        Uij = [set() for i in range(M)]\n",
    "        [[Uij[j].add(u) for j in range(M) if j != i and self.ratings[j][u]] for u in users]\n",
    "\n",
    "        r_normalized = self.ratings - np.true_divide(self.ratings.sum(1),(self.ratings!=0).sum(1)).reshape(-1,1)\n",
    "        \n",
    "        result = [\n",
    "            np.dot(r_normalized[i][list(Uij[j])], r_normalized[j][list(Uij[j])]) / (\n",
    "                np.sqrt(\n",
    "                    np.dot(r_normalized[i][list(Uij[j])],r_normalized[i][list(Uij[j])]) *\n",
    "                    np.dot(r_normalized[j][list(Uij[j])],r_normalized[j][list(Uij[j])])\n",
    "                )\n",
    "            )\n",
    "            if j != i\n",
    "            else\n",
    "            1.0\n",
    "            for j in range(M)\n",
    "        ]\n",
    "        return result\n",
    "    "
   ]
  },
  {
   "cell_type": "markdown",
   "metadata": {
    "colab_type": "text",
    "id": "1e9cSjjpkIDi"
   },
   "source": [
    "Проведем элементарные проверки на корректность реализации:"
   ]
  },
  {
   "cell_type": "code",
   "execution_count": 136,
   "metadata": {
    "colab": {},
    "colab_type": "code",
    "id": "s4sVT6SDHERI"
   },
   "outputs": [],
   "source": [
    "I = np.array([[0.5, 0.4, 0, 0.1], \n",
    "         [0, 0.1, 0.2, 0.5], \n",
    "         [0.5, 0.5, 0.4, 0],\n",
    "         [0.5, 0.4, 0.5, 0.1]])\n",
    "item_based = MemoryBased(I)\n",
    "result = item_based.user_similarity(np.array([0.5, 0.4, 0, 0.1]))\n",
    "assert np.all(np.round(result, 2) == np.array([1.0, -0.94, 0.92, 0.97]))"
   ]
  },
  {
   "cell_type": "markdown",
   "metadata": {
    "colab_type": "text",
    "id": "DrufT95YzeAl"
   },
   "source": [
    "### Задание 2"
   ]
  },
  {
   "cell_type": "markdown",
   "metadata": {
    "colab_type": "text",
    "id": "GgsrZEsFzeAm"
   },
   "source": [
    "#### User-Based\n",
    "В подходе на основе сходств пользователей\n",
    "определяется множество $U(u_0)$ пользователей, похожих на данного:\n",
    "$$\n",
    "    U(u_0)\n",
    "    =\n",
    "    \\{v \\in U\n",
    "        |\n",
    "        w_{u_0 v} > \\alpha\n",
    "    \\}.\n",
    "$$\n",
    "После этого для каждого товара вычисляется, как часто он покупался пользователями из $U(u_0)$:\n",
    "$$\n",
    "    p_{i}\n",
    "    =\n",
    "    \\frac{\n",
    "        |\\{u \\in U(u_0) | \\exists r_{ui}\\}|\n",
    "    }{\n",
    "        |U(u_0)|\n",
    "    }.\n",
    "$$\n",
    "Пользователю рекомендуются $k$ товаров с наибольшими значениями $p_i$.\n",
    "Данный подход позволяет строить рекомендации, если для данного пользователя найдутся похожие.\n",
    "Если же пользователь является нетипичным, то подобрать что-либо не получится."
   ]
  },
  {
   "cell_type": "markdown",
   "metadata": {
    "colab_type": "text",
    "id": "-yUQKULhzeAm"
   },
   "source": [
    "Реализуйте класс `UserBased`, наследованный от `MemoryBased`. Считайте, что $\\alpha = 0$.\n",
    "\n",
    "Класс `UserBased` должен иметь метод реализованный `recomendation_k` с параметром k, возвращающий матрицу предсказаний размера N x k (для каждого пользователя из user_vectors предсказывать top-k фильмов)."
   ]
  },
  {
   "cell_type": "code",
   "execution_count": 121,
   "metadata": {
    "colab": {},
    "colab_type": "code",
    "id": "9zd5AbaxzeAn"
   },
   "outputs": [],
   "source": [
    "from tqdm import tqdm\n",
    "class UserBased(MemoryBased):\n",
    "    def recomendation_k(self, user_vectors, k=20):\n",
    "        \"\"\"user_vectors - матрица размера N x M, где M - общее число фильмов, N - число пользователей, для которых делаем рекомендации\"\"\"\n",
    "        try:\n",
    "            N, M = user_vectors.shape\n",
    "        except:\n",
    "            N, M = 1, len(user_vectors)\n",
    "            user_vectors = user_vectors.reshape(1,-1)\n",
    "        res = [[] for i in range(N)]\n",
    "        for ind, user in enumerate(tqdm(user_vectors)):\n",
    "            wu = np.array(self.user_similarity(user))\n",
    "            # wu[ind] = 0\n",
    "            U = np.where(wu > 0)[0]\n",
    "            # where0 = np.where(user == 0)[0]\n",
    "            # R = self.ratings[:, where0]\n",
    "            where1 = np.where(user != 0)[0]\n",
    "            if len(U) != 0:\n",
    "                Pi = (self.ratings[U] != 0).sum(axis=0) / len(U)\n",
    "            else:\n",
    "                Pi = user\n",
    "            Pi[where1]=0\n",
    "            res[ind] = sorted(range(M), key=lambda mu: Pi[mu], reverse=True)\n",
    "        return np.array(res)[:,:k]"
   ]
  },
  {
   "cell_type": "markdown",
   "metadata": {
    "colab_type": "text",
    "id": "Vxat_Wl_j-Y_"
   },
   "source": [
    "Проведем элементарные проверки на корректность реализации:"
   ]
  },
  {
   "cell_type": "code",
   "execution_count": 122,
   "metadata": {
    "colab": {},
    "colab_type": "code",
    "id": "TWt35KMtPROD"
   },
   "outputs": [
    {
     "name": "stderr",
     "output_type": "stream",
     "text": [
      "100%|██████████| 1/1 [00:00<00:00, 136.03it/s]\n"
     ]
    }
   ],
   "source": [
    "I = np.array([[0.5, 0.4, 0, 0.1], \n",
    "         [0, 0.1, 0.2, 0.5], \n",
    "         [0.5, 0.5, 0.4, 0],\n",
    "         [0.5, 0.4, 0.5, 0.1]])\n",
    "check = UserBased(I)\n",
    "res = check.recomendation_k(np.array([0.5, 0.4, 0, 0.1]), k=1)\n",
    "res\n",
    "assert np.all(res == np.array([2]))"
   ]
  },
  {
   "cell_type": "markdown",
   "metadata": {
    "colab_type": "text",
    "id": "3S4xZLDYzeAo"
   },
   "source": [
    "### Задание 3"
   ]
  },
  {
   "cell_type": "markdown",
   "metadata": {
    "colab_type": "text",
    "id": "iZkE_wDszeAo"
   },
   "source": [
    "#### Item-Based \n",
    "\n",
    "Определяется множество фильмов, похожих на те, которые интересовали данного пользователя:\n",
    "$$\n",
    "    I(u_0)\n",
    "    =\n",
    "    \\{\n",
    "        i \\in I\n",
    "        |\n",
    "        \\exists r_{u_0 i_0},\n",
    "        w_{i_0 i} > \\alpha\n",
    "    \\}.\n",
    "$$\n",
    "Затем для каждого товара из этого множества вычисляется его сходство с пользователем:\n",
    "$$\n",
    "    p_i\n",
    "    =\n",
    "    \\max_{i_0: \\exists r_{u_0 i_0}}\n",
    "    w_{i_0 i}.\n",
    "$$\n",
    "Пользователю рекомендуются $k$ фильмов с наибольшими значениями $p_i$.\n"
   ]
  },
  {
   "cell_type": "markdown",
   "metadata": {
    "colab_type": "text",
    "id": "WWncGdC2zeAo"
   },
   "source": [
    "Реализуйте класс `ItemBased`, наследованный от `MemoryBased`.\n",
    "\n",
    "Класс `ItemBased` должен иметь метод реализованный `recomendation_k` с параметром k, возвращающий матрицу предсказаний размера N x k (для каждого пользователя из user_vectors предсказывать top-k фильмов)."
   ]
  },
  {
   "cell_type": "code",
   "execution_count": 172,
   "metadata": {
    "colab": {},
    "colab_type": "code",
    "id": "h4aYDmiEzeAq"
   },
   "outputs": [],
   "source": [
    "class ItemBased(MemoryBased):\n",
    "    def recomendation_k(self, user_vectors, k=20):\n",
    "        \"\"\"user_vectors - матрица размера N x M, где M - общее число фильмов, N - число пользователей, для которых делаем рекомендации\"\"\"\n",
    "        #╰( ͡° ͜ʖ ͡° )つ──☆*:・\n",
    "        try:\n",
    "            N, M = user_vectors.shape\n",
    "        except:\n",
    "            N, M = 1, len(user_vectors)\n",
    "            user_vectors = user_vectors.reshape(1,-1)\n",
    "            \n",
    "        w = []\n",
    "        res = [[] for i in range(N)]\n",
    "        \n",
    "        for i in tqdm(range(M)):\n",
    "            w.append(np.array(self.item_similarity(self.ratings[i])))\n",
    "                    \n",
    "        for ind, u0 in enumerate(tqdm(user_vectors)):\n",
    "            i0_s = np.where(u0 != 0)[0]\n",
    "            I_u0 = set()\n",
    "            for i0 in i0_s:\n",
    "                I_u0.update(np.where(w[i0] > 0)[0])\n",
    "            P = np.zeros(M)\n",
    "            for i in I_u0:\n",
    "                P[i] = np.max(w[i][i0_s])\n",
    "            res[ind] = sorted(range(M), key=lambda mu: P[mu], reverse=True)\n",
    "        return np.array(res)[:,:k]"
   ]
  },
  {
   "cell_type": "code",
   "execution_count": 173,
   "metadata": {},
   "outputs": [
    {
     "name": "stderr",
     "output_type": "stream",
     "text": [
      "  0%|          | 0/4 [00:00<?, ?it/s]/home/dilara/anaconda3/lib/python3.7/site-packages/ipykernel_launcher.py:63: RuntimeWarning: invalid value encountered in double_scalars\n",
      "100%|██████████| 4/4 [00:00<00:00, 589.27it/s]\n",
      "  0%|          | 0/1 [00:00<?, ?it/s]/home/dilara/anaconda3/lib/python3.7/site-packages/ipykernel_launcher.py:21: RuntimeWarning: invalid value encountered in greater\n",
      "100%|██████████| 1/1 [00:00<00:00, 512.13it/s]\n"
     ]
    },
    {
     "data": {
      "text/plain": [
       "array([[0]])"
      ]
     },
     "execution_count": 173,
     "metadata": {},
     "output_type": "execute_result"
    }
   ],
   "source": [
    "I = np.array([[0.5, 0.4, 0, 0.1], \n",
    "         [0, 0.1, 0.2, 0.5], \n",
    "         [0.5, 0.5, 0.4, 0],\n",
    "         [0.5, 0.4, 0.5, 0.1]])\n",
    "item_based = ItemBased(I.T)\n",
    "res = item_based.recomendation_k(np.array([0.5, 0.5, 0.4, 0]), k=1)\n",
    "res"
   ]
  },
  {
   "cell_type": "markdown",
   "metadata": {
    "colab_type": "text",
    "id": "S5QehC_GzeAs"
   },
   "source": [
    "### Задание 4"
   ]
  },
  {
   "cell_type": "markdown",
   "metadata": {
    "colab_type": "text",
    "id": "Rz0ToXeWzeAs"
   },
   "source": [
    "Сформируйте матрицы $R = \\{r_{ui}\\}_{u \\in U, \\, i \\in I}$ по данным `transactions_train` и `transactions_test`, где $r_{ui}$ — доля времени взаимодействовия пользователя с фильмом.\n",
    "\n",
    "С помощью Item-Based и User-Based подходов получите предсказания для пользователей из тестовой выборки и оцените качество с помощью реализованной в задании 0 функции `mnap_k` при `k=20`."
   ]
  },
  {
   "cell_type": "code",
   "execution_count": 123,
   "metadata": {},
   "outputs": [],
   "source": [
    "R_train = transactions_train.pivot(index='user_uid', columns='element_uid', values='target')\n",
    "R_train.fillna(0, inplace=True)"
   ]
  },
  {
   "cell_type": "code",
   "execution_count": 124,
   "metadata": {
    "colab": {},
    "colab_type": "code",
    "id": "j-CIK0uczeAt",
    "scrolled": true
   },
   "outputs": [],
   "source": [
    "R_test = transactions_test.pivot(index='user_uid', columns='element_uid', values='target')\n",
    "R_test.fillna(0, inplace=True)"
   ]
  },
  {
   "cell_type": "code",
   "execution_count": 125,
   "metadata": {},
   "outputs": [
    {
     "data": {
      "text/plain": [
       "((4498, 5124), (2733, 3578))"
      ]
     },
     "execution_count": 125,
     "metadata": {},
     "output_type": "execute_result"
    }
   ],
   "source": [
    "R_train.shape, R_test.shape"
   ]
  },
  {
   "cell_type": "code",
   "execution_count": 126,
   "metadata": {},
   "outputs": [],
   "source": [
    "train_items = set(R_train.columns)\n",
    "test_items = set(R_test.columns)\n",
    "to_add = test_items - train_items.intersection(test_items)"
   ]
  },
  {
   "cell_type": "code",
   "execution_count": 127,
   "metadata": {},
   "outputs": [],
   "source": [
    "R_train_on = pd.concat([R_train,pd.DataFrame(columns=to_add)])\n",
    "R_train_on.fillna(0, inplace=True)"
   ]
  },
  {
   "cell_type": "code",
   "execution_count": 128,
   "metadata": {},
   "outputs": [],
   "source": [
    "R = R_train_on.reindex(R_test.index, fill_value=0.0)\n",
    "R.fillna(0, inplace=True)\n",
    "R = R.to_numpy()"
   ]
  },
  {
   "cell_type": "code",
   "execution_count": 129,
   "metadata": {},
   "outputs": [],
   "source": [
    "R_test_mat = R_test.to_numpy()\n",
    "R_train_mat = R_train_on.to_numpy()"
   ]
  },
  {
   "cell_type": "code",
   "execution_count": null,
   "metadata": {},
   "outputs": [
    {
     "name": "stderr",
     "output_type": "stream",
     "text": [
      "  0%|          | 0/2733 [00:00<?, ?it/s]/home/dilara/anaconda3/lib/python3.7/site-packages/ipykernel_launcher.py:23: RuntimeWarning: Mean of empty slice\n",
      "/home/dilara/anaconda3/lib/python3.7/site-packages/ipykernel_launcher.py:27: RuntimeWarning: invalid value encountered in true_divide\n",
      "  0%|          | 5/2733 [00:05<50:51,  1.12s/it]/home/dilara/anaconda3/lib/python3.7/site-packages/ipykernel_launcher.py:16: RuntimeWarning: Mean of empty slice\n",
      "  app.launch_new_instance()\n",
      " 15%|█▌        | 412/2733 [04:48<29:19,  1.32it/s]"
     ]
    }
   ],
   "source": [
    "ub = UserBased(R_train_mat)\n",
    "predict_ub = ub.recomendation_k(R, k=20)"
   ]
  },
  {
   "cell_type": "code",
   "execution_count": 131,
   "metadata": {},
   "outputs": [],
   "source": [
    "items = list(list(R_train_on.columns))\n",
    "to_map = dict(zip(range(len(items)), items))\n",
    "predict = np.vectorize(to_map.get)(predict_ub)"
   ]
  },
  {
   "cell_type": "code",
   "execution_count": 132,
   "metadata": {},
   "outputs": [],
   "source": [
    "target = []\n",
    "\n",
    "R_tmp = (R_test != 0)\n",
    "for user_id in list(R_tmp.index):\n",
    "    target.append(set(R_tmp.loc[user_id][R_tmp.loc[user_id] != 0].index))"
   ]
  },
  {
   "cell_type": "code",
   "execution_count": 134,
   "metadata": {},
   "outputs": [
    {
     "data": {
      "text/plain": [
       "0.012139236896329501"
      ]
     },
     "execution_count": 134,
     "metadata": {},
     "output_type": "execute_result"
    }
   ],
   "source": [
    "mnap_k(predict, target)"
   ]
  },
  {
   "cell_type": "code",
   "execution_count": 134,
   "metadata": {},
   "outputs": [
    {
     "data": {
      "text/plain": [
       "0.013785710752946738"
      ]
     },
     "execution_count": 134,
     "metadata": {},
     "output_type": "execute_result"
    }
   ],
   "source": [
    "mnap_k(predict, target)"
   ]
  },
  {
   "cell_type": "code",
   "execution_count": 174,
   "metadata": {},
   "outputs": [
    {
     "name": "stderr",
     "output_type": "stream",
     "text": [
      "  0%|          | 0/5552 [00:00<?, ?it/s]/home/dilara/anaconda3/lib/python3.7/site-packages/ipykernel_launcher.py:51: RuntimeWarning: invalid value encountered in true_divide\n",
      "/home/dilara/anaconda3/lib/python3.7/site-packages/ipykernel_launcher.py:63: RuntimeWarning: invalid value encountered in double_scalars\n",
      "100%|██████████| 5552/5552 [26:39<00:00,  3.47it/s]\n",
      "  0%|          | 0/2733 [00:00<?, ?it/s]/home/dilara/anaconda3/lib/python3.7/site-packages/ipykernel_launcher.py:21: RuntimeWarning: invalid value encountered in greater\n",
      "100%|██████████| 2733/2733 [00:06<00:00, 450.08it/s]\n"
     ]
    }
   ],
   "source": [
    "ib = ItemBased(R_train_mat.T)\n",
    "predict_ib = ib.recomendation_k(R, k=20)"
   ]
  },
  {
   "cell_type": "code",
   "execution_count": 175,
   "metadata": {},
   "outputs": [],
   "source": [
    "predict2 = np.vectorize(to_map.get)(predict_ib)"
   ]
  },
  {
   "cell_type": "code",
   "execution_count": 176,
   "metadata": {},
   "outputs": [
    {
     "data": {
      "text/plain": [
       "0.0007968460195996637"
      ]
     },
     "execution_count": 176,
     "metadata": {},
     "output_type": "execute_result"
    }
   ],
   "source": [
    "mnap_k(predict2, target)"
   ]
  },
  {
   "cell_type": "markdown",
   "metadata": {
    "colab_type": "text",
    "id": "Ysx3umr4zeAv"
   },
   "source": [
    "### Задание 5"
   ]
  },
  {
   "cell_type": "markdown",
   "metadata": {
    "colab_type": "text",
    "id": "ugwCfjQKzeAv"
   },
   "source": [
    "#### Latent factor model (LFM)"
   ]
  },
  {
   "cell_type": "markdown",
   "metadata": {
    "colab_type": "text",
    "id": "4WTN48_vzeAv"
   },
   "source": [
    "В этом подходе значение целовой переменной $r_{ui}$ пользователя $u$, поставленная фильму $i$, ищется как скалярное произведение векторов $p_u$ и $q_i$ в некотором пространстве $R^K$ латентных признаков:\n",
    "$$\n",
    "    r_{ui}\n",
    "    \\approx\n",
    "    \\langle p_u, q_i \\rangle.\n",
    "$$\n",
    "\n",
    "\n",
    "\n",
    "Иными словами, модель находит пространство признаков, в котором мы описываем и фильмы, и пользователей и в котором целевая переменная является мерой близости между фильмами и пользователями.\n",
    "\n",
    "Для настройки модели будем минимизировать следующий функционал:\n",
    "\n",
    "\\begin{equation}\n",
    "\\label{eq:lfmReg}\n",
    "    \\sum_{(u, i) \\in R}\n",
    "        \\left(\n",
    "            r_{ui}\n",
    "            - \\langle p_u, q_i \\rangle\n",
    "        \\right)^2\n",
    "    +\n",
    "    \\lambda\n",
    "    \\sum_{u \\in U}\n",
    "        \\|p_u\\|^2\n",
    "    +\n",
    "    \\mu\n",
    "    \\sum_{i \\in I}\n",
    "        \\|q_i\\|^2\n",
    "    \\to\n",
    "    \\min_{P, Q}\n",
    "\\end{equation}\n",
    "\n",
    "В [статье](https://dl.acm.org/doi/10.1145/1864708.1864726) описан метод оптимизации ALS (Alternating Least Squares) для данного функционала.\n",
    "В методе проводятся $N$ итераций, в рамках каждой итерации сначала оптимизируется $p$ при фиксированном\n",
    "$q$, затем $q$ при фиксированном $p$.\n",
    "\n",
    "Составим матрицу $P$ из векторов $p_u$ и матрицу $Q$ из векторов $q_i$. Матрицей $Q[u] \\in R^{n_u×K}$ будем обозначать подматрицу матрицы $Q$ только для товаров, оцененных пользователем $u$, где $n_u$ – количество оценок пользователя $u$.\n",
    "Шаг перенастройки $p_u$ при фиксированной матрице $Q$ сводится к настройке Ridge-регрессии и выглядит так:\n",
    "$$A_u = Q[u]^T Q[u] $$\n",
    "$$d_u = Q[u]^Tr_u $$\n",
    "$$p_u = (\\lambda n_uI + A_u)^{−1}d_u\n",
    "$$\n",
    "\n",
    "Выпишите формулы для перенастройки $q_i$ при фиксированной матрице $P$."
   ]
  },
  {
   "cell_type": "markdown",
   "metadata": {
    "colab_type": "text",
    "id": "SXdVq5eklLUR"
   },
   "source": [
    "**Ответ:**"
   ]
  },
  {
   "cell_type": "markdown",
   "metadata": {},
   "source": [
    "$$A_i = P[i]^T P[i] $$\n",
    "$$d_i = P[i]^Tr_i $$\n",
    "$$q_i = (\\mu n_iI + A_i)^{−1}d_i\n",
    "$$"
   ]
  },
  {
   "cell_type": "markdown",
   "metadata": {
    "colab_type": "text",
    "id": "8dsbMsLqzeAw"
   },
   "source": [
    "Реализуйте функцию `latent_factor`, которая для каждого пользователя из списка `test` возвращает top-k идентификаторов контента (`element_uid`).\n",
    "\n",
    "Для тестирования матрицы `P` и `Q` задайте случайными `0.1 * np.random.random(...)`.\n",
    "\n",
    "Исследуйте качество и время работы в зависимости от размерности $K$\n",
    "пространства латентных признаков. Ведет ли увеличение $K$ к переобучению?\n"
   ]
  },
  {
   "cell_type": "code",
   "execution_count": 147,
   "metadata": {},
   "outputs": [],
   "source": [
    "from scipy.sparse import *\n",
    "from scipy.sparse.linalg import norm\n",
    "\n",
    "def score(R_sparce, Q, P):\n",
    "    P_sparce = csr_matrix(P)\n",
    "    Q_sparce = csr_matrix(Q)\n",
    "    \n",
    "    a = norm(R_sparce - np.dot(P_sparce, Q_sparce.T), 'fro') ** 2\n",
    "    b = lambda_ * norm(P_sparce, 'fro') ** 2\n",
    "    c = mu * norm(Q_sparce, 'fro') ** 2\n",
    "    return  a + b + c"
   ]
  },
  {
   "cell_type": "code",
   "execution_count": 93,
   "metadata": {},
   "outputs": [],
   "source": [
    "def descent(P, Q, R, E, lambda_, mu, tolerance = 1e-4):\n",
    "    loss = []\n",
    "    loss.append(score(csr_matrix(R), Q, P))\n",
    "    \n",
    "    K = P.shape[1]\n",
    "    U, I = R.shape\n",
    "    \n",
    "    for e in tqdm(range(E)):\n",
    "        P_new = P.copy()\n",
    "        Q_new = Q.copy()\n",
    "        for u in range(U):\n",
    "            Iu = np.where(R[u] != 0)[0]\n",
    "            A = np.dot(Q[Iu].T, Q[Iu])\n",
    "            nu = len(Iu)\n",
    "            ru = R[u][Iu]\n",
    "            E = lambda_ * np.eye(K)\n",
    "            pu = np.linalg.lstsq(E + A, np.dot(Q[Iu].T, ru))[0]\n",
    "            P_new[u] = pu\n",
    "        if np.linalg.norm(P_new - P, ord=2) <= tolerance:\n",
    "            P = P_new.copy()\n",
    "            break\n",
    "        P = P_new.copy()\n",
    "                \n",
    "        for i in range(I):\n",
    "            Ui = np.where(R[:,i] != 0)[0]\n",
    "            A = np.dot(P[Ui].T, P[Ui])\n",
    "            ni = len(Ui)\n",
    "            ri = R[:,i][Ui]\n",
    "            E = mu * np.eye(K)\n",
    "            qi = np.linalg.lstsq(E + A, np.dot(P[Ui].T, ri))[0]\n",
    "            Q_new[i] = qi\n",
    "        if np.linalg.norm(Q_new - Q, ord=2) <= tolerance:\n",
    "            Q = Q_new.copy()\n",
    "            break\n",
    "        Q = Q_new.copy()\n",
    "        loss.append(score(csr_matrix(R), Q, P))\n",
    "    return P, Q, loss"
   ]
  },
  {
   "cell_type": "code",
   "execution_count": 94,
   "metadata": {
    "colab": {},
    "colab_type": "code",
    "id": "2R4wh7UEzeA0"
   },
   "outputs": [],
   "source": [
    "def latent_factor(train, target, test, lambda_, mu, N, K, P, Q, k = 20):\n",
    "    new_users = set(test) - set(test).intersection(set(train['user_uid'].values))\n",
    "    # test = list(set(test).intersection(set(train['user_uid'].values)))\n",
    "    \n",
    "    R = train\n",
    "    R['target'] = target\n",
    "    R = R.pivot(index='user_uid', columns='element_uid', values='target')\n",
    "    R.fillna(0, inplace=True)\n",
    "    \n",
    "    pp, qq, loss = descent(P, Q, R.to_numpy(), N, lambda_, mu)\n",
    "    res = np.dot(pp, qq.T)\n",
    "\n",
    "    new_R = pd.DataFrame(res, columns = list(R.columns), index =list(R.index))\n",
    "    most_popular = list(np.sum(new_R != 0).sort_values(ascending=False).index)[:k]\n",
    "\n",
    "    recommendation = []\n",
    "    for user_id in test:\n",
    "        if user_id in new_users:\n",
    "            top_k = most_popular.copy()\n",
    "        else:\n",
    "            top_k = list(new_R.loc[user_id].sort_values(ascending=False).index)[:k]\n",
    "        recommendation.append(top_k)\n",
    "        \n",
    "    return np.array(recommendation), loss"
   ]
  },
  {
   "cell_type": "code",
   "execution_count": 227,
   "metadata": {
    "colab": {},
    "colab_type": "code",
    "id": "rrvd3O-1XuMN"
   },
   "outputs": [
    {
     "name": "stderr",
     "output_type": "stream",
     "text": [
      "100%|██████████| 20/20 [00:00<00:00, 245.87it/s]\n"
     ]
    }
   ],
   "source": [
    "import warnings\n",
    "warnings.simplefilter(\"ignore\")\n",
    "from tqdm import tqdm\n",
    "\n",
    "train = pd.DataFrame({'user_uid': [1, 1, 2, 2], 'element_uid': [1, 2, 3, 4]})\n",
    "target =  np.array( [0.1, 0.8, 0.2, 0.3 ])\n",
    "test = np.array([1, 2])\n",
    "lambda_ = 0.2\n",
    "mu = 0.001\n",
    "N = 20\n",
    "K = 10\n",
    "us = train.loc[:,'user_uid'].astype('int')\n",
    "mov = train.loc[:,'element_uid'].astype('int')\n",
    "U = np.unique(us)\n",
    "I = np.unique(mov)\n",
    "Q = 0.1 * np.ones((I.max(), K))\n",
    "P = 0.1 * np.ones((U.max(), K))\n",
    "assert np.all(latent_factor(train, target, test, lambda_, mu, N, K, P, Q, k = 1)[0] == np.array([[2], [2]]))"
   ]
  },
  {
   "cell_type": "markdown",
   "metadata": {
    "colab_type": "text",
    "id": "Rw6aMTldzeA1"
   },
   "source": [
    "Оцените  качество разботы функции `latent_factor` на тестовой выборке по метрике `mnap_k` при `k=20`."
   ]
  },
  {
   "cell_type": "code",
   "execution_count": 233,
   "metadata": {
    "colab": {},
    "colab_type": "code",
    "id": "z1n5FThezeAy"
   },
   "outputs": [],
   "source": [
    "train = transactions_train[['user_uid', 'element_uid']]\n",
    "target = transactions_train['target']\n",
    "test = transactions_test['user_uid'].unique()"
   ]
  },
  {
   "cell_type": "code",
   "execution_count": 234,
   "metadata": {},
   "outputs": [],
   "source": [
    "Rtarget = transactions_test.pivot(index='user_uid', columns='element_uid', values='target')\n",
    "Rtarget.fillna(0, inplace=True)\n",
    "\n",
    "trgt = []\n",
    "\n",
    "for t in test:\n",
    "    trgt.append(set(Rtarget.loc[t][Rtarget.loc[t] != 0].index))"
   ]
  },
  {
   "cell_type": "code",
   "execution_count": 152,
   "metadata": {},
   "outputs": [
    {
     "name": "stderr",
     "output_type": "stream",
     "text": [
      "100%|██████████| 100/100 [12:03<00:00,  7.24s/it]\n"
     ]
    }
   ],
   "source": [
    "us = train.loc[:,'user_uid'].astype('int')\n",
    "mov = train.loc[:,'element_uid'].astype('int')\n",
    "U = len(np.unique(us))\n",
    "I = len(np.unique(mov))\n",
    "Q = 0.1 * np.random.random((I, K))\n",
    "P = 0.1 * np.random.random((U, K))\n",
    "N = 100\n",
    "\n",
    "pred = latent_factor(train, target, test, lambda_, mu, N, K, P, Q, k = 20)"
   ]
  },
  {
   "cell_type": "code",
   "execution_count": 154,
   "metadata": {},
   "outputs": [
    {
     "data": {
      "text/plain": [
       "0.0010856364711281515"
      ]
     },
     "execution_count": 154,
     "metadata": {},
     "output_type": "execute_result"
    }
   ],
   "source": [
    "mnap_k(pred[0], trgt)"
   ]
  },
  {
   "cell_type": "code",
   "execution_count": 246,
   "metadata": {},
   "outputs": [
    {
     "name": "stderr",
     "output_type": "stream",
     "text": [
      "\n",
      "\n",
      "\n",
      "  0%|          | 0/10 [00:00<?, ?it/s]\u001b[A\u001b[A\u001b[A\n",
      "\n",
      "\n",
      " 10%|█         | 1/10 [00:09<01:29,  9.98s/it]\u001b[A\u001b[A\u001b[A\n",
      "\n",
      "\n",
      " 20%|██        | 2/10 [00:19<01:18,  9.76s/it]\u001b[A\u001b[A\u001b[A\n",
      "\n",
      "\n",
      " 30%|███       | 3/10 [00:27<01:04,  9.24s/it]\u001b[A\u001b[A\u001b[A\n",
      "\n",
      "\n",
      " 40%|████      | 4/10 [00:36<00:56,  9.34s/it]\u001b[A\u001b[A\u001b[A\n",
      "\n",
      "\n",
      " 50%|█████     | 5/10 [00:46<00:47,  9.45s/it]\u001b[A\u001b[A\u001b[A\n",
      "\n",
      "\n",
      " 60%|██████    | 6/10 [00:56<00:38,  9.66s/it]\u001b[A\u001b[A\u001b[A\n",
      "\n",
      "\n",
      " 70%|███████   | 7/10 [01:06<00:28,  9.63s/it]\u001b[A\u001b[A\u001b[A\n",
      "\n",
      "\n",
      " 80%|████████  | 8/10 [01:15<00:19,  9.62s/it]\u001b[A\u001b[A\u001b[A\n",
      "\n",
      "\n",
      " 90%|█████████ | 9/10 [01:24<00:09,  9.19s/it]\u001b[A\u001b[A\u001b[A\n",
      "\n",
      "\n",
      "100%|██████████| 10/10 [01:32<00:00,  9.30s/it]\u001b[A\u001b[A\u001b[A\n",
      "\n",
      "\n",
      "\n",
      "  0%|          | 0/10 [00:00<?, ?it/s]\u001b[A\u001b[A\u001b[A\n",
      "\n",
      "\n",
      " 10%|█         | 1/10 [00:09<01:23,  9.25s/it]\u001b[A\u001b[A\u001b[A\n",
      "\n",
      "\n",
      " 20%|██        | 2/10 [00:20<01:18,  9.81s/it]\u001b[A\u001b[A\u001b[A\n",
      "\n",
      "\n",
      " 30%|███       | 3/10 [00:33<01:16, 10.88s/it]\u001b[A\u001b[A\u001b[A\n",
      "\n",
      "\n",
      " 40%|████      | 4/10 [00:43<01:03, 10.67s/it]\u001b[A\u001b[A\u001b[A\n",
      "\n",
      "\n",
      " 50%|█████     | 5/10 [00:54<00:53, 10.64s/it]\u001b[A\u001b[A\u001b[A\n",
      "\n",
      "\n",
      " 60%|██████    | 6/10 [01:03<00:40, 10.14s/it]\u001b[A\u001b[A\u001b[A\n",
      "\n",
      "\n",
      " 70%|███████   | 7/10 [01:12<00:29,  9.93s/it]\u001b[A\u001b[A\u001b[A\n",
      "\n",
      "\n",
      " 80%|████████  | 8/10 [01:22<00:19,  9.90s/it]\u001b[A\u001b[A\u001b[A\n",
      "\n",
      "\n",
      " 90%|█████████ | 9/10 [01:33<00:10, 10.14s/it]\u001b[A\u001b[A\u001b[A\n",
      "\n",
      "\n",
      "100%|██████████| 10/10 [01:41<00:00, 10.20s/it]\u001b[A\u001b[A\u001b[A\n",
      "\n",
      "\n",
      "\n",
      "  0%|          | 0/10 [00:00<?, ?it/s]\u001b[A\u001b[A\u001b[A\n",
      "\n",
      "\n",
      " 10%|█         | 1/10 [00:13<01:59, 13.25s/it]\u001b[A\u001b[A\u001b[A\n",
      "\n",
      "\n",
      " 20%|██        | 2/10 [00:24<01:40, 12.57s/it]\u001b[A\u001b[A\u001b[A\n",
      "\n",
      "\n",
      " 30%|███       | 3/10 [00:35<01:24, 12.08s/it]\u001b[A\u001b[A\u001b[A\n",
      "\n",
      "\n",
      " 40%|████      | 4/10 [00:51<01:20, 13.46s/it]\u001b[A\u001b[A\u001b[A\n",
      "\n",
      "\n",
      " 50%|█████     | 5/10 [01:03<01:04, 12.95s/it]\u001b[A\u001b[A\u001b[A\n",
      "\n",
      "\n",
      " 60%|██████    | 6/10 [01:17<00:52, 13.20s/it]\u001b[A\u001b[A\u001b[A\n",
      "\n",
      "\n",
      " 70%|███████   | 7/10 [01:30<00:39, 13.28s/it]\u001b[A\u001b[A\u001b[A\n",
      "\n",
      "\n",
      " 80%|████████  | 8/10 [01:47<00:28, 14.24s/it]\u001b[A\u001b[A\u001b[A\n",
      "\n",
      "\n",
      " 90%|█████████ | 9/10 [01:59<00:13, 13.65s/it]\u001b[A\u001b[A\u001b[A\n",
      "\n",
      "\n",
      "100%|██████████| 10/10 [02:10<00:00, 13.02s/it]\u001b[A\u001b[A\u001b[A\n"
     ]
    }
   ],
   "source": [
    "import time\n",
    "N = 10\n",
    "times = []\n",
    "mnaps = []\n",
    "\n",
    "for K in np.arange(20, 50, 10):\n",
    "    Q = 0.1 * np.random.random((I, K))\n",
    "    P = 0.1 * np.random.random((U, K))\n",
    "    start = time.time()\n",
    "    mnaps.append(mnap_k(latent_factor(train, target, test, lambda_, mu, N, K, P, Q, k = 20)[0], trgt))\n",
    "    end = time.time()\n",
    "    times.append(end - start)"
   ]
  },
  {
   "cell_type": "code",
   "execution_count": 252,
   "metadata": {},
   "outputs": [
    {
     "data": {
      "image/png": "[encoded data removed]",
      "text/plain": [
       "<Figure size 432x288 with 1 Axes>"
      ]
     },
     "metadata": {
      "needs_background": "light"
     },
     "output_type": "display_data"
    }
   ],
   "source": [
    "import matplotlib.pyplot as plt\n",
    "\n",
    "plt.plot(np.arange(20, 50, 10), mnaps)\n",
    "plt.xlabel('K')\n",
    "plt.ylabel('mnap')\n",
    "plt.title('Mnap от К')\n",
    "plt.show()"
   ]
  },
  {
   "cell_type": "code",
   "execution_count": 253,
   "metadata": {},
   "outputs": [
    {
     "data": {
      "image/png": "[encoded data removed]",
      "text/plain": [
       "<Figure size 432x288 with 1 Axes>"
      ]
     },
     "metadata": {
      "needs_background": "light"
     },
     "output_type": "display_data"
    }
   ],
   "source": [
    "plt.plot(np.arange(20, 50, 10), times)\n",
    "plt.xlabel('K')\n",
    "plt.ylabel('mnap')\n",
    "plt.title('Time от К')\n",
    "plt.show()"
   ]
  },
  {
   "cell_type": "markdown",
   "metadata": {
    "colab_type": "text",
    "id": "rK1NaPMRzeA1"
   },
   "source": [
    "### Задание 6"
   ]
  },
  {
   "cell_type": "markdown",
   "metadata": {
    "colab_type": "text",
    "id": "s3gLHHM6zeA1"
   },
   "source": [
    "#### Content-based"
   ]
  },
  {
   "cell_type": "markdown",
   "metadata": {
    "colab_type": "text",
    "id": "D3TsV2WgzeA1"
   },
   "source": [
    "В соревновании осталось много неиспользуемых нами данных. \n",
    "Сформируйте из них признаковое описание пары (пользователь, фильм), придумав минимум 10 содержательных (!) признаков. Целевой переменной, как и раньше, будет являться доля времени взаимодействия пользователя и фильма. Соберите данные, обучите на полученных данных линейную регрессию и градиентный бустинг. \n",
    "Для каждого пользователя из тестовой выборки предскажите 20 фильмов, с максимальной долей времени взаимодействия. Оцените качество предсказания с помощью функции `mnap_k` при `k=20`. Какого качество удалось достичь?"
   ]
  },
  {
   "cell_type": "code",
   "execution_count": 292,
   "metadata": {
    "colab": {},
    "colab_type": "code",
    "id": "A19RtJ-TzeA2"
   },
   "outputs": [],
   "source": [
    "bookmarks = pd.read_csv('data/bookmarks.csv')\n",
    "bookmarks = bookmarks.merge(catalogue, left_on=\"element_uid\", right_index=True, how=\"left\")\n",
    "bookmarks['consumption_mode'] = 'B'\n",
    "bookmarks['potreblenie'] = 0\n",
    "bookmarks['book'] = 1\n",
    "ratings['potreblenie'] = 1\n",
    "ratings['consumption_mode'] = 'R'\n",
    "rat = ratings.drop(columns=[\"rating\"])\n",
    "\n",
    "df = transactions_train.copy()\n",
    "df = df.append(bookmarks)\n",
    "df = df.append(rat)\n",
    "df.book.fillna(0, inplace=True)\n",
    "df.drop(columns=[\"availability\", \"attributes\"], inplace=True)\n",
    "df = df[~df.target.isna()]\n",
    "df['potreblenie'] = (df.consumption_mode.isin([\"P\", \"R\"]) |\n",
    "                         ((df.target > 0.5) & (df.type != \"series\")) | \n",
    "                         ((df.target > 1/3) & (df.type == \"series\"))).astype(int)\n",
    "df.drop(columns=['element_uid_x', 'index', 'watched_time', 'element_uid_y'], inplace = True)"
   ]
  },
  {
   "cell_type": "code",
   "execution_count": 293,
   "metadata": {},
   "outputs": [],
   "source": [
    "X = df.drop(columns='target')"
   ]
  },
  {
   "cell_type": "code",
   "execution_count": 294,
   "metadata": {},
   "outputs": [],
   "source": [
    "y = df['target']"
   ]
  },
  {
   "cell_type": "code",
   "execution_count": null,
   "metadata": {},
   "outputs": [],
   "source": [
    "from sklearn.linear_model import LinearRegression"
   ]
  },
  {
   "cell_type": "markdown",
   "metadata": {
    "colab_type": "text",
    "id": "ixbA0kdAcLGs"
   },
   "source": [
    "### Бонусное задание [3+ бонусных балла]\n",
    "\n",
    "Используя любые данные из [конкурса](https://boosters.pro/championship/rekko_sand/overview), постройте предсказания для тестовой выборки из соревнования, отправьте свое решение и преодолейте в лидерборде порог `0.03`.\n",
    "\n",
    "Подробно опишите ваше решение.\n",
    "\n",
    "За преодоление порога вы можете получить от 3 баллов — конкретный балл будет зависеть от качества решения по сравнению с другими студентами, также выполнившими это задание."
   ]
  },
  {
   "cell_type": "code",
   "execution_count": 0,
   "metadata": {
    "colab": {},
    "colab_type": "code",
    "id": "8RPNcurndbaF"
   },
   "outputs": [],
   "source": []
  }
 ],
 "metadata": {
  "colab": {
   "collapsed_sections": [],
   "name": "homework-practice-10-recommendations.ipynb",
   "provenance": []
  },
  "kernelspec": {
   "display_name": "Python 2",
   "language": "python",
   "name": "python2"
  },
  "language_info": {
   "codemirror_mode": {
    "name": "ipython",
    "version": 2
   },
   "file_extension": ".py",
   "mimetype": "text/x-python",
   "name": "python",
   "nbconvert_exporter": "python",
   "pygments_lexer": "ipython2",
   "version": "2.7.6"
  }
 },
 "nbformat": 4,
 "nbformat_minor": 1
}
