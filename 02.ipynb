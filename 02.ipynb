{
 "cells": [
  {
   "cell_type": "markdown",
   "metadata": {},
   "source": [
    "# Машинное обучение, ФКН ВШЭ\n",
    "\n",
    "## Практическое задание 2. Exploratory Data Analysis и линейная регрессия\n",
    "\n",
    "### Общая информация\n",
    "Дата выдачи: 17.09.2019\n",
    "\n",
    "Мягкий дедлайн: 23:59MSK 29.09.2019 (за каждый день просрочки снимается 2 балла)\n",
    "\n",
    "Жесткий дедлайн: 23:59MSK 02.10.2019"
   ]
  },
  {
   "cell_type": "markdown",
   "metadata": {},
   "source": [
    "### О задании\n",
    "В этом задании мы попытаемся научиться анализировать данные и выделять из них полезные признаки. Мы также научимся пользоваться `seaborn` и `sklearn`, а также привыкнем к основным понятиям машинного обучения.\n",
    "\n",
    "### Оценивание и штрафы\n",
    "Каждая из задач имеет определенную «стоимость» (указана в скобках около задачи). Максимально допустимая оценка за работу — 10 баллов. Проверяющий имеет право снизить оценку за неэффективную реализацию, неопрятные графики или **за отсутствие достаточно развернутых ответов на вопросы**.\n",
    "\n",
    "Сдавать задание после указанного срока сдачи нельзя. При выставлении неполного балла за задание в связи с наличием ошибок на усмотрение проверяющего предусмотрена возможность исправить работу на указанных в ответном письме условиях.\n",
    "\n",
    "Задание выполняется самостоятельно. «Похожие» решения считаются плагиатом и все задействованные студенты (в том числе те, у кого списали) не могут получить за него больше 0 баллов (подробнее о плагиате см. на странице курса). Если вы нашли решение какого-то из заданий (или его часть) в открытом источнике, необходимо указать ссылку на этот источник в отдельном блоке в конце вашей работы (скорее всего вы будете не единственным, кто это нашел, поэтому чтобы исключить подозрение в плагиате, необходима ссылка на источник).\n",
    "\n",
    "### Формат сдачи\n",
    "Задания сдаются через систему Anytask. Инвайт можно найти на странице курса. Присылать необходимо ноутбук с выполненным заданием. \n",
    "\n",
    "Для удобства проверки самостоятельно посчитайте свою максимальную оценку (исходя из набора решенных задач) и укажите ниже.\n",
    "\n",
    "Оценка: xx."
   ]
  },
  {
   "cell_type": "markdown",
   "metadata": {},
   "source": [
    "<strong style=\"color: red\">Внимание!</strong> В этом ноутбуке используется библиотека `ipyleaflet`. Чтобы ее установить так, чтобы она работала, нужно совершить 2 простых шага:"
   ]
  },
  {
   "cell_type": "code",
   "execution_count": null,
   "metadata": {},
   "outputs": [],
   "source": [
    "%%bash\n",
    "pip3 install ipyleaflet\n",
    "jupyter nbextension enable --py --sys-prefix ipyleaflet"
   ]
  },
  {
   "cell_type": "markdown",
   "metadata": {},
   "source": [
    "После этого перезапустите сессию (не `Restart Kernel`, а нажмите `Ctrl+C` в терминале, где вы запускали ноутбук, и запустите заново). Лучше это сделать сразу, чтобы потом не пришлось прерывать сессию и терять промежуточные результаты работы. Если все сделано правильно, вы должны увидеть карту Москвы, выполнив ячейку ниже:"
   ]
  },
  {
   "cell_type": "code",
   "execution_count": 1,
   "metadata": {},
   "outputs": [
    {
     "data": {
      "application/vnd.jupyter.widget-view+json": {
       "model_id": "6c8af24bd6e24744825d0d3e31c16f16",
       "version_major": 2,
       "version_minor": 0
      },
      "text/plain": [
       "Map(basemap={'url': 'http://server.arcgisonline.com/ArcGIS/rest/services/NatGeo_World_Map/MapServer/tile/{z}/{…"
      ]
     },
     "metadata": {},
     "output_type": "display_data"
    }
   ],
   "source": [
    "from ipyleaflet import Map, basemaps\n",
    "Map(center=(55.7522200, 37.6155600), zoom=10, basemap=basemaps.Esri.NatGeoWorldMap)"
   ]
  },
  {
   "cell_type": "code",
   "execution_count": 2,
   "metadata": {},
   "outputs": [],
   "source": [
    "import pandas as pd\n",
    "import numpy as np\n",
    "import matplotlib.pyplot as plt\n",
    "import seaborn as sns\n",
    "%matplotlib inline\n",
    "\n",
    "sns.set(style=\"darkgrid\")"
   ]
  },
  {
   "cell_type": "code",
   "execution_count": 3,
   "metadata": {},
   "outputs": [],
   "source": [
    "import warnings\n",
    "warnings.simplefilter(\"ignore\")"
   ]
  },
  {
   "cell_type": "markdown",
   "metadata": {},
   "source": [
    "## Часть 0. Подготовка (1 балл)"
   ]
  },
  {
   "cell_type": "markdown",
   "metadata": {},
   "source": [
    "**Задание 1 (1 балл)**. Мы будем работать с данными из соревнования [New York City Taxi Trip Duration](https://www.kaggle.com/c/nyc-taxi-trip-duration/overview), в котором нужно было предсказать длительность поездки на такси. Скачайте обучающую выборку из этого соревнования и загрузите ее:"
   ]
  },
  {
   "cell_type": "code",
   "execution_count": 4,
   "metadata": {},
   "outputs": [
    {
     "data": {
      "text/html": [
       "<div>\n",
       "<style scoped>\n",
       "    .dataframe tbody tr th:only-of-type {\n",
       "        vertical-align: middle;\n",
       "    }\n",
       "\n",
       "    .dataframe tbody tr th {\n",
       "        vertical-align: top;\n",
       "    }\n",
       "\n",
       "    .dataframe thead th {\n",
       "        text-align: right;\n",
       "    }\n",
       "</style>\n",
       "<table border=\"1\" class=\"dataframe\">\n",
       "  <thead>\n",
       "    <tr style=\"text-align: right;\">\n",
       "      <th></th>\n",
       "      <th>id</th>\n",
       "      <th>vendor_id</th>\n",
       "      <th>pickup_datetime</th>\n",
       "      <th>dropoff_datetime</th>\n",
       "      <th>passenger_count</th>\n",
       "      <th>pickup_longitude</th>\n",
       "      <th>pickup_latitude</th>\n",
       "      <th>dropoff_longitude</th>\n",
       "      <th>dropoff_latitude</th>\n",
       "      <th>store_and_fwd_flag</th>\n",
       "      <th>trip_duration</th>\n",
       "    </tr>\n",
       "  </thead>\n",
       "  <tbody>\n",
       "    <tr>\n",
       "      <th>0</th>\n",
       "      <td>id2875421</td>\n",
       "      <td>2</td>\n",
       "      <td>2016-03-14 17:24:55</td>\n",
       "      <td>2016-03-14 17:32:30</td>\n",
       "      <td>1</td>\n",
       "      <td>-73.982155</td>\n",
       "      <td>40.767937</td>\n",
       "      <td>-73.964630</td>\n",
       "      <td>40.765602</td>\n",
       "      <td>N</td>\n",
       "      <td>455</td>\n",
       "    </tr>\n",
       "    <tr>\n",
       "      <th>1</th>\n",
       "      <td>id2377394</td>\n",
       "      <td>1</td>\n",
       "      <td>2016-06-12 00:43:35</td>\n",
       "      <td>2016-06-12 00:54:38</td>\n",
       "      <td>1</td>\n",
       "      <td>-73.980415</td>\n",
       "      <td>40.738564</td>\n",
       "      <td>-73.999481</td>\n",
       "      <td>40.731152</td>\n",
       "      <td>N</td>\n",
       "      <td>663</td>\n",
       "    </tr>\n",
       "    <tr>\n",
       "      <th>2</th>\n",
       "      <td>id3858529</td>\n",
       "      <td>2</td>\n",
       "      <td>2016-01-19 11:35:24</td>\n",
       "      <td>2016-01-19 12:10:48</td>\n",
       "      <td>1</td>\n",
       "      <td>-73.979027</td>\n",
       "      <td>40.763939</td>\n",
       "      <td>-74.005333</td>\n",
       "      <td>40.710087</td>\n",
       "      <td>N</td>\n",
       "      <td>2124</td>\n",
       "    </tr>\n",
       "    <tr>\n",
       "      <th>3</th>\n",
       "      <td>id3504673</td>\n",
       "      <td>2</td>\n",
       "      <td>2016-04-06 19:32:31</td>\n",
       "      <td>2016-04-06 19:39:40</td>\n",
       "      <td>1</td>\n",
       "      <td>-74.010040</td>\n",
       "      <td>40.719971</td>\n",
       "      <td>-74.012268</td>\n",
       "      <td>40.706718</td>\n",
       "      <td>N</td>\n",
       "      <td>429</td>\n",
       "    </tr>\n",
       "    <tr>\n",
       "      <th>4</th>\n",
       "      <td>id2181028</td>\n",
       "      <td>2</td>\n",
       "      <td>2016-03-26 13:30:55</td>\n",
       "      <td>2016-03-26 13:38:10</td>\n",
       "      <td>1</td>\n",
       "      <td>-73.973053</td>\n",
       "      <td>40.793209</td>\n",
       "      <td>-73.972923</td>\n",
       "      <td>40.782520</td>\n",
       "      <td>N</td>\n",
       "      <td>435</td>\n",
       "    </tr>\n",
       "  </tbody>\n",
       "</table>\n",
       "</div>"
      ],
      "text/plain": [
       "          id  vendor_id      pickup_datetime     dropoff_datetime  \\\n",
       "0  id2875421          2  2016-03-14 17:24:55  2016-03-14 17:32:30   \n",
       "1  id2377394          1  2016-06-12 00:43:35  2016-06-12 00:54:38   \n",
       "2  id3858529          2  2016-01-19 11:35:24  2016-01-19 12:10:48   \n",
       "3  id3504673          2  2016-04-06 19:32:31  2016-04-06 19:39:40   \n",
       "4  id2181028          2  2016-03-26 13:30:55  2016-03-26 13:38:10   \n",
       "\n",
       "   passenger_count  pickup_longitude  pickup_latitude  dropoff_longitude  \\\n",
       "0                1        -73.982155        40.767937         -73.964630   \n",
       "1                1        -73.980415        40.738564         -73.999481   \n",
       "2                1        -73.979027        40.763939         -74.005333   \n",
       "3                1        -74.010040        40.719971         -74.012268   \n",
       "4                1        -73.973053        40.793209         -73.972923   \n",
       "\n",
       "   dropoff_latitude store_and_fwd_flag  trip_duration  \n",
       "0         40.765602                  N            455  \n",
       "1         40.731152                  N            663  \n",
       "2         40.710087                  N           2124  \n",
       "3         40.706718                  N            429  \n",
       "4         40.782520                  N            435  "
      ]
     },
     "execution_count": 4,
     "metadata": {},
     "output_type": "execute_result"
    }
   ],
   "source": [
    "data = pd.read_csv(\"hw2/train.csv\")\n",
    "data.head()"
   ]
  },
  {
   "cell_type": "markdown",
   "metadata": {},
   "source": [
    "Обратите внимание на колонки `pickup_datetime` и `dropoff_datetime`. `dropoff_datetime` был добавлена организаторами только в обучающую выборку, то есть использовать эту колонку нельзя, давайте удалим ее. В `pickup_datetime` записаны дата и время начала поездки. Чтобы с ней было удобно работать, давайте преобразуем даты в `datetime`-объекты"
   ]
  },
  {
   "cell_type": "code",
   "execution_count": 5,
   "metadata": {},
   "outputs": [],
   "source": [
    "import datetime\n",
    "\n",
    "data.drop(columns=[\"dropoff_datetime\", 'id'], inplace=True)\n",
    "data['pickup_datetime'] = data['pickup_datetime'].apply(lambda x: datetime.datetime.strptime(x, '%Y-%m-%d\\n%H:%M:%S'))"
   ]
  },
  {
   "cell_type": "code",
   "execution_count": 6,
   "metadata": {},
   "outputs": [
    {
     "data": {
      "text/html": [
       "<div>\n",
       "<style scoped>\n",
       "    .dataframe tbody tr th:only-of-type {\n",
       "        vertical-align: middle;\n",
       "    }\n",
       "\n",
       "    .dataframe tbody tr th {\n",
       "        vertical-align: top;\n",
       "    }\n",
       "\n",
       "    .dataframe thead th {\n",
       "        text-align: right;\n",
       "    }\n",
       "</style>\n",
       "<table border=\"1\" class=\"dataframe\">\n",
       "  <thead>\n",
       "    <tr style=\"text-align: right;\">\n",
       "      <th></th>\n",
       "      <th>vendor_id</th>\n",
       "      <th>pickup_datetime</th>\n",
       "      <th>passenger_count</th>\n",
       "      <th>pickup_longitude</th>\n",
       "      <th>pickup_latitude</th>\n",
       "      <th>dropoff_longitude</th>\n",
       "      <th>dropoff_latitude</th>\n",
       "      <th>store_and_fwd_flag</th>\n",
       "      <th>trip_duration</th>\n",
       "    </tr>\n",
       "  </thead>\n",
       "  <tbody>\n",
       "    <tr>\n",
       "      <th>0</th>\n",
       "      <td>2</td>\n",
       "      <td>2016-03-14 17:24:55</td>\n",
       "      <td>1</td>\n",
       "      <td>-73.982155</td>\n",
       "      <td>40.767937</td>\n",
       "      <td>-73.964630</td>\n",
       "      <td>40.765602</td>\n",
       "      <td>N</td>\n",
       "      <td>455</td>\n",
       "    </tr>\n",
       "    <tr>\n",
       "      <th>1</th>\n",
       "      <td>1</td>\n",
       "      <td>2016-06-12 00:43:35</td>\n",
       "      <td>1</td>\n",
       "      <td>-73.980415</td>\n",
       "      <td>40.738564</td>\n",
       "      <td>-73.999481</td>\n",
       "      <td>40.731152</td>\n",
       "      <td>N</td>\n",
       "      <td>663</td>\n",
       "    </tr>\n",
       "    <tr>\n",
       "      <th>2</th>\n",
       "      <td>2</td>\n",
       "      <td>2016-01-19 11:35:24</td>\n",
       "      <td>1</td>\n",
       "      <td>-73.979027</td>\n",
       "      <td>40.763939</td>\n",
       "      <td>-74.005333</td>\n",
       "      <td>40.710087</td>\n",
       "      <td>N</td>\n",
       "      <td>2124</td>\n",
       "    </tr>\n",
       "    <tr>\n",
       "      <th>3</th>\n",
       "      <td>2</td>\n",
       "      <td>2016-04-06 19:32:31</td>\n",
       "      <td>1</td>\n",
       "      <td>-74.010040</td>\n",
       "      <td>40.719971</td>\n",
       "      <td>-74.012268</td>\n",
       "      <td>40.706718</td>\n",
       "      <td>N</td>\n",
       "      <td>429</td>\n",
       "    </tr>\n",
       "    <tr>\n",
       "      <th>4</th>\n",
       "      <td>2</td>\n",
       "      <td>2016-03-26 13:30:55</td>\n",
       "      <td>1</td>\n",
       "      <td>-73.973053</td>\n",
       "      <td>40.793209</td>\n",
       "      <td>-73.972923</td>\n",
       "      <td>40.782520</td>\n",
       "      <td>N</td>\n",
       "      <td>435</td>\n",
       "    </tr>\n",
       "  </tbody>\n",
       "</table>\n",
       "</div>"
      ],
      "text/plain": [
       "   vendor_id     pickup_datetime  passenger_count  pickup_longitude  \\\n",
       "0          2 2016-03-14 17:24:55                1        -73.982155   \n",
       "1          1 2016-06-12 00:43:35                1        -73.980415   \n",
       "2          2 2016-01-19 11:35:24                1        -73.979027   \n",
       "3          2 2016-04-06 19:32:31                1        -74.010040   \n",
       "4          2 2016-03-26 13:30:55                1        -73.973053   \n",
       "\n",
       "   pickup_latitude  dropoff_longitude  dropoff_latitude store_and_fwd_flag  \\\n",
       "0        40.767937         -73.964630         40.765602                  N   \n",
       "1        40.738564         -73.999481         40.731152                  N   \n",
       "2        40.763939         -74.005333         40.710087                  N   \n",
       "3        40.719971         -74.012268         40.706718                  N   \n",
       "4        40.793209         -73.972923         40.782520                  N   \n",
       "\n",
       "   trip_duration  \n",
       "0            455  \n",
       "1            663  \n",
       "2           2124  \n",
       "3            429  \n",
       "4            435  "
      ]
     },
     "execution_count": 6,
     "metadata": {},
     "output_type": "execute_result"
    }
   ],
   "source": [
    "data.head()"
   ]
  },
  {
   "cell_type": "markdown",
   "metadata": {},
   "source": [
    "В колонке `trip_duration` записано целевое значение, которое мы хотим предсказывать. Разбейте выборку на обучающую и тестовую в отношении 7:3."
   ]
  },
  {
   "cell_type": "code",
   "execution_count": 7,
   "metadata": {},
   "outputs": [],
   "source": [
    "from sklearn.model_selection import train_test_split\n",
    "\n",
    "y = data[\"trip_duration\"]\n",
    "X = data.drop(columns=\"trip_duration\")\n",
    "\n",
    "X_train, X_test, y_train, y_test = train_test_split(X, y, test_size=0.3, random_state=10)"
   ]
  },
  {
   "cell_type": "markdown",
   "metadata": {},
   "source": [
    "Давайте посмотрим на распределение таргета в обучающей выборке. Для этого нарисуйте его гистограмму:"
   ]
  },
  {
   "cell_type": "code",
   "execution_count": 8,
   "metadata": {},
   "outputs": [
    {
     "data": {
      "image/png": "[encoded data removed]",
      "text/plain": [
       "<Figure size 720x504 with 1 Axes>"
      ]
     },
     "metadata": {
      "needs_background": "light"
     },
     "output_type": "display_data"
    }
   ],
   "source": [
    "plt.figure(figsize=(10, 7))\n",
    "sns.distplot(y_train)\n",
    "plt.show()"
   ]
  },
  {
   "cell_type": "markdown",
   "metadata": {},
   "source": [
    "**Вопрос**: Что можно сказать о целевой переменной по гистограмме её значений?"
   ]
  },
  {
   "cell_type": "markdown",
   "metadata": {},
   "source": [
    "$\\textbf{A:}$ По гистограмме видно, что основной набор значений trip_duration распределен в интервале от 0 до ~62500 (= 500000/8). Тем не менее есть так же очень большие значения, например, превосходящие 3500000, что является немного необычным для длительности поездки, возможно это выбросы."
   ]
  },
  {
   "cell_type": "markdown",
   "metadata": {},
   "source": [
    "В соревновании в качестве метрики качества использовалось RMSLE:\n",
    "$$\\text{RMSLE}(X, y, a) = \\sqrt{\\frac{1}{\\ell}\\sum_{i=1}^{\\ell} \\big(\\log{(y_i + 1)} - \\log{(a(x_i) + 1)}\\big)^2}$$\n",
    "\n",
    "**Вопрос**: Как вы думаете, почему авторы соревнования выбрали именно RMSLE, а не RMSE?"
   ]
  },
  {
   "cell_type": "markdown",
   "metadata": {},
   "source": [
    "rmse - root mean square error\n",
    "rmsle - root mean sqaure log error\n"
   ]
  },
  {
   "cell_type": "markdown",
   "metadata": {},
   "source": [
    "$\\textbf{A:}$ Логарифм оценивает порядок, и из его графика хорошо видно, что перепрогноз будет штрафоваться значительно меньше, чем недопрогноз. Выше на гистограмме мы увидели, что есть примеры с довольно большими значениями целевой переменной, поэтому если они окажутся выбросами, то наша модель, используя rmsle, будет менее чувствительна к выбросам, так как перепрогнозы штрафуются меньше, чего нельзя сказать о rmse."
   ]
  },
  {
   "cell_type": "markdown",
   "metadata": {},
   "source": [
    "На семинаре мы рассматривали несколько моделей линейной регрессии в `sklearn`, но каждая из них оптимизировала среднеквадратичную ошибку (MSE), а не RMSLE. Давайте проделаем следующий трюк: будем предсказывать не целевую переменную, а ее *логарифм*. Обозначим $\\hat{y}_i = \\log{(y_i + 1)}$ — модифицированный таргет, а $\\hat{a}(x_i)$ — предсказание модели, которая обучалась на $\\hat{y}_i$, то есть логарифм таргета. Чтобы предсказать исходное значение, мы можем просто взять экспоненту от нашего предсказания: $a(x_i) = \\exp(\\hat{a}(x_i)) - 1$.\n",
    "\n",
    "**Вопрос**: Покажите, что оптимизация RMSLE для модели $a$ эквивалентна оптимизации MSE для модели $\\hat{a}$.\n",
    "\n",
    "**Доказательство**: \n",
    "$$\\text{RMSLE}(y, a) = \\sqrt{\\frac{1}{\\ell}\\sum_{i=1}^{\\ell} \\big(\\log{(y_i + 1)} - \\log{(a(x_i) + 1)}\\big)^2} = $$\n",
    "$$Замена$$ $$\\hat{y}_i = \\log{(y_i + 1)}$$\n",
    "$$\\hat{a}(x_i) = \\log{(a(x_i) + 1)}$$\n",
    "$$=\\text{RMSE}(\\hat{y}_i, \\hat{a}(x_i)) = \\sqrt{\\frac{1}{\\ell}\\sum_{i=1}^{\\ell} (\\hat{y}_i - \\hat{a}(x_i))^2}=$$\n",
    "$$=\\sqrt{\\text{MSE}(\\hat{y}_i, \\hat{a}(x_i))}$$.\n",
    "\n",
    "Итак, мы смогли свести задачу оптимизации RMSLE к задаче оптимизации MSE, которую мы умеем решать! Кроме того, у логарифмирования таргета есть еще одно полезное свойство. Чтобы его увидеть, добавьте к нашим выборкам колонки `log_trip_duration` (воспользуйтесь `np.log1p`) и нарисуйте гистограмму модифицированного таргета по обучающей выборке:"
   ]
  },
  {
   "cell_type": "code",
   "execution_count": 9,
   "metadata": {},
   "outputs": [],
   "source": [
    "y_train = y_train.to_frame()\n",
    "y_test = y_test.to_frame()"
   ]
  },
  {
   "cell_type": "code",
   "execution_count": 10,
   "metadata": {},
   "outputs": [],
   "source": [
    "y_train.loc[:,\"log_trip_duration\"] = np.log1p(y_train['trip_duration'])\n",
    "y_test.loc[:,\"log_trip_duration\"] = np.log1p(y_test['trip_duration'])"
   ]
  },
  {
   "cell_type": "code",
   "execution_count": 11,
   "metadata": {},
   "outputs": [],
   "source": [
    "X_train.loc[:,\"log_trip_duration\"] = y_train['log_trip_duration']\n",
    "X_test.loc[:,\"log_trip_duration\"] = y_test['log_trip_duration']"
   ]
  },
  {
   "cell_type": "code",
   "execution_count": 12,
   "metadata": {},
   "outputs": [
    {
     "data": {
      "text/html": [
       "<div>\n",
       "<style scoped>\n",
       "    .dataframe tbody tr th:only-of-type {\n",
       "        vertical-align: middle;\n",
       "    }\n",
       "\n",
       "    .dataframe tbody tr th {\n",
       "        vertical-align: top;\n",
       "    }\n",
       "\n",
       "    .dataframe thead th {\n",
       "        text-align: right;\n",
       "    }\n",
       "</style>\n",
       "<table border=\"1\" class=\"dataframe\">\n",
       "  <thead>\n",
       "    <tr style=\"text-align: right;\">\n",
       "      <th></th>\n",
       "      <th>vendor_id</th>\n",
       "      <th>pickup_datetime</th>\n",
       "      <th>passenger_count</th>\n",
       "      <th>pickup_longitude</th>\n",
       "      <th>pickup_latitude</th>\n",
       "      <th>dropoff_longitude</th>\n",
       "      <th>dropoff_latitude</th>\n",
       "      <th>store_and_fwd_flag</th>\n",
       "      <th>log_trip_duration</th>\n",
       "    </tr>\n",
       "  </thead>\n",
       "  <tbody>\n",
       "    <tr>\n",
       "      <th>824746</th>\n",
       "      <td>2</td>\n",
       "      <td>2016-03-27 00:25:29</td>\n",
       "      <td>3</td>\n",
       "      <td>-73.996986</td>\n",
       "      <td>40.742210</td>\n",
       "      <td>-73.987740</td>\n",
       "      <td>40.710659</td>\n",
       "      <td>N</td>\n",
       "      <td>7.134891</td>\n",
       "    </tr>\n",
       "    <tr>\n",
       "      <th>645821</th>\n",
       "      <td>2</td>\n",
       "      <td>2016-03-18 20:44:12</td>\n",
       "      <td>1</td>\n",
       "      <td>-73.989929</td>\n",
       "      <td>40.741760</td>\n",
       "      <td>-73.977280</td>\n",
       "      <td>40.783600</td>\n",
       "      <td>N</td>\n",
       "      <td>6.878326</td>\n",
       "    </tr>\n",
       "    <tr>\n",
       "      <th>691846</th>\n",
       "      <td>2</td>\n",
       "      <td>2016-04-15 18:26:12</td>\n",
       "      <td>2</td>\n",
       "      <td>-73.972366</td>\n",
       "      <td>40.750725</td>\n",
       "      <td>-73.861832</td>\n",
       "      <td>40.768387</td>\n",
       "      <td>N</td>\n",
       "      <td>7.642524</td>\n",
       "    </tr>\n",
       "    <tr>\n",
       "      <th>1147931</th>\n",
       "      <td>2</td>\n",
       "      <td>2016-03-24 14:28:34</td>\n",
       "      <td>1</td>\n",
       "      <td>-73.982361</td>\n",
       "      <td>40.776901</td>\n",
       "      <td>-73.975128</td>\n",
       "      <td>40.760921</td>\n",
       "      <td>N</td>\n",
       "      <td>6.888572</td>\n",
       "    </tr>\n",
       "    <tr>\n",
       "      <th>183569</th>\n",
       "      <td>1</td>\n",
       "      <td>2016-04-28 13:53:52</td>\n",
       "      <td>1</td>\n",
       "      <td>-73.973778</td>\n",
       "      <td>40.764374</td>\n",
       "      <td>-73.966957</td>\n",
       "      <td>40.761024</td>\n",
       "      <td>N</td>\n",
       "      <td>6.177944</td>\n",
       "    </tr>\n",
       "  </tbody>\n",
       "</table>\n",
       "</div>"
      ],
      "text/plain": [
       "         vendor_id     pickup_datetime  passenger_count  pickup_longitude  \\\n",
       "824746           2 2016-03-27 00:25:29                3        -73.996986   \n",
       "645821           2 2016-03-18 20:44:12                1        -73.989929   \n",
       "691846           2 2016-04-15 18:26:12                2        -73.972366   \n",
       "1147931          2 2016-03-24 14:28:34                1        -73.982361   \n",
       "183569           1 2016-04-28 13:53:52                1        -73.973778   \n",
       "\n",
       "         pickup_latitude  dropoff_longitude  dropoff_latitude  \\\n",
       "824746         40.742210         -73.987740         40.710659   \n",
       "645821         40.741760         -73.977280         40.783600   \n",
       "691846         40.750725         -73.861832         40.768387   \n",
       "1147931        40.776901         -73.975128         40.760921   \n",
       "183569         40.764374         -73.966957         40.761024   \n",
       "\n",
       "        store_and_fwd_flag  log_trip_duration  \n",
       "824746                   N           7.134891  \n",
       "645821                   N           6.878326  \n",
       "691846                   N           7.642524  \n",
       "1147931                  N           6.888572  \n",
       "183569                   N           6.177944  "
      ]
     },
     "execution_count": 12,
     "metadata": {},
     "output_type": "execute_result"
    }
   ],
   "source": [
    "X_train.head()"
   ]
  },
  {
   "cell_type": "code",
   "execution_count": 13,
   "metadata": {},
   "outputs": [
    {
     "data": {
      "text/plain": [
       "<matplotlib.axes._subplots.AxesSubplot at 0x7f5ec1fa0320>"
      ]
     },
     "execution_count": 13,
     "metadata": {},
     "output_type": "execute_result"
    },
    {
     "data": {
      "image/png": "[encoded data removed]",
      "text/plain": [
       "<Figure size 432x288 with 1 Axes>"
      ]
     },
     "metadata": {
      "needs_background": "light"
     },
     "output_type": "display_data"
    }
   ],
   "source": [
    "sns.distplot(y_train['log_trip_duration'])"
   ]
  },
  {
   "cell_type": "markdown",
   "metadata": {},
   "source": [
    "Чтобы иметь некоторую точку отсчета, давайте посчитаем значение метрики при наилучшем константном предсказании:"
   ]
  },
  {
   "cell_type": "markdown",
   "metadata": {},
   "source": [
    "$\\textbf{A:}$ Так как при правильной замене RMSLE эквивалентен MSE. То лучшее константное предсказание будет достигаться на:\n",
    "$$\\hat{a} = \\frac{1}{\\ell}\\sum_{i=1}^{\\ell}\\hat{y}_i$$\n",
    "То есть при\n",
    "$$a = \\exp[\\frac{1}{\\ell}\\sum_{i=1}^{\\ell}\\log({y}_i + 1)] - 1$$"
   ]
  },
  {
   "cell_type": "code",
   "execution_count": 14,
   "metadata": {},
   "outputs": [],
   "source": [
    "def rmse(y_true, y_pred):\n",
    "    error = (y_true - y_pred) ** 2\n",
    "    return np.sqrt(np.mean(error))"
   ]
  },
  {
   "cell_type": "code",
   "execution_count": 15,
   "metadata": {},
   "outputs": [
    {
     "name": "stdout",
     "output_type": "stream",
     "text": [
      "Test RMSLE with best constant = 0.7943\n",
      "Train RMSLE with best constant = 0.7964\n"
     ]
    }
   ],
   "source": [
    "best_log_constant = y_train[\"log_trip_duration\"].mean()\n",
    "print(\"Test RMSLE with best constant = %.4f\" % rmse(y_test['log_trip_duration'], best_log_constant))\n",
    "print(\"Train RMSLE with best constant = %.4f\" % rmse(y_train['log_trip_duration'], best_log_constant))"
   ]
  },
  {
   "cell_type": "markdown",
   "metadata": {},
   "source": [
    "## Часть 1. Изучаем `pickup_datetime` (2 балла)\n",
    "\n",
    "**Задание 2 (0.25 баллов)**. Для начала давайте посмотрим, сколько всего было поездок в каждый из дней. Постройте график зависимости количества поездок от дня в году (например, можно воспользоваться `sns.countplot`):"
   ]
  },
  {
   "cell_type": "code",
   "execution_count": 16,
   "metadata": {},
   "outputs": [],
   "source": [
    "saved_X_train, saved_X_test, saved_y_train, saved_y_test = X_train.copy(), X_test.copy(), y_train.copy(), y_test.copy()"
   ]
  },
  {
   "cell_type": "markdown",
   "metadata": {},
   "source": [
    "Буду работать с временным дата фреймом, чтобы не портить оригинальный."
   ]
  },
  {
   "cell_type": "code",
   "execution_count": 17,
   "metadata": {},
   "outputs": [],
   "source": [
    "tmp = data.copy()\n",
    "tmp['pickup_date'] = tmp[\"pickup_datetime\"].dt.date\n",
    "tmp = tmp[['pickup_datetime', 'pickup_date']]"
   ]
  },
  {
   "cell_type": "code",
   "execution_count": 18,
   "metadata": {},
   "outputs": [
    {
     "data": {
      "image/png": "[encoded data removed]",
      "text/plain": [
       "<Figure size 1800x1440 with 1 Axes>"
      ]
     },
     "metadata": {
      "needs_background": "light"
     },
     "output_type": "display_data"
    }
   ],
   "source": [
    "plt.figure(figsize=(25, 20))\n",
    "sns.countplot(x='pickup_date', data=tmp)\n",
    "plt.xticks(rotation=90)\n",
    "plt.show()"
   ]
  },
  {
   "cell_type": "markdown",
   "metadata": {},
   "source": [
    "**Вопрос**: Вы, вероятно, заметили, что на графике есть 2 периода с аномально маленькими количествами поездок. Вычислите, в какие даты происходили эти скачки вниз и найдите информацию о том, что происходило в эти дни в Нью-Йорке."
   ]
  },
  {
   "cell_type": "code",
   "execution_count": 19,
   "metadata": {},
   "outputs": [
    {
     "data": {
      "text/html": [
       "<div>\n",
       "<style scoped>\n",
       "    .dataframe tbody tr th:only-of-type {\n",
       "        vertical-align: middle;\n",
       "    }\n",
       "\n",
       "    .dataframe tbody tr th {\n",
       "        vertical-align: top;\n",
       "    }\n",
       "\n",
       "    .dataframe thead th {\n",
       "        text-align: right;\n",
       "    }\n",
       "</style>\n",
       "<table border=\"1\" class=\"dataframe\">\n",
       "  <thead>\n",
       "    <tr style=\"text-align: right;\">\n",
       "      <th></th>\n",
       "      <th>pickup_datetime</th>\n",
       "    </tr>\n",
       "    <tr>\n",
       "      <th>pickup_date</th>\n",
       "      <th></th>\n",
       "    </tr>\n",
       "  </thead>\n",
       "  <tbody>\n",
       "    <tr>\n",
       "      <th>2016-01-23</th>\n",
       "      <td>1648</td>\n",
       "    </tr>\n",
       "    <tr>\n",
       "      <th>2016-01-24</th>\n",
       "      <td>3383</td>\n",
       "    </tr>\n",
       "  </tbody>\n",
       "</table>\n",
       "</div>"
      ],
      "text/plain": [
       "             pickup_datetime\n",
       "pickup_date                 \n",
       "2016-01-23              1648\n",
       "2016-01-24              3383"
      ]
     },
     "execution_count": 19,
     "metadata": {},
     "output_type": "execute_result"
    }
   ],
   "source": [
    "tmp.groupby('pickup_date').count().sort_values(by='pickup_datetime')[:2]"
   ]
  },
  {
   "cell_type": "markdown",
   "metadata": {},
   "source": [
    "Сохраню эти даты в anomaly, потому что они позже понадобятся"
   ]
  },
  {
   "cell_type": "code",
   "execution_count": 20,
   "metadata": {},
   "outputs": [],
   "source": [
    "anomaly = tmp.groupby('pickup_date').count().sort_values(by='pickup_datetime')[:2].index"
   ]
  },
  {
   "cell_type": "markdown",
   "metadata": {},
   "source": [
    "$\\textbf{A:}$  Выше видно, что аномально маленькое количество поездок было совершено 2016-01-23 и 2016-01-24. Интернет говорит, что в эти даты восток США переживал сильнейшие за столетие снегопады."
   ]
  },
  {
   "cell_type": "markdown",
   "metadata": {},
   "source": [
    "\n",
    "Нарисуйте графики зависимости количества поездок от дня недели и от часов в сутках (воспользуйтесь `sns.relplot`):"
   ]
  },
  {
   "cell_type": "code",
   "execution_count": 21,
   "metadata": {},
   "outputs": [],
   "source": [
    "tmp['weekday'] = tmp['pickup_date'].apply(lambda x: x.strftime(\"%a\"))\n",
    "tmp['hour'] = tmp['pickup_datetime'].apply(lambda x: x.hour)\n",
    "tmp.rename(columns={'pickup_date' : 'number of trips'}, inplace=True)"
   ]
  },
  {
   "cell_type": "code",
   "execution_count": 22,
   "metadata": {},
   "outputs": [
    {
     "data": {
      "image/png": "[encoded data removed]",
      "text/plain": [
       "<Figure size 1080x504 with 2 Axes>"
      ]
     },
     "metadata": {
      "needs_background": "light"
     },
     "output_type": "display_data"
    }
   ],
   "source": [
    "fig, axs = plt.subplots(figsize=(15, 7), ncols=2)\n",
    "\n",
    "g1 = sns.relplot(x='hour', y = 'number of trips', data=tmp.groupby(['hour'], as_index=False).count(), ax=axs[0])\n",
    "axs[0].set_title(\"зависимость количества поездок от часов в сутках.\")\n",
    "\n",
    "g2 = sns.relplot(x='weekday', y = 'number of trips', data=tmp.groupby(['weekday'], as_index=False).count(), ax=axs[1])\n",
    "axs[1].set_title(\"зависимость количества поездок от дня недели.\")\n",
    "\n",
    "plt.close(g1.fig)\n",
    "plt.close(g2.fig) \n",
    "plt.tight_layout()"
   ]
  },
  {
   "cell_type": "markdown",
   "metadata": {},
   "source": [
    "**Задание 3 (0.5 баллов)**. Нарисуйте на одном графике зависимости количества поездок от часа в сутках для разных месяцев (разные кривые, соответствующие разным месяцам, окрашивайте в разные цвета, воспользуйтесь `hue` в `sns.relplot`). Аналогично нарисуйте зависимости количества поездок от часа в сутках для разных дней недели."
   ]
  },
  {
   "cell_type": "code",
   "execution_count": 23,
   "metadata": {},
   "outputs": [],
   "source": [
    "tmp['month'] = tmp['pickup_datetime'].apply(lambda x: x.strftime(\"%b\"))\n",
    "tmp1 = tmp.groupby(['hour', 'month'], as_index=False).count()\n",
    "tmp2 = tmp.groupby(['hour', 'weekday'], as_index=False).count()"
   ]
  },
  {
   "cell_type": "code",
   "execution_count": 24,
   "metadata": {},
   "outputs": [
    {
     "data": {
      "image/png": "[encoded data removed]",
      "text/plain": [
       "<Figure size 430.35x360 with 1 Axes>"
      ]
     },
     "metadata": {
      "needs_background": "light"
     },
     "output_type": "display_data"
    }
   ],
   "source": [
    "g1 = sns.relplot(x='hour', y = 'number of trips', hue = 'month', kind='line',data=tmp1)\n",
    "plt.title(\"Зависимость количества поездок от часа в сутках для разных месяцев.\")\n",
    "plt.show()"
   ]
  },
  {
   "cell_type": "code",
   "execution_count": 25,
   "metadata": {},
   "outputs": [
    {
     "data": {
      "image/png": "[encoded data removed]",
      "text/plain": [
       "<Figure size 443.1x360 with 1 Axes>"
      ]
     },
     "metadata": {
      "needs_background": "light"
     },
     "output_type": "display_data"
    }
   ],
   "source": [
    "g2 = sns.relplot(x='hour', y = 'number of trips', hue = 'weekday', kind='line',data=tmp2)\n",
    "plt.title(\"Зависимость количества поездок от часа в сутках для разных дней недели.\")\n",
    "plt.show()"
   ]
  },
  {
   "cell_type": "markdown",
   "metadata": {},
   "source": [
    "**Вопрос**: Какие выводы можно сделать, основываясь на графиках выше? Выделяются ли какие-нибудь дни недели? Месяца? Время суток? С чем это связано?"
   ]
  },
  {
   "cell_type": "markdown",
   "metadata": {},
   "source": [
    "$\\textbf{A:}$ Для дней недели: до ~17 часов кривые, соответствующие выходным дням очень похожи и отличаются от кривых соответствующих будним дням, которые в свою очередь тоже очень похожи между собой. После 17 часов кривые для Sun и Sat идут в разных направлениях. Думаю, подобную схожесть можно понять интуитивно: ночью (с 0 до 5) количество поездок в выходные дни значительно больше, чем в буднии -- скорее всего люди отдыхают, допоздна проводя время где-то не дома. Так же в субботу после 17 количество поездок резко увеличивается в преддверии еще одного выходного дня, а в вск наоборот падает, так как на след день на работу((\n",
    "Кривые для месяцев довольно похожи, но весной их больше."
   ]
  },
  {
   "cell_type": "markdown",
   "metadata": {},
   "source": [
    "\n",
    "\n",
    "**Задание 4 (0.5 баллов)**. По *обучающей выборке* нарисуйте график зависимости среднего логарифма времени поездки от дня недели. Затем сделайте то же самое, но для часа в сутках и дня в году."
   ]
  },
  {
   "cell_type": "markdown",
   "metadata": {},
   "source": [
    "Проделаем все примерно то же самое, что и до этого."
   ]
  },
  {
   "cell_type": "code",
   "execution_count": 26,
   "metadata": {},
   "outputs": [],
   "source": [
    "df = X_train.copy()\n",
    "df['pickup_date'] = df[\"pickup_datetime\"].dt.date\n",
    "df['weekday'] = df['pickup_date'].apply(lambda x: x.strftime(\"%a\"))\n",
    "df['hour'] = df['pickup_datetime'].apply(lambda x: x.hour)\n",
    "df['pickup_date'] = df['pickup_date'].apply(lambda x: x.strftime(\"%m-%d\"))"
   ]
  },
  {
   "cell_type": "code",
   "execution_count": 27,
   "metadata": {},
   "outputs": [
    {
     "data": {
      "image/png": "[encoded data removed]",
      "text/plain": [
       "<Figure size 1440x504 with 3 Axes>"
      ]
     },
     "metadata": {
      "needs_background": "light"
     },
     "output_type": "display_data"
    }
   ],
   "source": [
    "fig, axs = plt.subplots(figsize=(20, 7), ncols=3)\n",
    "\n",
    "g1 = sns.relplot(x='weekday', y='log_trip_duration',data=df.groupby(['weekday'], as_index=False).mean(), ax=axs[0])\n",
    "axs[0].set_title(\"Зависимость среднего логарифма поездки от дня недели.\")\n",
    "\n",
    "g2 = sns.relplot(x='hour', y='log_trip_duration',data=df.groupby(['hour'], as_index=False).mean(), ax=axs[1])\n",
    "axs[1].set_title(\"Зависимость среднего логарифма поездки от часа в сутках.\")\n",
    "\n",
    "g3 = sns.relplot(x='pickup_date', y='log_trip_duration',data=df.groupby(['pickup_date'], as_index=False).mean(), ax=axs[2])\n",
    "axs[2].set_title(\"Зависимость среднего логарифма поездки от дня в году.\")\n",
    "\n",
    "plt.close(g1.fig)\n",
    "plt.close(g2.fig) \n",
    "plt.close(g3.fig) \n",
    "plt.tight_layout()"
   ]
  },
  {
   "cell_type": "markdown",
   "metadata": {},
   "source": [
    "**Вопрос**: Похожи ли графики зависимости таргета от дня недели и от часа в сутках на аналогичные графики для количества поездок? Почему? Что происходит со средним таргетом в те два аномальных периода, что мы видели выше? Почему так происходит? Наблюдаете ли вы какой-нибудь тренд на графике зависимости `log_trip_duration` от номера дня в году?"
   ]
  },
  {
   "cell_type": "markdown",
   "metadata": {},
   "source": [
    "$\\textbf{A:}$ Да, похожи, особенно второй. Похожи, потому что в среднем, если количество в какой-то поездок маленькое, то и среднее время поездок в этот час будет маленьким, и наоборот. Да, кажется, что с каждым днем время поездки увеличивается, зависимость похожа на линейную"
   ]
  },
  {
   "cell_type": "markdown",
   "metadata": {},
   "source": [
    "Добавьте следующие признаки на основе `pickup_datetime`:\n",
    "1. День недели\n",
    "2. Месяц\n",
    "3. Час\n",
    "4. Является ли период аномальным (два бинарных признака, соответствующие двум аномальным периодам)\n",
    "5. Номер дня в году"
   ]
  },
  {
   "cell_type": "code",
   "execution_count": 28,
   "metadata": {},
   "outputs": [],
   "source": [
    "X_train['weekday'] = X_train['pickup_datetime'].apply(lambda x: x.date().strftime(\"%a\"))\n",
    "X_train['month'] = X_train['pickup_datetime'].apply(lambda x: x.date().strftime(\"%b\"))\n",
    "X_train['hour'] = X_train['pickup_datetime'].apply(lambda x: x.hour)\n",
    "X_train['is_anomaly'] = X_train['pickup_datetime'].apply(lambda x: 1 if x.date() in anomaly else 0)\n",
    "X_train['day_num'] =X_train['pickup_datetime'].apply(lambda x: x.date().timetuple().tm_yday)"
   ]
  },
  {
   "cell_type": "code",
   "execution_count": 29,
   "metadata": {},
   "outputs": [],
   "source": [
    "X_test['weekday'] = X_test['pickup_datetime'].apply(lambda x: x.date().strftime(\"%a\"))\n",
    "X_test['month'] = X_test['pickup_datetime'].apply(lambda x: x.date().strftime(\"%b\"))\n",
    "X_test['hour'] = X_test['pickup_datetime'].apply(lambda x: x.hour)\n",
    "X_test['is_anomaly'] = X_test['pickup_datetime'].apply(lambda x: 1 if x.date() in anomaly else 0)\n",
    "X_test['day_num'] =X_test['pickup_datetime'].apply(lambda x: x.date().timetuple().tm_yday)"
   ]
  },
  {
   "cell_type": "markdown",
   "metadata": {},
   "source": [
    "Итак, мы уже создали некоторое количество признаков.\n",
    "\n",
    "**Вопрос**: Какие из признаков стоит рассматривать как категориальные, а какие - как численные? Почему?"
   ]
  },
  {
   "cell_type": "markdown",
   "metadata": {},
   "source": [
    "$\\textbf{A:}$ Из только что добавленных.\n",
    "Категориальные: weekday, month. Потому что в отличие от численных не совсем ясно, как сравнивать данные признаки. Численные соответственно: hour, is_anomaly, day_num.\n"
   ]
  },
  {
   "cell_type": "markdown",
   "metadata": {},
   "source": [
    "**Задание 5 (0.75 баллов)**. Обучите `Ridge`-регрессию с параметрами по умолчанию, закодировав все категориальные признаки с помощью `OneHotEncoder`. Численные признаки отмасштабируйте с помощью `StandardScaler`. Используйте только признаки, которые мы выделили в этой части задания."
   ]
  },
  {
   "cell_type": "code",
   "execution_count": 30,
   "metadata": {},
   "outputs": [],
   "source": [
    "from sklearn.metrics import make_scorer\n",
    "\n",
    "def rmse(y_true, y_pred):\n",
    "    error = (y_true - y_pred) ** 2\n",
    "    return np.sqrt(np.mean(error))\n",
    "\n",
    "rmse_scorer = make_scorer(\n",
    "    rmse,\n",
    "    greater_is_better=False\n",
    ")"
   ]
  },
  {
   "cell_type": "code",
   "execution_count": 31,
   "metadata": {},
   "outputs": [],
   "source": [
    "categorical = list(['weekday', 'month'])\n",
    "numeric_features = list(['hour', 'is_anomaly', 'day_num'])"
   ]
  },
  {
   "cell_type": "code",
   "execution_count": 32,
   "metadata": {},
   "outputs": [],
   "source": [
    "from sklearn.preprocessing import OneHotEncoder\n",
    "from sklearn.compose import ColumnTransformer\n",
    "from sklearn.preprocessing import StandardScaler\n",
    "from sklearn.pipeline import Pipeline\n",
    "from sklearn.linear_model import Ridge"
   ]
  },
  {
   "cell_type": "markdown",
   "metadata": {},
   "source": [
    "$\\textbf{A:}$ Сначала я не поняла на чем обучать, на log_trip_duration или просто trip_duration. Но результаты с логарифмом оказались лучше 0.7911 против 0.8874 соответственно."
   ]
  },
  {
   "cell_type": "code",
   "execution_count": 33,
   "metadata": {},
   "outputs": [],
   "source": [
    "column_transformer = ColumnTransformer([\n",
    "    ('ohe', OneHotEncoder(handle_unknown=\"ignore\"), categorical),\n",
    "    ('scaling', StandardScaler(), numeric_features)\n",
    "])\n",
    "\n",
    "pipeline1 = Pipeline(steps=[\n",
    "    ('ohe_and_scaling', column_transformer),\n",
    "    ('regression', Ridge())\n",
    "])\n",
    "\n",
    "model1 = pipeline1.fit(X_train, y_train['log_trip_duration'])\n",
    "y_pred = model1.predict(X_test)"
   ]
  },
  {
   "cell_type": "code",
   "execution_count": 34,
   "metadata": {},
   "outputs": [
    {
     "name": "stdout",
     "output_type": "stream",
     "text": [
      "Test RMSLE = 0.7911\n"
     ]
    }
   ],
   "source": [
    "print(\"Test RMSLE = %.4f\" % rmse(y_test['log_trip_duration'], y_pred))"
   ]
  },
  {
   "cell_type": "markdown",
   "metadata": {},
   "source": [
    "## Часть 2. Изучаем координаты (3 балла)\n",
    "Мы уже очень хорошо изучили данные о времени начала поездки, давайте теперь посмотрим на информацию о координатах начала и конца поездки. Мы подготовили для вас функцию, которая на карте рисует точки начала или конца поездки. Примеры ее вызова вы найдете ниже. Обратите внимание, что в эту функцию мы передаем лишь небольшой кусочек данных, посколько иначе функция будет работать очень долго"
   ]
  },
  {
   "cell_type": "code",
   "execution_count": 35,
   "metadata": {},
   "outputs": [],
   "source": [
    "saved_X_train, saved_X_test, saved_y_train, saved_y_test = X_train.copy(), X_test.copy(), y_train.copy(), y_test.copy()"
   ]
  },
  {
   "cell_type": "code",
   "execution_count": 36,
   "metadata": {},
   "outputs": [],
   "source": [
    "from ipyleaflet import Map, Circle, LayerGroup, basemaps"
   ]
  },
  {
   "cell_type": "code",
   "execution_count": 37,
   "metadata": {},
   "outputs": [],
   "source": [
    "def show_circles_on_map(data, latitude_column, longitude_column, color):\n",
    "    \"\"\"\n",
    "    The function draws map with circles on it.\n",
    "    The center of the map is the mean of coordinates passed in data.\n",
    "    \n",
    "    data: DataFrame that contains columns latitude_column and longitude_column\n",
    "    latitude_column: string, the name of column for latitude coordinates\n",
    "    longitude_column: string, the name of column for longitude coordinates\n",
    "    color: string, the color of circles to be drawn\n",
    "    \"\"\"\n",
    "\n",
    "    center = (data[latitude_column].mean(), data[longitude_column].mean())\n",
    "    result_map = Map(center=center, zoom=10, basemap=basemaps.Esri.NatGeoWorldMap)\n",
    "\n",
    "    circles = []\n",
    "    for _, row in data.iterrows():\n",
    "        circles.append(Circle(\n",
    "            location=(row[latitude_column], row[longitude_column]),\n",
    "            fill_color=color,\n",
    "            fill_opacity=0.2,\n",
    "            radius=300,\n",
    "            stroke=False\n",
    "        ))\n",
    "    circles_layer = LayerGroup(layers=circles)\n",
    "    result_map.add_layer(circles_layer)\n",
    "\n",
    "    return result_map"
   ]
  },
  {
   "cell_type": "code",
   "execution_count": 38,
   "metadata": {},
   "outputs": [
    {
     "data": {
      "application/vnd.jupyter.widget-view+json": {
       "model_id": "cd817003d26d4ca4aa78c56a533b5ae1",
       "version_major": 2,
       "version_minor": 0
      },
      "text/plain": [
       "Map(basemap={'url': 'http://server.arcgisonline.com/ArcGIS/rest/services/NatGeo_World_Map/MapServer/tile/{z}/{…"
      ]
     },
     "metadata": {},
     "output_type": "display_data"
    }
   ],
   "source": [
    "show_circles_on_map(data.sample(1000), \"pickup_latitude\", \"pickup_longitude\", \"blue\")"
   ]
  },
  {
   "cell_type": "code",
   "execution_count": 39,
   "metadata": {},
   "outputs": [
    {
     "data": {
      "application/vnd.jupyter.widget-view+json": {
       "model_id": "df9c4f7ba88d48b4ae89f9c59beb8c5a",
       "version_major": 2,
       "version_minor": 0
      },
      "text/plain": [
       "Map(basemap={'url': 'http://server.arcgisonline.com/ArcGIS/rest/services/NatGeo_World_Map/MapServer/tile/{z}/{…"
      ]
     },
     "metadata": {},
     "output_type": "display_data"
    }
   ],
   "source": [
    "show_circles_on_map(data.sample(1000), \"dropoff_latitude\", \"dropoff_longitude\", \"blue\")"
   ]
  },
  {
   "cell_type": "markdown",
   "metadata": {},
   "source": [
    "**Вопрос**: Какие две точки выделяются на карте?"
   ]
  },
  {
   "cell_type": "markdown",
   "metadata": {},
   "source": [
    "$\\textbf{A:}$  Видно, что точки соответсвующие аэропортам La Guardia Airport и John F Kennede Intl Airport выделяются на обеих картах."
   ]
  },
  {
   "cell_type": "markdown",
   "metadata": {},
   "source": [
    "**Задание 6 (0.75 балл)**. Как мы все прекрасно помним, $t = s / v_{\\text{ср}}$, поэтому очевидно, что самым сильным признаком будет расстояние, которое необходимо проехать. Мы не можем посчитать точное расстояние, которое необходимо преодолеть такси, но мы можем его оценить, посчитав кратчайшее расстояние между точками начала и конца поездки. Чтобы корректно посчитать расстояние между двумя точками на Земле, можно использовать функцию `haversine`. Посчитайте кратчайшее расстояние для объектов и запишите его в колонку `haversine`:"
   ]
  },
  {
   "cell_type": "code",
   "execution_count": 40,
   "metadata": {},
   "outputs": [],
   "source": [
    "from haversine import haversine"
   ]
  },
  {
   "cell_type": "code",
   "execution_count": 41,
   "metadata": {},
   "outputs": [],
   "source": [
    "X_train['haversine'] = X_train.apply(lambda x: haversine(\n",
    "    (x['pickup_longitude'], x['pickup_latitude']),\n",
    "    (x['dropoff_longitude'], x['dropoff_latitude'])\n",
    "), axis=1)"
   ]
  },
  {
   "cell_type": "code",
   "execution_count": 42,
   "metadata": {},
   "outputs": [],
   "source": [
    "X_test['haversine'] = X_test.apply(lambda x: haversine(\n",
    "    (x['pickup_longitude'], x['pickup_latitude']),\n",
    "    (x['dropoff_longitude'], x['dropoff_latitude'])\n",
    "), axis=1)"
   ]
  },
  {
   "cell_type": "markdown",
   "metadata": {},
   "source": [
    "Так как мы предсказываем логарифм времени поездки и хотим, чтобы наши признаки были линейно зависимы с этой целевой переменной, нам нужно логарифмировать расстояние: $\\log t = \\log s - \\log{v_{\\text{ср}}}$. Запишите логарифм `haversine` в отдельную колонку:"
   ]
  },
  {
   "cell_type": "code",
   "execution_count": 43,
   "metadata": {},
   "outputs": [],
   "source": [
    "X_train['log_haversine'] = np.log1p(X_train['haversine'])"
   ]
  },
  {
   "cell_type": "code",
   "execution_count": 44,
   "metadata": {},
   "outputs": [],
   "source": [
    "X_test['log_haversine'] = np.log1p(X_test['haversine'])"
   ]
  },
  {
   "cell_type": "markdown",
   "metadata": {},
   "source": [
    "Убедимся, что логарифм расстояния лучше коррелирует с нашим таргетом, чем просто расстояние:"
   ]
  },
  {
   "cell_type": "code",
   "execution_count": 45,
   "metadata": {},
   "outputs": [
    {
     "data": {
      "image/png": "[encoded data removed]",
      "text/plain": [
       "<Figure size 504x216 with 1 Axes>"
      ]
     },
     "metadata": {
      "needs_background": "light"
     },
     "output_type": "display_data"
    }
   ],
   "source": [
    "corrs = [np.corrcoef(X_train['haversine'], y_train['log_trip_duration'])[0][1],\n",
    "         np.corrcoef(X_train['log_haversine'], y_train['log_trip_duration'])[0][1]]\n",
    "features = ['haversine', 'log_haversine']\n",
    "plot = sns.barplot(y=features, x=corrs)\n",
    "plot.figure.set_size_inches(7, 3)"
   ]
  },
  {
   "cell_type": "markdown",
   "metadata": {},
   "source": [
    "$\\textbf{A:}$ Действительно, коэффциент корреляции логарифма расстояния ближе к +1, то есть связь с таргетом сильнее."
   ]
  },
  {
   "cell_type": "markdown",
   "metadata": {},
   "source": [
    "**Задание 7 (0.75 балла)**. Давайте изучим среднюю скорость движения такси. Посчитайте среднюю скорость для каждого объекта обучающей выборки, разделив `haversine` на `trip_duration`, и нарисуйте гистограмму ее распределения"
   ]
  },
  {
   "cell_type": "code",
   "execution_count": 46,
   "metadata": {},
   "outputs": [],
   "source": [
    "X_train['speed'] = X_train.haversine / (y_train['trip_duration'])"
   ]
  },
  {
   "cell_type": "code",
   "execution_count": 47,
   "metadata": {
    "scrolled": true
   },
   "outputs": [
    {
     "data": {
      "image/png": "[encoded data removed]",
      "text/plain": [
       "<Figure size 432x288 with 1 Axes>"
      ]
     },
     "metadata": {
      "needs_background": "light"
     },
     "output_type": "display_data"
    }
   ],
   "source": [
    "sns.distplot(X_train['speed'])\n",
    "plt.show()"
   ]
  },
  {
   "cell_type": "markdown",
   "metadata": {},
   "source": [
    "Как можно видеть по гистограмме, для некоторых объектов у нас получились очень больше значения скоростей. Нарисуйте гистограмму по объектам, для которых значение скорости получилось разумным (например, можно не включать рассмотрение объекты, где скорость больше некоторой квантили):"
   ]
  },
  {
   "cell_type": "code",
   "execution_count": 48,
   "metadata": {},
   "outputs": [],
   "source": [
    "mask = (X_train['speed'] < np.quantile(X_train['speed'], 0.999))"
   ]
  },
  {
   "cell_type": "code",
   "execution_count": 49,
   "metadata": {},
   "outputs": [
    {
     "data": {
      "image/png": "[encoded data removed]",
      "text/plain": [
       "<Figure size 432x288 with 1 Axes>"
      ]
     },
     "metadata": {
      "needs_background": "light"
     },
     "output_type": "display_data"
    }
   ],
   "source": [
    "sns.distplot(X_train['speed'] * mask)\n",
    "plt.show()"
   ]
  },
  {
   "cell_type": "markdown",
   "metadata": {},
   "source": [
    "Для каждой пары (день недели, час суток) посчитайте медиану скоростей. Нарисуйте с помощью `sns.heatmap` график, где по осям будут дни недели и часы, а в качестве значения функции - медиана скорости"
   ]
  },
  {
   "cell_type": "markdown",
   "metadata": {},
   "source": [
    "Временно скорректируем датафрейм в соответствии нуждам."
   ]
  },
  {
   "cell_type": "code",
   "execution_count": 50,
   "metadata": {},
   "outputs": [],
   "source": [
    "temp = X_train.groupby(['weekday', 'hour'], as_index=False).median()\n",
    "temp = temp.pivot('weekday', 'hour', 'speed')"
   ]
  },
  {
   "cell_type": "code",
   "execution_count": 51,
   "metadata": {},
   "outputs": [
    {
     "data": {
      "image/png": "[encoded data removed]",
      "text/plain": [
       "<Figure size 720x504 with 2 Axes>"
      ]
     },
     "metadata": {
      "needs_background": "light"
     },
     "output_type": "display_data"
    }
   ],
   "source": [
    "plt.figure(figsize=(10, 7))\n",
    "sns.heatmap(temp)\n",
    "plt.show()"
   ]
  },
  {
   "cell_type": "markdown",
   "metadata": {},
   "source": [
    "Не забудьте удалить колонку со значением скорости из данных!\n",
    "\n",
    "**Вопрос**: Почему значение скорости нельзя использовать во время обучения?"
   ]
  },
  {
   "cell_type": "code",
   "execution_count": 52,
   "metadata": {},
   "outputs": [],
   "source": [
    "X_train = X_train.drop(columns='speed')"
   ]
  },
  {
   "cell_type": "markdown",
   "metadata": {},
   "source": [
    "$\\textbf{A:}$\n",
    "Мы хотим предсказывать длительность поездки -- это наш таргет, и при этом у нас в обучающей выборке есть  расстояние, поэтому хранить еще и скорость будет несколько бессмысленно. И + перегрузка данными"
   ]
  },
  {
   "cell_type": "markdown",
   "metadata": {},
   "source": [
    "**Вопрос**: Посмотрите внимательно на график и скажите, в какие моменты времени скорость минимальна; максимальна."
   ]
  },
  {
   "cell_type": "markdown",
   "metadata": {},
   "source": [
    "$\\textbf{A:}$ Максимальная скорость достигается в 4, 5, 6 утра. Минимальная -- приблизительно с 8 до 19."
   ]
  },
  {
   "cell_type": "markdown",
   "metadata": {},
   "source": [
    "\n",
    "\n",
    "Создайте признаки \"поездка совершается в период пробок\" и \"поездка совершается в период свободных дорог\" (естественно, они не должен зависеть от скорости!):"
   ]
  },
  {
   "cell_type": "code",
   "execution_count": 53,
   "metadata": {},
   "outputs": [],
   "source": [
    "def addJam(data):\n",
    "    data['jam'] = data.apply(lambda x:\n",
    "                               1 \n",
    "                               if \n",
    "                               (x['weekday'] in ['Mon', 'Thu', 'Tue', 'Wed'] and x['hour'] >= 8 and x['hour'] <= 19)\n",
    "                               or \n",
    "                               (x['weekday'] == 'Fri' and x['hour'] >= 8 and x['hour'] <= 23)\n",
    "                               or\n",
    "                               (x['weekday'] == 'Sat' and x['hour'] >= 12 and x['hour'] <= 23)\n",
    "                               or\n",
    "                               (x['weekday'] == 'Sun' and x['hour'] >= 12 and x['hour'] <= 18)\n",
    "                               else\n",
    "                               0\n",
    "                               , axis=1)"
   ]
  },
  {
   "cell_type": "code",
   "execution_count": 54,
   "metadata": {},
   "outputs": [],
   "source": [
    "addJam(X_train)"
   ]
  },
  {
   "cell_type": "code",
   "execution_count": 55,
   "metadata": {},
   "outputs": [],
   "source": [
    "addJam(X_test)"
   ]
  },
  {
   "cell_type": "markdown",
   "metadata": {},
   "source": [
    "**Задание 8 (0.25 балла)**. Как уже было замечено выше, на карте выделяются две точки - аэропорты La Guardia и John F Kennedy. Для каждого из аэропортов добавьте в выборки два признака: началась ли поездка из этого аэропорта и закончилась ли поездка в этом аэропорту."
   ]
  },
  {
   "cell_type": "markdown",
   "metadata": {},
   "source": [
    "Пусть точка будет относится к аэропорту, если она находится внутри $\\varepsilon-$окрестности истинного положения аэропорта $\\varepsilon = 0.02$"
   ]
  },
  {
   "cell_type": "markdown",
   "metadata": {},
   "source": [
    "В функции airportFill добавлется новый признак начала или конца поездки (за это отвечает action_name, принимающий значения 'pickup' и 'dropoff' соответственно).\n",
    "\n",
    "airport_name: 'lg' -- La Guardia, 'jf' -- John F Kennedy \n",
    "\n",
    "long и lat -- долгота и широта истинного положения аэропорта, от которого потом считается $\\varepsilon-$окрестность.\n",
    "\n",
    "$\\varepsilon-$окрестность считается как модуль разности между широтой/долготой точки и истинным значением широты/долготы"
   ]
  },
  {
   "cell_type": "code",
   "execution_count": 56,
   "metadata": {},
   "outputs": [],
   "source": [
    "def airportFill(data, airport_name, column_name, action_name):\n",
    "    if (airport_name == 'lg'):\n",
    "        long = -73.87\n",
    "        lat = 40.77\n",
    "    else:\n",
    "        long = -73.78\n",
    "        lat = 40.64\n",
    "    eps = 0.02\n",
    "    \n",
    "    if (action_name == 'pickup'):\n",
    "        action_long, action_lat = 'pickup_longitude', 'pickup_latitude'\n",
    "    else:\n",
    "        action_long, action_lat = 'dropoff_longitude', 'dropoff_latitude'\n",
    "    \n",
    "    data[column_name] = data.apply(lambda x :\n",
    "                                      1 \n",
    "                                      if \n",
    "                                      ((abs(x[action_long] - long) < eps)\n",
    "                                      and\n",
    "                                      (abs(x[action_lat] - lat) < eps))\n",
    "                                      else\n",
    "                                      0\n",
    "                                      ,axis=1)"
   ]
  },
  {
   "cell_type": "code",
   "execution_count": 57,
   "metadata": {},
   "outputs": [],
   "source": [
    "airportFill(X_train, 'lg', 'lg_air_pickup', 'pickup')\n",
    "airportFill(X_test, 'lg', 'lg_air_pickup', 'pickup')\n",
    "airportFill(X_train, 'lg', 'lg_air_dropoff', 'dropoff')\n",
    "airportFill(X_test, 'lg', 'lg_air_dropoff', 'dropoff')\n",
    "\n",
    "airportFill(X_train, 'jf', 'jf_air_pickup', 'pickup')\n",
    "airportFill(X_test, 'jf', 'jf_air_pickup', 'pickup')\n",
    "airportFill(X_train, 'jf', 'jf_air_dropoff', 'dropoff')\n",
    "airportFill(X_test, 'jf', 'jf_air_dropoff', 'dropoff')"
   ]
  },
  {
   "cell_type": "markdown",
   "metadata": {},
   "source": [
    "Для каждого из созданных признаков нарисуйте \"ящик с усами\" (`sns.boxplot`) распределения логарифма времени поездки"
   ]
  },
  {
   "cell_type": "code",
   "execution_count": 58,
   "metadata": {},
   "outputs": [
    {
     "data": {
      "image/png": "[encoded data removed]",
      "text/plain": [
       "<Figure size 1080x504 with 4 Axes>"
      ]
     },
     "metadata": {
      "needs_background": "light"
     },
     "output_type": "display_data"
    }
   ],
   "source": [
    "fig, axs = plt.subplots(figsize=(15, 7), ncols=2, nrows=2)\n",
    "g1 = sns.boxplot(x='lg_air_pickup', y='log_trip_duration', data=X_train, ax=axs[0][0])\n",
    "g2 = sns.boxplot(x='lg_air_dropoff', y='log_trip_duration', data=X_train, ax=axs[0][1])\n",
    "g3 = sns.boxplot(x='jf_air_pickup', y='log_trip_duration', data=X_train, ax=axs[1][0])\n",
    "g4 = sns.boxplot(x='jf_air_dropoff', y='log_trip_duration', data=X_train, ax=axs[1][1])\n",
    "plt.tight_layout()"
   ]
  },
  {
   "cell_type": "markdown",
   "metadata": {},
   "source": [
    "**Вопрос**: судя по графикам, как вы думаете, хорошими ли получились эти признаки?"
   ]
  },
  {
   "cell_type": "markdown",
   "metadata": {},
   "source": [
    "Да, можно заметить, что средняя длительность любой поездки, заканчивающаяся или начинающаяся в обоих аэропортах, чуть выше, чем длительность поездок \"по городу\". То же самое можно сказать и о минимальной и максимальной длительности поездки до/из аэропорта. Этот признак дает важную информацию для определения таргета."
   ]
  },
  {
   "cell_type": "markdown",
   "metadata": {},
   "source": [
    "<img src=\"https://www.dropbox.com/s/xson9nukz5hba7c/map.png?raw=1\" align=\"right\" width=\"20%\" style=\"margin-left: 20px; margin-bottom: 20px\">\n",
    "\n",
    "**Задание 9 (1 балл)**. Сейчас мы почти что не используем сами значения координат. На это есть несколько причин: по отдельности рассматривать широту и долготу не имеет особого смысла, стоит рассматривать их вместе. Во-вторых, понятно, что зависимость между нашим таргетом и координатами не линейная. Чтобы как-то использовать координаты, можно прибегнуть к следующему трюку: обрамим область с наибольшим количеством поездок прямоугольником (как на рисунке). Разобьем этот прямоугольник на ячейки. Каждой точке сопоставим номер ее ячейки, а тем точкам, что не попали ни в одну из ячеек, сопоставим значение -1.\n",
    "\n",
    "Напишите трансформер, который сначала разбивает показанную на рисунке область на ячейки, а затем создает два признака: номер ячейки, в которой началась поездка, и номер ячейки, в которой закончилась поездка. Количество строк и столбцов выберите самостоятельно.\n",
    "\n",
    "Обратите внимание, что все вычисления должны быть векторизованными, трансформер не должен модифицировать передаваемую ему выборку inplace, а все необходимые статистики (если они вдруг нужны) нужно считать только по обучающей выборке в методе `fit`:"
   ]
  },
  {
   "cell_type": "markdown",
   "metadata": {},
   "source": [
    "1. Статистики я тут ниакие не считаю, поэтому fit у меня свободный.\n",
    "2. Добавление признаков происходит в transform.\n",
    "3. transfrom использует функцию zone_detect, которая вычисляет к какой ячейке относится координата.\n",
    "4. Подробнее о zone_detect. \n",
    "\n",
    "1) Карту я разбила следующим образом: минимальная широта и долгота (левый нижний угол) 40.70, -74.02 соответсвенно. Верхний правый угол 40.80, -73.921\n",
    "\n",
    "2) Всего 4 строки и 3 столбца, а это значит, что шаг по долготе имеет длину 0.033, а по широте -0.025. (если мы начинаем с верхнего левого угла)\n",
    "\n",
    "3) c -- отвечает за номер столбца, а r -- за номер строки. Впоследствии ячейка вычисляется по формуле zone = r * 3 + c + 1\n",
    "\n",
    "4) Итак, на вход функции подаются координаты: x -- широта, y -- долгота.\n",
    "\n",
    "5) В одном цикле вычисляется в какой отрезок по широте(долготе) попадает координата x(y).\n",
    "\n",
    "6) Каждый из таких отрезков попадания соответствует номеру строки(столбца), поэтому в цикле постоянно обновляется r(c)\n",
    "\n",
    "7) Если ни r, ни с не равны -1 (то есть точка попала в какую-то ячейку прямоугльника), то ячейка вычисляется по формуле zone = r * 3 + c + 1. Иначе -1."
   ]
  },
  {
   "cell_type": "code",
   "execution_count": 59,
   "metadata": {},
   "outputs": [],
   "source": [
    "from sklearn.base import BaseEstimator, TransformerMixin\n",
    "\n",
    "class MapGridTransformer(BaseEstimator, TransformerMixin):\n",
    "    def fit(self, X, y=None):\n",
    "        return self\n",
    "    def zone_detect(self, x, y):\n",
    "        c, r = -1, -1\n",
    "        long, lat = -74.02, 40.80\n",
    "        while x >= 40.70 and x <= lat:\n",
    "            r += 1\n",
    "            lat -= 0.025\n",
    "            # zone += 3\n",
    "        while y <= -73.921 and y >= long:\n",
    "            c += 1\n",
    "            long += 0.033\n",
    "            # zone += 1\n",
    "        if c == -1 or r == -1:\n",
    "            zone = -1\n",
    "        else:\n",
    "            zone = r * 3 + c + 1\n",
    "        return zone\n",
    "    def transform(self, X):\n",
    "        df = X.copy()\n",
    "        df['pickup_zone'] = df.apply(lambda x :\n",
    "                                     self.zone_detect(x['pickup_latitude'], x['pickup_longitude'])\n",
    "                                     , axis = 1)\n",
    "        df['dropoff_zone'] = df.apply(lambda x :\n",
    "                                     self.zone_detect(x['dropoff_latitude'], x['dropoff_longitude'])\n",
    "                                     , axis = 1)\n",
    "        return df"
   ]
  },
  {
   "cell_type": "code",
   "execution_count": 60,
   "metadata": {},
   "outputs": [],
   "source": [
    "gridtransform = MapGridTransformer()"
   ]
  },
  {
   "cell_type": "code",
   "execution_count": 61,
   "metadata": {},
   "outputs": [],
   "source": [
    "X_train = gridtransform.transform(X_train)\n",
    "X_test = gridtransform.transform(X_test)"
   ]
  },
  {
   "cell_type": "markdown",
   "metadata": {},
   "source": [
    "**Задание 10 (0.25 балла)**. Обучите `Ridge`-регрессию со стандартными параметрами на признаках, которые мы выделили к текущему моменту. Категориальные признаки закодируйте через one-hot-кодирование, численные признаки отмасштабируйте."
   ]
  },
  {
   "cell_type": "code",
   "execution_count": 62,
   "metadata": {},
   "outputs": [
    {
     "data": {
      "text/plain": [
       "Index(['vendor_id', 'pickup_datetime', 'passenger_count', 'pickup_longitude',\n",
       "       'pickup_latitude', 'dropoff_longitude', 'dropoff_latitude',\n",
       "       'store_and_fwd_flag', 'log_trip_duration', 'weekday', 'month', 'hour',\n",
       "       'is_anomaly', 'day_num', 'haversine', 'log_haversine', 'jam',\n",
       "       'lg_air_pickup', 'lg_air_dropoff', 'jf_air_pickup', 'jf_air_dropoff',\n",
       "       'pickup_zone', 'dropoff_zone'],\n",
       "      dtype='object')"
      ]
     },
     "execution_count": 62,
     "metadata": {},
     "output_type": "execute_result"
    }
   ],
   "source": [
    "X_train.columns"
   ]
  },
  {
   "cell_type": "code",
   "execution_count": 63,
   "metadata": {},
   "outputs": [],
   "source": [
    "categorical = list(['weekday', 'month'])\n",
    "numeric_features = list(['hour', 'is_anomaly', 'day_num', 'haversine' , 'log_haversine',\n",
    "                         'jam', 'lg_air_pickup', 'lg_air_dropoff',\n",
    "                         'jf_air_pickup', 'jf_air_dropoff', 'pickup_zone', 'dropoff_zone'])"
   ]
  },
  {
   "cell_type": "code",
   "execution_count": 64,
   "metadata": {},
   "outputs": [],
   "source": [
    "column_transformer = ColumnTransformer([\n",
    "    ('ohe', OneHotEncoder(handle_unknown=\"ignore\"), categorical),\n",
    "    ('scaling', StandardScaler(), numeric_features)\n",
    "])\n",
    "\n",
    "pipeline = Pipeline(steps=[\n",
    "    ('ohe_and_scaling', column_transformer),\n",
    "    ('regression', Ridge())\n",
    "])\n",
    "\n",
    "model = pipeline.fit(X_train, y_train['log_trip_duration'])\n",
    "y_pred = model.predict(X_test)"
   ]
  },
  {
   "cell_type": "code",
   "execution_count": 65,
   "metadata": {},
   "outputs": [
    {
     "name": "stdout",
     "output_type": "stream",
     "text": [
      "Test RMSLE = 0.5528\n"
     ]
    }
   ],
   "source": [
    "print(\"Test RMSLE = %.4f\" % rmse(y_test['log_trip_duration'],y_pred))"
   ]
  },
  {
   "cell_type": "markdown",
   "metadata": {},
   "source": [
    "## Часть 3. Изучаем оставшиеся признаки (1 балл)\n",
    "\n",
    "**Задание 11 (0.75 баллов)**. У нас осталось еще 3 признака, которые мы не исследовали: `vendor_id`, `passenger_count` и `store_and_fwd_flag`.\n",
    "\n",
    "**Вопрос**: Подумайте, почему каждый из этих признаков может быть потенциально полезным.\n",
    "\n",
    "Посчитайте, сколько есть уникальных значений у каждого из этих признаков:"
   ]
  },
  {
   "cell_type": "code",
   "execution_count": 66,
   "metadata": {},
   "outputs": [],
   "source": [
    "saved_X_train, saved_X_test, saved_y_train, saved_y_test = X_train.copy(), X_test.copy(), y_train.copy(), y_test.copy()"
   ]
  },
  {
   "cell_type": "code",
   "execution_count": 67,
   "metadata": {},
   "outputs": [
    {
     "data": {
      "text/plain": [
       "2"
      ]
     },
     "execution_count": 67,
     "metadata": {},
     "output_type": "execute_result"
    }
   ],
   "source": [
    "X_train['vendor_id'].nunique()"
   ]
  },
  {
   "cell_type": "code",
   "execution_count": 68,
   "metadata": {},
   "outputs": [
    {
     "data": {
      "text/plain": [
       "9"
      ]
     },
     "execution_count": 68,
     "metadata": {},
     "output_type": "execute_result"
    }
   ],
   "source": [
    "X_train['passenger_count'].nunique()"
   ]
  },
  {
   "cell_type": "code",
   "execution_count": 69,
   "metadata": {},
   "outputs": [
    {
     "data": {
      "text/plain": [
       "2"
      ]
     },
     "execution_count": 69,
     "metadata": {},
     "output_type": "execute_result"
    }
   ],
   "source": [
    "X_train['store_and_fwd_flag'].nunique()"
   ]
  },
  {
   "cell_type": "markdown",
   "metadata": {},
   "source": [
    "Постройте \"ящики с усами\" распределений логарифма времени поездки в зависимости от значений каждого из признаков"
   ]
  },
  {
   "cell_type": "code",
   "execution_count": 70,
   "metadata": {},
   "outputs": [
    {
     "data": {
      "image/png": "[encoded data removed]",
      "text/plain": [
       "<Figure size 1080x504 with 3 Axes>"
      ]
     },
     "metadata": {
      "needs_background": "light"
     },
     "output_type": "display_data"
    }
   ],
   "source": [
    "fig, axs = plt.subplots(figsize=(15, 7), ncols=3)\n",
    "g1 = sns.boxplot(x='vendor_id', y='log_trip_duration', data=X_train, ax=axs[0])\n",
    "g2 = sns.boxplot(x='passenger_count', y='log_trip_duration', data=X_train, ax=axs[1])\n",
    "g3 = sns.boxplot(x='store_and_fwd_flag', y='log_trip_duration', data=X_train, ax=axs[2])\n",
    "\n",
    "plt.tight_layout()"
   ]
  },
  {
   "cell_type": "markdown",
   "metadata": {},
   "source": [
    "Переведите признаки `vendor_id` и `store_and_fwd_flag` в значения $\\{0;1\\}$"
   ]
  },
  {
   "cell_type": "code",
   "execution_count": 71,
   "metadata": {},
   "outputs": [],
   "source": [
    "X_train['vendor_id'] = X_train['vendor_id'].apply(lambda x : x % 2)\n",
    "X_test['vendor_id'] = X_test['vendor_id'].apply(lambda x : x % 2)"
   ]
  },
  {
   "cell_type": "code",
   "execution_count": 72,
   "metadata": {},
   "outputs": [],
   "source": [
    "X_train['store_and_fwd_flag'] = X_train['store_and_fwd_flag'].map({'N': 1, 'Y':0})\n",
    "X_test['store_and_fwd_flag'] = X_test['store_and_fwd_flag'].map({'N': 1, 'Y':0})"
   ]
  },
  {
   "cell_type": "markdown",
   "metadata": {},
   "source": [
    "**Вопрос**: Основываясь на графиках выше, как вы думаете, будут ли эти признаки сильными?"
   ]
  },
  {
   "cell_type": "markdown",
   "metadata": {},
   "source": [
    "Не очень, потому что видно, что в целом они распределены примерно одинаково"
   ]
  },
  {
   "cell_type": "markdown",
   "metadata": {},
   "source": [
    "**Задание 12 (0.25 баллов)**. Проверьте свои предположения, обучив модель в том числе и на этих трех признаках. Обучайте `Ridge`-регрессию со стандартными параметрами. Категориальные признаки закодируйте one-hot-кодированием, а численные отмасштабируйте."
   ]
  },
  {
   "cell_type": "code",
   "execution_count": 73,
   "metadata": {},
   "outputs": [],
   "source": [
    "categorical = list(['weekday', 'month'])\n",
    "numeric_features = list(['store_and_fwd_flag', 'passenger_count', 'vendor_id',\n",
    "                         'hour', 'is_anomaly', 'day_num', 'haversine', 'log_haversine',\n",
    "                         'jam', 'lg_air_pickup', 'lg_air_dropoff',\n",
    "                         'jf_air_pickup', 'jf_air_dropoff', 'pickup_zone', 'dropoff_zone'])\n",
    "column_transformer = ColumnTransformer([\n",
    "    ('ohe', OneHotEncoder(handle_unknown=\"ignore\"), categorical),\n",
    "    ('scaling', StandardScaler(), numeric_features)\n",
    "])\n",
    "\n",
    "pipeline = Pipeline(steps=[\n",
    "    ('ohe_and_scaling', column_transformer),\n",
    "    ('regression', Ridge())\n",
    "])\n",
    "\n",
    "model = pipeline.fit(X_train, y_train['log_trip_duration'])\n",
    "y_pred = model.predict(X_test)\n"
   ]
  },
  {
   "cell_type": "code",
   "execution_count": 74,
   "metadata": {},
   "outputs": [
    {
     "name": "stdout",
     "output_type": "stream",
     "text": [
      "Test RMSLE = 0.5526\n"
     ]
    }
   ],
   "source": [
    "print(\"Test RMSLE = %.4f\" % rmse(y_test['log_trip_duration'],y_pred))"
   ]
  },
  {
   "cell_type": "markdown",
   "metadata": {},
   "source": [
    "Выкидываем store_and_fwd_flag так как без него результат чуть лучше (на 0.0001)"
   ]
  },
  {
   "cell_type": "code",
   "execution_count": 75,
   "metadata": {},
   "outputs": [],
   "source": [
    "X_train = X_train.drop(columns=['store_and_fwd_flag'])\n",
    "X_test = X_test.drop(columns=['store_and_fwd_flag'])"
   ]
  },
  {
   "cell_type": "markdown",
   "metadata": {},
   "source": [
    "Если признаки не дали какого-то ощутимого улучшения метрики, их можно выбросить из данных."
   ]
  },
  {
   "cell_type": "markdown",
   "metadata": {},
   "source": [
    "## Часть 4. Улучшаем модель (3 балла)"
   ]
  },
  {
   "cell_type": "markdown",
   "metadata": {},
   "source": [
    "Примечание к этой части: как бы я что-то не убирала, результаты становились только хуже..."
   ]
  },
  {
   "cell_type": "code",
   "execution_count": 76,
   "metadata": {},
   "outputs": [],
   "source": [
    "saved_X_train, saved_X_test, saved_y_train, saved_y_test = X_train.copy(), X_test.copy(), y_train.copy(), y_test.copy()"
   ]
  },
  {
   "cell_type": "code",
   "execution_count": 217,
   "metadata": {},
   "outputs": [],
   "source": [
    "X_train, X_test, y_train, y_test = saved_X_train.copy(), saved_X_test.copy(), saved_y_train.copy(), saved_y_test.copy()"
   ]
  },
  {
   "cell_type": "code",
   "execution_count": 77,
   "metadata": {},
   "outputs": [],
   "source": [
    "def make_mask(data):\n",
    "    q1, q3 = np.quantile(data, [0.25, 0.75])\n",
    "    iqr = q3 - q1\n",
    "    lower_bound = q1 - (1.5 * iqr)\n",
    "    upper_bound = q3 + (1.5 * iqr)\n",
    "    mask = (data < upper_bound) * (data > lower_bound)\n",
    "    return mask"
   ]
  },
  {
   "cell_type": "markdown",
   "metadata": {},
   "source": [
    "**Задание 13 (1 балл)**. В наших данных есть нетипичные объекты: с аномально маленьким времени поездки, с очень большим пройденным расстоянием или очень большими остатками регрессии. В этом задании предлагается исключить такие объекты из обучающей выборки. Для этого нарисуйте гистограммы распределения упомянутых выше величин, выберите объекты, которые можно назвать выбросами, и очистите обучающую выборку от них."
   ]
  },
  {
   "cell_type": "code",
   "execution_count": 146,
   "metadata": {},
   "outputs": [
    {
     "data": {
      "text/plain": [
       "11.324195417595107"
      ]
     },
     "execution_count": 146,
     "metadata": {},
     "output_type": "execute_result"
    }
   ],
   "source": [
    "np.log1p(23 * 3600)"
   ]
  },
  {
   "cell_type": "code",
   "execution_count": 218,
   "metadata": {},
   "outputs": [],
   "source": [
    "mask_log_td = (X_train['log_trip_duration'] > 2) * (X_train['log_trip_duration'] < 11)"
   ]
  },
  {
   "cell_type": "code",
   "execution_count": 219,
   "metadata": {},
   "outputs": [
    {
     "data": {
      "text/plain": [
       "<matplotlib.axes._subplots.AxesSubplot at 0x7f5e6a5aaeb8>"
      ]
     },
     "execution_count": 219,
     "metadata": {},
     "output_type": "execute_result"
    },
    {
     "data": {
      "image/png": "[encoded data removed]",
      "text/plain": [
       "<Figure size 1080x504 with 2 Axes>"
      ]
     },
     "metadata": {
      "needs_background": "light"
     },
     "output_type": "display_data"
    }
   ],
   "source": [
    "fig, axs = plt.subplots(figsize=(15, 7), ncols=2)\n",
    "sns.distplot(X_train['log_trip_duration'], ax=axs[0])\n",
    "sns.distplot(X_train['log_trip_duration'] * mask_log_td, ax=axs[1])"
   ]
  },
  {
   "cell_type": "code",
   "execution_count": 220,
   "metadata": {},
   "outputs": [],
   "source": [
    "X_train.drop(mask_log_td[mask_log_td == False].index, inplace=True)\n",
    "y_train.drop(mask_log_td[mask_log_td == False].index, inplace=True)"
   ]
  },
  {
   "cell_type": "markdown",
   "metadata": {},
   "source": [
    "Устраняем оч большие расстояния"
   ]
  },
  {
   "cell_type": "code",
   "execution_count": 209,
   "metadata": {},
   "outputs": [],
   "source": [
    "mask_haversine = (X_train['haversine'] > 0 ) * (X_train['log_haversine'] < 6)\n",
    "# mask_haversine = make_mask(X_train['log_haversine'])"
   ]
  },
  {
   "cell_type": "code",
   "execution_count": 210,
   "metadata": {},
   "outputs": [
    {
     "data": {
      "text/plain": [
       "<matplotlib.axes._subplots.AxesSubplot at 0x7f5e6a86c080>"
      ]
     },
     "execution_count": 210,
     "metadata": {},
     "output_type": "execute_result"
    },
    {
     "data": {
      "image/png": "[encoded data removed]",
      "text/plain": [
       "<Figure size 720x360 with 2 Axes>"
      ]
     },
     "metadata": {
      "needs_background": "light"
     },
     "output_type": "display_data"
    }
   ],
   "source": [
    "fig, axs = plt.subplots(figsize=(10, 5), ncols=2)\n",
    "sns.distplot(X_train['log_haversine'], ax=axs[0])\n",
    "sns.distplot(X_train['log_haversine'] * mask_haversine, ax=axs[1])"
   ]
  },
  {
   "cell_type": "code",
   "execution_count": 211,
   "metadata": {},
   "outputs": [],
   "source": [
    "X_train.drop(mask_haversine[mask_haversine == False].index, inplace=True)\n",
    "y_train.drop(mask_haversine[mask_haversine == False].index, inplace=True)"
   ]
  },
  {
   "cell_type": "code",
   "execution_count": 212,
   "metadata": {},
   "outputs": [],
   "source": [
    "categorical = list(['weekday', 'month'])\n",
    "numeric_features = list(['passenger_count', 'vendor_id',\n",
    "                         'hour', 'is_anomaly', 'day_num', 'haversine', 'log_haversine',\n",
    "                         'jam', 'lg_air_pickup', 'lg_air_dropoff',\n",
    "                         'jf_air_pickup', 'jf_air_dropoff', 'pickup_zone', 'dropoff_zone'])\n",
    "column_transformer = ColumnTransformer([\n",
    "    ('ohe', OneHotEncoder(handle_unknown=\"ignore\"), categorical),\n",
    "    ('scaling', StandardScaler(), numeric_features)\n",
    "])\n",
    "\n",
    "pipeline = Pipeline(steps=[\n",
    "    ('ohe_and_scaling', column_transformer),\n",
    "    ('regression', Ridge())\n",
    "])\n",
    "\n",
    "model = pipeline.fit(X_train, y_train['log_trip_duration'])\n",
    "y_pred = model.predict(X_test)"
   ]
  },
  {
   "cell_type": "markdown",
   "metadata": {},
   "source": [
    "Теперь большие остатки регресии. Возьмем предсказание модели выше."
   ]
  },
  {
   "cell_type": "code",
   "execution_count": 213,
   "metadata": {},
   "outputs": [],
   "source": [
    "error = (np.log1p(y_train['log_trip_duration']) - np.log1p(model.predict(X_train))) ** 2\n",
    "mask_error = error.dropna() < 0.9\n",
    "#mask_error = make_mask(error.dropna())"
   ]
  },
  {
   "cell_type": "code",
   "execution_count": 214,
   "metadata": {},
   "outputs": [
    {
     "data": {
      "text/plain": [
       "<matplotlib.axes._subplots.AxesSubplot at 0x7f5e6a680588>"
      ]
     },
     "execution_count": 214,
     "metadata": {},
     "output_type": "execute_result"
    },
    {
     "data": {
      "image/png": "[encoded data removed]",
      "text/plain": [
       "<Figure size 720x360 with 2 Axes>"
      ]
     },
     "metadata": {
      "needs_background": "light"
     },
     "output_type": "display_data"
    }
   ],
   "source": [
    "fig, axs = plt.subplots(figsize=(10, 5), ncols=2)\n",
    "sns.distplot(error.dropna(), ax=axs[0])\n",
    "sns.distplot(error.dropna() * mask_error, ax=axs[1])"
   ]
  },
  {
   "cell_type": "code",
   "execution_count": 215,
   "metadata": {},
   "outputs": [],
   "source": [
    "X_train.drop(mask_error[mask_error == False].index, inplace=True)\n",
    "y_train.drop(mask_error[mask_error == False].index, inplace=True)"
   ]
  },
  {
   "cell_type": "markdown",
   "metadata": {},
   "source": [
    "Сейчас у нас очень много категориальных признаков. В категориальных признаках могут содержаться редкие категории, обычно это плохо: модель сильно переобучается на таких примерах. Попробуйте объединить редкие категории в одну. Естественно, делать это нужно только для действительно редких категорий."
   ]
  },
  {
   "cell_type": "markdown",
   "metadata": {},
   "source": [
    "Сейчас у меня из категориальных признаков только 'month' и 'weekday', если посмотреть ниже, видно, что все категории не такие уж и редкие."
   ]
  },
  {
   "cell_type": "code",
   "execution_count": 189,
   "metadata": {},
   "outputs": [
    {
     "data": {
      "text/html": [
       "<div>\n",
       "<style scoped>\n",
       "    .dataframe tbody tr th:only-of-type {\n",
       "        vertical-align: middle;\n",
       "    }\n",
       "\n",
       "    .dataframe tbody tr th {\n",
       "        vertical-align: top;\n",
       "    }\n",
       "\n",
       "    .dataframe thead th {\n",
       "        text-align: right;\n",
       "    }\n",
       "</style>\n",
       "<table border=\"1\" class=\"dataframe\">\n",
       "  <thead>\n",
       "    <tr style=\"text-align: right;\">\n",
       "      <th></th>\n",
       "      <th>vendor_id</th>\n",
       "      <th>pickup_datetime</th>\n",
       "      <th>passenger_count</th>\n",
       "      <th>pickup_longitude</th>\n",
       "      <th>pickup_latitude</th>\n",
       "      <th>dropoff_longitude</th>\n",
       "      <th>dropoff_latitude</th>\n",
       "      <th>log_trip_duration</th>\n",
       "      <th>weekday</th>\n",
       "      <th>hour</th>\n",
       "      <th>...</th>\n",
       "      <th>day_num</th>\n",
       "      <th>haversine</th>\n",
       "      <th>log_haversine</th>\n",
       "      <th>jam</th>\n",
       "      <th>lg_air_pickup</th>\n",
       "      <th>lg_air_dropoff</th>\n",
       "      <th>jf_air_pickup</th>\n",
       "      <th>jf_air_dropoff</th>\n",
       "      <th>pickup_zone</th>\n",
       "      <th>dropoff_zone</th>\n",
       "    </tr>\n",
       "    <tr>\n",
       "      <th>month</th>\n",
       "      <th></th>\n",
       "      <th></th>\n",
       "      <th></th>\n",
       "      <th></th>\n",
       "      <th></th>\n",
       "      <th></th>\n",
       "      <th></th>\n",
       "      <th></th>\n",
       "      <th></th>\n",
       "      <th></th>\n",
       "      <th></th>\n",
       "      <th></th>\n",
       "      <th></th>\n",
       "      <th></th>\n",
       "      <th></th>\n",
       "      <th></th>\n",
       "      <th></th>\n",
       "      <th></th>\n",
       "      <th></th>\n",
       "      <th></th>\n",
       "      <th></th>\n",
       "    </tr>\n",
       "  </thead>\n",
       "  <tbody>\n",
       "    <tr>\n",
       "      <th>Jan</th>\n",
       "      <td>160941</td>\n",
       "      <td>160941</td>\n",
       "      <td>160941</td>\n",
       "      <td>160941</td>\n",
       "      <td>160941</td>\n",
       "      <td>160941</td>\n",
       "      <td>160941</td>\n",
       "      <td>160941</td>\n",
       "      <td>160941</td>\n",
       "      <td>160941</td>\n",
       "      <td>...</td>\n",
       "      <td>160941</td>\n",
       "      <td>160941</td>\n",
       "      <td>160941</td>\n",
       "      <td>160941</td>\n",
       "      <td>160941</td>\n",
       "      <td>160941</td>\n",
       "      <td>160941</td>\n",
       "      <td>160941</td>\n",
       "      <td>160941</td>\n",
       "      <td>160941</td>\n",
       "    </tr>\n",
       "    <tr>\n",
       "      <th>Jun</th>\n",
       "      <td>163997</td>\n",
       "      <td>163997</td>\n",
       "      <td>163997</td>\n",
       "      <td>163997</td>\n",
       "      <td>163997</td>\n",
       "      <td>163997</td>\n",
       "      <td>163997</td>\n",
       "      <td>163997</td>\n",
       "      <td>163997</td>\n",
       "      <td>163997</td>\n",
       "      <td>...</td>\n",
       "      <td>163997</td>\n",
       "      <td>163997</td>\n",
       "      <td>163997</td>\n",
       "      <td>163997</td>\n",
       "      <td>163997</td>\n",
       "      <td>163997</td>\n",
       "      <td>163997</td>\n",
       "      <td>163997</td>\n",
       "      <td>163997</td>\n",
       "      <td>163997</td>\n",
       "    </tr>\n",
       "    <tr>\n",
       "      <th>Feb</th>\n",
       "      <td>167088</td>\n",
       "      <td>167088</td>\n",
       "      <td>167088</td>\n",
       "      <td>167088</td>\n",
       "      <td>167088</td>\n",
       "      <td>167088</td>\n",
       "      <td>167088</td>\n",
       "      <td>167088</td>\n",
       "      <td>167088</td>\n",
       "      <td>167088</td>\n",
       "      <td>...</td>\n",
       "      <td>167088</td>\n",
       "      <td>167088</td>\n",
       "      <td>167088</td>\n",
       "      <td>167088</td>\n",
       "      <td>167088</td>\n",
       "      <td>167088</td>\n",
       "      <td>167088</td>\n",
       "      <td>167088</td>\n",
       "      <td>167088</td>\n",
       "      <td>167088</td>\n",
       "    </tr>\n",
       "    <tr>\n",
       "      <th>May</th>\n",
       "      <td>173646</td>\n",
       "      <td>173646</td>\n",
       "      <td>173646</td>\n",
       "      <td>173646</td>\n",
       "      <td>173646</td>\n",
       "      <td>173646</td>\n",
       "      <td>173646</td>\n",
       "      <td>173646</td>\n",
       "      <td>173646</td>\n",
       "      <td>173646</td>\n",
       "      <td>...</td>\n",
       "      <td>173646</td>\n",
       "      <td>173646</td>\n",
       "      <td>173646</td>\n",
       "      <td>173646</td>\n",
       "      <td>173646</td>\n",
       "      <td>173646</td>\n",
       "      <td>173646</td>\n",
       "      <td>173646</td>\n",
       "      <td>173646</td>\n",
       "      <td>173646</td>\n",
       "    </tr>\n",
       "    <tr>\n",
       "      <th>Apr</th>\n",
       "      <td>175787</td>\n",
       "      <td>175787</td>\n",
       "      <td>175787</td>\n",
       "      <td>175787</td>\n",
       "      <td>175787</td>\n",
       "      <td>175787</td>\n",
       "      <td>175787</td>\n",
       "      <td>175787</td>\n",
       "      <td>175787</td>\n",
       "      <td>175787</td>\n",
       "      <td>...</td>\n",
       "      <td>175787</td>\n",
       "      <td>175787</td>\n",
       "      <td>175787</td>\n",
       "      <td>175787</td>\n",
       "      <td>175787</td>\n",
       "      <td>175787</td>\n",
       "      <td>175787</td>\n",
       "      <td>175787</td>\n",
       "      <td>175787</td>\n",
       "      <td>175787</td>\n",
       "    </tr>\n",
       "    <tr>\n",
       "      <th>Mar</th>\n",
       "      <td>179591</td>\n",
       "      <td>179591</td>\n",
       "      <td>179591</td>\n",
       "      <td>179591</td>\n",
       "      <td>179591</td>\n",
       "      <td>179591</td>\n",
       "      <td>179591</td>\n",
       "      <td>179591</td>\n",
       "      <td>179591</td>\n",
       "      <td>179591</td>\n",
       "      <td>...</td>\n",
       "      <td>179591</td>\n",
       "      <td>179591</td>\n",
       "      <td>179591</td>\n",
       "      <td>179591</td>\n",
       "      <td>179591</td>\n",
       "      <td>179591</td>\n",
       "      <td>179591</td>\n",
       "      <td>179591</td>\n",
       "      <td>179591</td>\n",
       "      <td>179591</td>\n",
       "    </tr>\n",
       "  </tbody>\n",
       "</table>\n",
       "<p>6 rows × 21 columns</p>\n",
       "</div>"
      ],
      "text/plain": [
       "       vendor_id  pickup_datetime  passenger_count  pickup_longitude  \\\n",
       "month                                                                  \n",
       "Jan       160941           160941           160941            160941   \n",
       "Jun       163997           163997           163997            163997   \n",
       "Feb       167088           167088           167088            167088   \n",
       "May       173646           173646           173646            173646   \n",
       "Apr       175787           175787           175787            175787   \n",
       "Mar       179591           179591           179591            179591   \n",
       "\n",
       "       pickup_latitude  dropoff_longitude  dropoff_latitude  \\\n",
       "month                                                         \n",
       "Jan             160941             160941            160941   \n",
       "Jun             163997             163997            163997   \n",
       "Feb             167088             167088            167088   \n",
       "May             173646             173646            173646   \n",
       "Apr             175787             175787            175787   \n",
       "Mar             179591             179591            179591   \n",
       "\n",
       "       log_trip_duration  weekday    hour      ...       day_num  haversine  \\\n",
       "month                                          ...                            \n",
       "Jan               160941   160941  160941      ...        160941     160941   \n",
       "Jun               163997   163997  163997      ...        163997     163997   \n",
       "Feb               167088   167088  167088      ...        167088     167088   \n",
       "May               173646   173646  173646      ...        173646     173646   \n",
       "Apr               175787   175787  175787      ...        175787     175787   \n",
       "Mar               179591   179591  179591      ...        179591     179591   \n",
       "\n",
       "       log_haversine     jam  lg_air_pickup  lg_air_dropoff  jf_air_pickup  \\\n",
       "month                                                                        \n",
       "Jan           160941  160941         160941          160941         160941   \n",
       "Jun           163997  163997         163997          163997         163997   \n",
       "Feb           167088  167088         167088          167088         167088   \n",
       "May           173646  173646         173646          173646         173646   \n",
       "Apr           175787  175787         175787          175787         175787   \n",
       "Mar           179591  179591         179591          179591         179591   \n",
       "\n",
       "       jf_air_dropoff  pickup_zone  dropoff_zone  \n",
       "month                                             \n",
       "Jan            160941       160941        160941  \n",
       "Jun            163997       163997        163997  \n",
       "Feb            167088       167088        167088  \n",
       "May            173646       173646        173646  \n",
       "Apr            175787       175787        175787  \n",
       "Mar            179591       179591        179591  \n",
       "\n",
       "[6 rows x 21 columns]"
      ]
     },
     "execution_count": 189,
     "metadata": {},
     "output_type": "execute_result"
    }
   ],
   "source": [
    "X_train.groupby('month').count().sort_values(by='hour')"
   ]
  },
  {
   "cell_type": "code",
   "execution_count": 191,
   "metadata": {},
   "outputs": [
    {
     "data": {
      "text/html": [
       "<div>\n",
       "<style scoped>\n",
       "    .dataframe tbody tr th:only-of-type {\n",
       "        vertical-align: middle;\n",
       "    }\n",
       "\n",
       "    .dataframe tbody tr th {\n",
       "        vertical-align: top;\n",
       "    }\n",
       "\n",
       "    .dataframe thead th {\n",
       "        text-align: right;\n",
       "    }\n",
       "</style>\n",
       "<table border=\"1\" class=\"dataframe\">\n",
       "  <thead>\n",
       "    <tr style=\"text-align: right;\">\n",
       "      <th></th>\n",
       "      <th>vendor_id</th>\n",
       "      <th>pickup_datetime</th>\n",
       "      <th>passenger_count</th>\n",
       "      <th>pickup_longitude</th>\n",
       "      <th>pickup_latitude</th>\n",
       "      <th>dropoff_longitude</th>\n",
       "      <th>dropoff_latitude</th>\n",
       "      <th>log_trip_duration</th>\n",
       "      <th>month</th>\n",
       "      <th>hour</th>\n",
       "      <th>...</th>\n",
       "      <th>day_num</th>\n",
       "      <th>haversine</th>\n",
       "      <th>log_haversine</th>\n",
       "      <th>jam</th>\n",
       "      <th>lg_air_pickup</th>\n",
       "      <th>lg_air_dropoff</th>\n",
       "      <th>jf_air_pickup</th>\n",
       "      <th>jf_air_dropoff</th>\n",
       "      <th>pickup_zone</th>\n",
       "      <th>dropoff_zone</th>\n",
       "    </tr>\n",
       "    <tr>\n",
       "      <th>weekday</th>\n",
       "      <th></th>\n",
       "      <th></th>\n",
       "      <th></th>\n",
       "      <th></th>\n",
       "      <th></th>\n",
       "      <th></th>\n",
       "      <th></th>\n",
       "      <th></th>\n",
       "      <th></th>\n",
       "      <th></th>\n",
       "      <th></th>\n",
       "      <th></th>\n",
       "      <th></th>\n",
       "      <th></th>\n",
       "      <th></th>\n",
       "      <th></th>\n",
       "      <th></th>\n",
       "      <th></th>\n",
       "      <th></th>\n",
       "      <th></th>\n",
       "      <th></th>\n",
       "    </tr>\n",
       "  </thead>\n",
       "  <tbody>\n",
       "    <tr>\n",
       "      <th>Mon</th>\n",
       "      <td>131344</td>\n",
       "      <td>131344</td>\n",
       "      <td>131344</td>\n",
       "      <td>131344</td>\n",
       "      <td>131344</td>\n",
       "      <td>131344</td>\n",
       "      <td>131344</td>\n",
       "      <td>131344</td>\n",
       "      <td>131344</td>\n",
       "      <td>131344</td>\n",
       "      <td>...</td>\n",
       "      <td>131344</td>\n",
       "      <td>131344</td>\n",
       "      <td>131344</td>\n",
       "      <td>131344</td>\n",
       "      <td>131344</td>\n",
       "      <td>131344</td>\n",
       "      <td>131344</td>\n",
       "      <td>131344</td>\n",
       "      <td>131344</td>\n",
       "      <td>131344</td>\n",
       "    </tr>\n",
       "    <tr>\n",
       "      <th>Sun</th>\n",
       "      <td>136538</td>\n",
       "      <td>136538</td>\n",
       "      <td>136538</td>\n",
       "      <td>136538</td>\n",
       "      <td>136538</td>\n",
       "      <td>136538</td>\n",
       "      <td>136538</td>\n",
       "      <td>136538</td>\n",
       "      <td>136538</td>\n",
       "      <td>136538</td>\n",
       "      <td>...</td>\n",
       "      <td>136538</td>\n",
       "      <td>136538</td>\n",
       "      <td>136538</td>\n",
       "      <td>136538</td>\n",
       "      <td>136538</td>\n",
       "      <td>136538</td>\n",
       "      <td>136538</td>\n",
       "      <td>136538</td>\n",
       "      <td>136538</td>\n",
       "      <td>136538</td>\n",
       "    </tr>\n",
       "    <tr>\n",
       "      <th>Tue</th>\n",
       "      <td>141750</td>\n",
       "      <td>141750</td>\n",
       "      <td>141750</td>\n",
       "      <td>141750</td>\n",
       "      <td>141750</td>\n",
       "      <td>141750</td>\n",
       "      <td>141750</td>\n",
       "      <td>141750</td>\n",
       "      <td>141750</td>\n",
       "      <td>141750</td>\n",
       "      <td>...</td>\n",
       "      <td>141750</td>\n",
       "      <td>141750</td>\n",
       "      <td>141750</td>\n",
       "      <td>141750</td>\n",
       "      <td>141750</td>\n",
       "      <td>141750</td>\n",
       "      <td>141750</td>\n",
       "      <td>141750</td>\n",
       "      <td>141750</td>\n",
       "      <td>141750</td>\n",
       "    </tr>\n",
       "    <tr>\n",
       "      <th>Wed</th>\n",
       "      <td>147013</td>\n",
       "      <td>147013</td>\n",
       "      <td>147013</td>\n",
       "      <td>147013</td>\n",
       "      <td>147013</td>\n",
       "      <td>147013</td>\n",
       "      <td>147013</td>\n",
       "      <td>147013</td>\n",
       "      <td>147013</td>\n",
       "      <td>147013</td>\n",
       "      <td>...</td>\n",
       "      <td>147013</td>\n",
       "      <td>147013</td>\n",
       "      <td>147013</td>\n",
       "      <td>147013</td>\n",
       "      <td>147013</td>\n",
       "      <td>147013</td>\n",
       "      <td>147013</td>\n",
       "      <td>147013</td>\n",
       "      <td>147013</td>\n",
       "      <td>147013</td>\n",
       "    </tr>\n",
       "    <tr>\n",
       "      <th>Thu</th>\n",
       "      <td>152782</td>\n",
       "      <td>152782</td>\n",
       "      <td>152782</td>\n",
       "      <td>152782</td>\n",
       "      <td>152782</td>\n",
       "      <td>152782</td>\n",
       "      <td>152782</td>\n",
       "      <td>152782</td>\n",
       "      <td>152782</td>\n",
       "      <td>152782</td>\n",
       "      <td>...</td>\n",
       "      <td>152782</td>\n",
       "      <td>152782</td>\n",
       "      <td>152782</td>\n",
       "      <td>152782</td>\n",
       "      <td>152782</td>\n",
       "      <td>152782</td>\n",
       "      <td>152782</td>\n",
       "      <td>152782</td>\n",
       "      <td>152782</td>\n",
       "      <td>152782</td>\n",
       "    </tr>\n",
       "    <tr>\n",
       "      <th>Sat</th>\n",
       "      <td>154832</td>\n",
       "      <td>154832</td>\n",
       "      <td>154832</td>\n",
       "      <td>154832</td>\n",
       "      <td>154832</td>\n",
       "      <td>154832</td>\n",
       "      <td>154832</td>\n",
       "      <td>154832</td>\n",
       "      <td>154832</td>\n",
       "      <td>154832</td>\n",
       "      <td>...</td>\n",
       "      <td>154832</td>\n",
       "      <td>154832</td>\n",
       "      <td>154832</td>\n",
       "      <td>154832</td>\n",
       "      <td>154832</td>\n",
       "      <td>154832</td>\n",
       "      <td>154832</td>\n",
       "      <td>154832</td>\n",
       "      <td>154832</td>\n",
       "      <td>154832</td>\n",
       "    </tr>\n",
       "    <tr>\n",
       "      <th>Fri</th>\n",
       "      <td>156791</td>\n",
       "      <td>156791</td>\n",
       "      <td>156791</td>\n",
       "      <td>156791</td>\n",
       "      <td>156791</td>\n",
       "      <td>156791</td>\n",
       "      <td>156791</td>\n",
       "      <td>156791</td>\n",
       "      <td>156791</td>\n",
       "      <td>156791</td>\n",
       "      <td>...</td>\n",
       "      <td>156791</td>\n",
       "      <td>156791</td>\n",
       "      <td>156791</td>\n",
       "      <td>156791</td>\n",
       "      <td>156791</td>\n",
       "      <td>156791</td>\n",
       "      <td>156791</td>\n",
       "      <td>156791</td>\n",
       "      <td>156791</td>\n",
       "      <td>156791</td>\n",
       "    </tr>\n",
       "  </tbody>\n",
       "</table>\n",
       "<p>7 rows × 21 columns</p>\n",
       "</div>"
      ],
      "text/plain": [
       "         vendor_id  pickup_datetime  passenger_count  pickup_longitude  \\\n",
       "weekday                                                                  \n",
       "Mon         131344           131344           131344            131344   \n",
       "Sun         136538           136538           136538            136538   \n",
       "Tue         141750           141750           141750            141750   \n",
       "Wed         147013           147013           147013            147013   \n",
       "Thu         152782           152782           152782            152782   \n",
       "Sat         154832           154832           154832            154832   \n",
       "Fri         156791           156791           156791            156791   \n",
       "\n",
       "         pickup_latitude  dropoff_longitude  dropoff_latitude  \\\n",
       "weekday                                                         \n",
       "Mon               131344             131344            131344   \n",
       "Sun               136538             136538            136538   \n",
       "Tue               141750             141750            141750   \n",
       "Wed               147013             147013            147013   \n",
       "Thu               152782             152782            152782   \n",
       "Sat               154832             154832            154832   \n",
       "Fri               156791             156791            156791   \n",
       "\n",
       "         log_trip_duration   month    hour      ...       day_num  haversine  \\\n",
       "weekday                                         ...                            \n",
       "Mon                 131344  131344  131344      ...        131344     131344   \n",
       "Sun                 136538  136538  136538      ...        136538     136538   \n",
       "Tue                 141750  141750  141750      ...        141750     141750   \n",
       "Wed                 147013  147013  147013      ...        147013     147013   \n",
       "Thu                 152782  152782  152782      ...        152782     152782   \n",
       "Sat                 154832  154832  154832      ...        154832     154832   \n",
       "Fri                 156791  156791  156791      ...        156791     156791   \n",
       "\n",
       "         log_haversine     jam  lg_air_pickup  lg_air_dropoff  jf_air_pickup  \\\n",
       "weekday                                                                        \n",
       "Mon             131344  131344         131344          131344         131344   \n",
       "Sun             136538  136538         136538          136538         136538   \n",
       "Tue             141750  141750         141750          141750         141750   \n",
       "Wed             147013  147013         147013          147013         147013   \n",
       "Thu             152782  152782         152782          152782         152782   \n",
       "Sat             154832  154832         154832          154832         154832   \n",
       "Fri             156791  156791         156791          156791         156791   \n",
       "\n",
       "         jf_air_dropoff  pickup_zone  dropoff_zone  \n",
       "weekday                                             \n",
       "Mon              131344       131344        131344  \n",
       "Sun              136538       136538        136538  \n",
       "Tue              141750       141750        141750  \n",
       "Wed              147013       147013        147013  \n",
       "Thu              152782       152782        152782  \n",
       "Sat              154832       154832        154832  \n",
       "Fri              156791       156791        156791  \n",
       "\n",
       "[7 rows x 21 columns]"
      ]
     },
     "execution_count": 191,
     "metadata": {},
     "output_type": "execute_result"
    }
   ],
   "source": [
    "X_train.groupby('weekday').count().sort_values(by='hour')"
   ]
  },
  {
   "cell_type": "code",
   "execution_count": 171,
   "metadata": {},
   "outputs": [
    {
     "data": {
      "text/plain": [
       "<matplotlib.axes._subplots.AxesSubplot at 0x7f5e6ed903c8>"
      ]
     },
     "execution_count": 171,
     "metadata": {},
     "output_type": "execute_result"
    },
    {
     "data": {
      "image/png": "[encoded data removed]",
      "text/plain": [
       "<Figure size 432x288 with 1 Axes>"
      ]
     },
     "metadata": {
      "needs_background": "light"
     },
     "output_type": "display_data"
    }
   ],
   "source": [
    "sns.boxplot(x='weekday', y='log_trip_duration', data=X_train)"
   ]
  },
  {
   "cell_type": "code",
   "execution_count": 172,
   "metadata": {},
   "outputs": [],
   "source": [
    "# X_train['weekday'] = X_train['weekday'].apply(lambda x: 'SatMon' if x == 'Sat' or x == 'Mon' else x)\n",
    "# X_test['weekday'] = X_test['weekday'].apply(lambda x: 'SatMon' if x == 'Sat' or x == 'Mon' else x)"
   ]
  },
  {
   "cell_type": "code",
   "execution_count": 182,
   "metadata": {},
   "outputs": [],
   "source": [
    "# X_train['month'] = X_train['month'].apply(lambda x: 'FebJan' if x == 'Feb' or x == 'Jan' else x)\n",
    "# X_test['month'] = X_test['month'].apply(lambda x: 'FebJan' if x == 'Feb' or x == 'Jan' else x)"
   ]
  },
  {
   "cell_type": "code",
   "execution_count": 174,
   "metadata": {},
   "outputs": [
    {
     "data": {
      "text/plain": [
       "<matplotlib.axes._subplots.AxesSubplot at 0x7f5e6f33ffd0>"
      ]
     },
     "execution_count": 174,
     "metadata": {},
     "output_type": "execute_result"
    },
    {
     "data": {
      "image/png": "[encoded data removed]",
      "text/plain": [
       "<Figure size 432x288 with 1 Axes>"
      ]
     },
     "metadata": {
      "needs_background": "light"
     },
     "output_type": "display_data"
    }
   ],
   "source": [
    "sns.boxplot(x='month', y='log_trip_duration', data=X_train)"
   ]
  },
  {
   "cell_type": "markdown",
   "metadata": {},
   "source": [
    "Обучите модель на очищенных данных и посчитайте качество на тестовой выборке."
   ]
  },
  {
   "cell_type": "code",
   "execution_count": 221,
   "metadata": {},
   "outputs": [
    {
     "name": "stdout",
     "output_type": "stream",
     "text": [
      "Test RMSLE = 0.5528\n"
     ]
    }
   ],
   "source": [
    "model = pipeline.fit(X_train, y_train['log_trip_duration'])\n",
    "y_pred = model.predict(X_test)\n",
    "print(\"Test RMSLE = %.4f\" % rmse(y_test['log_trip_duration'],y_pred))"
   ]
  },
  {
   "cell_type": "markdown",
   "metadata": {},
   "source": [
    "**Задание 14 (1 балл)**. После OneHot-кодирования количество признаков в нашем датасете сильно возрастает. Посчитайте колиество признаков до и после кодирования категориальных признаков."
   ]
  },
  {
   "cell_type": "code",
   "execution_count": 193,
   "metadata": {},
   "outputs": [
    {
     "name": "stdout",
     "output_type": "stream",
     "text": [
      "Size before OneHot: (1021050, 22)\n",
      "Size after OneHot: (1021050, 27)\n"
     ]
    }
   ],
   "source": [
    "print(\"Size before OneHot:\", X_train.shape)\n",
    "print(\"Size after OneHot:\", column_transformer.transform(X_train).shape)"
   ]
  },
  {
   "cell_type": "markdown",
   "metadata": {},
   "source": [
    "Попробуйте обучить не `Ridge`-, а `Lasso`-регрессию. Стало ли лучше?"
   ]
  },
  {
   "cell_type": "code",
   "execution_count": 195,
   "metadata": {},
   "outputs": [
    {
     "name": "stdout",
     "output_type": "stream",
     "text": [
      "Test RMSlE = 0.7943\n"
     ]
    }
   ],
   "source": [
    "from sklearn.linear_model import Lasso\n",
    "lasso_pipeline = Pipeline(steps=[\n",
    "    ('ohe_and_scaling', column_transformer),\n",
    "    ('regression', Lasso())\n",
    "])\n",
    "\n",
    "model = lasso_pipeline.fit(X_train, y_train['log_trip_duration'])\n",
    "y_pred = model.predict(X_test)\n",
    "print(\"Test RMSlE = %.4f\" % rmse(y_test['log_trip_duration'], y_pred))"
   ]
  },
  {
   "cell_type": "markdown",
   "metadata": {},
   "source": [
    "Разбейте обучающую выборку на обучающую и валидационную в отношении 8:2. По валидационной выборке подберите оптимальное значение параметра регуляризации (по логарифмической сетке), на тестовой выборке измерьте качество полученной модели."
   ]
  },
  {
   "cell_type": "code",
   "execution_count": 222,
   "metadata": {},
   "outputs": [],
   "source": [
    "X_train, X_valid, y_train, y_valid = train_test_split(X_train, y_train, test_size=0.2, random_state=10)"
   ]
  },
  {
   "cell_type": "code",
   "execution_count": 223,
   "metadata": {},
   "outputs": [
    {
     "name": "stdout",
     "output_type": "stream",
     "text": [
      "Best alpha = 0.0004\n"
     ]
    }
   ],
   "source": [
    "from sklearn.model_selection import GridSearchCV\n",
    "\n",
    "alphas = np.logspace(-4, 0, 20)\n",
    "searcher = GridSearchCV(lasso_pipeline, [{\"regression__alpha\": alphas}], scoring=rmse_scorer, cv=10)\n",
    "searcher.fit(X_valid, y_valid['log_trip_duration'])\n",
    "\n",
    "best_alpha = searcher.best_params_[\"regression__alpha\"]\n",
    "print(\"Best alpha = %.4f\" % best_alpha)\n"
   ]
  },
  {
   "cell_type": "code",
   "execution_count": 224,
   "metadata": {},
   "outputs": [
    {
     "data": {
      "text/plain": [
       "Text(0, 0.5, 'CV score')"
      ]
     },
     "execution_count": 224,
     "metadata": {},
     "output_type": "execute_result"
    },
    {
     "data": {
      "image/png": "[encoded data removed]",
      "text/plain": [
       "<Figure size 432x288 with 1 Axes>"
      ]
     },
     "metadata": {
      "needs_background": "light"
     },
     "output_type": "display_data"
    }
   ],
   "source": [
    "plt.plot(alphas, -searcher.cv_results_[\"mean_test_score\"])\n",
    "plt.xscale(\"log\")\n",
    "plt.xlabel(\"alpha\")\n",
    "plt.ylabel(\"CV score\")"
   ]
  },
  {
   "cell_type": "code",
   "execution_count": 225,
   "metadata": {},
   "outputs": [
    {
     "name": "stdout",
     "output_type": "stream",
     "text": [
      "Test RMSlE = 0.5528\n"
     ]
    }
   ],
   "source": [
    "pipeline = Pipeline(steps=[\n",
    "    ('ohe_and_scaling', column_transformer),\n",
    "    ('regression', Lasso(best_alpha))\n",
    "])\n",
    "\n",
    "model = pipeline.fit(X_train, y_train['log_trip_duration'])\n",
    "y_pred = model.predict(X_test)\n",
    "print(\"Test RMSlE = %.4f\" % rmse(y_test['log_trip_duration'], y_pred))"
   ]
  },
  {
   "cell_type": "markdown",
   "metadata": {},
   "source": [
    "Для каждого перебранного `alpha` посчитайте количество нулевых весов в модели и нарисуйте график зависимости его от `alpha`."
   ]
  },
  {
   "cell_type": "markdown",
   "metadata": {},
   "source": [
    "Что-то не разобралась, откуда брать коэффициенты, кроме как из pipeline.steps[-1][-1]"
   ]
  },
  {
   "cell_type": "code",
   "execution_count": 226,
   "metadata": {},
   "outputs": [],
   "source": [
    "lasso_zeros = []\n",
    "for alpha in alphas:\n",
    "    pipeline = Pipeline(steps=[\n",
    "    ('ohe_and_scaling', column_transformer),\n",
    "    ('regression', Lasso(alpha))\n",
    "    ])\n",
    "    model = pipeline.fit(X_train, y_train['log_trip_duration'])\n",
    "    lasso_zeros.append(np.sum(pipeline.steps[-1][-1].coef_ == 0))"
   ]
  },
  {
   "cell_type": "code",
   "execution_count": 554,
   "metadata": {},
   "outputs": [
    {
     "data": {
      "text/plain": [
       "Text(0, 0.5, 'zeros')"
      ]
     },
     "execution_count": 554,
     "metadata": {},
     "output_type": "execute_result"
    },
    {
     "data": {
      "image/png": "[encoded data removed]",
      "text/plain": [
       "<Figure size 432x288 with 1 Axes>"
      ]
     },
     "metadata": {},
     "output_type": "display_data"
    }
   ],
   "source": [
    "plt.plot(alphas, lasso_zeros)\n",
    "plt.xscale(\"log\")\n",
    "plt.xlabel(\"alpha\")\n",
    "plt.ylabel(\"zeros\")"
   ]
  },
  {
   "cell_type": "markdown",
   "metadata": {},
   "source": [
    "<img src=\"https://www.dropbox.com/s/wp4jj0599np17lh/map_direction.png?raw=1\" width=\"20%\" align=\"right\" style=\"margin-left: 20px\">\n",
    "\n",
    "**Задание 15 (1 балл)**. Часто бывает полезным использовать взаимодействия признаков (feature interactions), то есть строить новые признаки на основе уже существующих. Выше мы разбили карту Манхэттена на ячейки и придумали признаки \"из какой ячейки началась поездка\" и \"в какой ячейке закончилась поездка\".\n",
    "\n",
    "Давайте попробуем сделать следующее: посчитаем, сколько раз встречается каждая возможная пара этих признаков в нашем датасете и выберем 100 самых частых пар. Закодируем поездки с этими редкими парами как категориальный признак, остальным объектам припишем -1. Получается, что мы закодировали, откуда и куда должно было ехать такси.\n",
    "\n",
    "**Вопрос**: Почему такой признак потенциально полезный? Почему линейная модель не может самостоятельно \"вытащить\" эту информацию, ведь у нее в распоряжении есть признаки \"из какой ячейки началась поездка\" и \"в какой ячейке закончилась поездка\"?"
   ]
  },
  {
   "cell_type": "markdown",
   "metadata": {},
   "source": [
    "Все таки считать 100 пар по датасету или обучающей выборке?"
   ]
  },
  {
   "cell_type": "markdown",
   "metadata": {},
   "source": [
    " выделяю зону манхэттена: удаляю все колонки, в которых начало или конец поездки происходили вне зоны Манхэттена. Для этого создаю булевый массив cols_to_drop, а потом с его помощью удаляю ненужные колонки из датафрейма."
   ]
  },
  {
   "cell_type": "code",
   "execution_count": 227,
   "metadata": {},
   "outputs": [],
   "source": [
    "X_train_manhattan = X_train.copy()"
   ]
  },
  {
   "cell_type": "code",
   "execution_count": 228,
   "metadata": {},
   "outputs": [],
   "source": [
    "cols_to_drop = (X_train_manhattan['pickup_zone'] == -1) | (X_train_manhattan['dropoff_zone'] == -1)\n",
    "X_train_manhattan = X_train_manhattan.drop(cols_to_drop[cols_to_drop == True].index)"
   ]
  },
  {
   "cell_type": "markdown",
   "metadata": {},
   "source": [
    "Далее я группирую X_train_manhattan по pickup_zone и dropoff_zone, сортирую в невозрастающем порядке и выбираю первые 100 строк датафрейма (это 100 самых частых пар)."
   ]
  },
  {
   "cell_type": "code",
   "execution_count": 229,
   "metadata": {},
   "outputs": [],
   "source": [
    "popular_trips100_df = X_train_manhattan.groupby(['pickup_zone', 'dropoff_zone'], as_index=False).count().sort_values(\n",
    "    by='pickup_datetime', ascending=False)[:100].loc[:, 'pickup_zone':'dropoff_zone']"
   ]
  },
  {
   "cell_type": "code",
   "execution_count": 230,
   "metadata": {},
   "outputs": [
    {
     "data": {
      "text/html": [
       "<div>\n",
       "<style scoped>\n",
       "    .dataframe tbody tr th:only-of-type {\n",
       "        vertical-align: middle;\n",
       "    }\n",
       "\n",
       "    .dataframe tbody tr th {\n",
       "        vertical-align: top;\n",
       "    }\n",
       "\n",
       "    .dataframe thead th {\n",
       "        text-align: right;\n",
       "    }\n",
       "</style>\n",
       "<table border=\"1\" class=\"dataframe\">\n",
       "  <thead>\n",
       "    <tr style=\"text-align: right;\">\n",
       "      <th></th>\n",
       "      <th>pickup_zone</th>\n",
       "      <th>dropoff_zone</th>\n",
       "    </tr>\n",
       "  </thead>\n",
       "  <tbody>\n",
       "    <tr>\n",
       "      <th>52</th>\n",
       "      <td>5</td>\n",
       "      <td>5</td>\n",
       "    </tr>\n",
       "    <tr>\n",
       "      <th>78</th>\n",
       "      <td>7</td>\n",
       "      <td>7</td>\n",
       "    </tr>\n",
       "    <tr>\n",
       "      <th>76</th>\n",
       "      <td>7</td>\n",
       "      <td>5</td>\n",
       "    </tr>\n",
       "    <tr>\n",
       "      <th>49</th>\n",
       "      <td>5</td>\n",
       "      <td>2</td>\n",
       "    </tr>\n",
       "    <tr>\n",
       "      <th>54</th>\n",
       "      <td>5</td>\n",
       "      <td>7</td>\n",
       "    </tr>\n",
       "  </tbody>\n",
       "</table>\n",
       "</div>"
      ],
      "text/plain": [
       "    pickup_zone  dropoff_zone\n",
       "52            5             5\n",
       "78            7             7\n",
       "76            7             5\n",
       "49            5             2\n",
       "54            5             7"
      ]
     },
     "execution_count": 230,
     "metadata": {},
     "output_type": "execute_result"
    }
   ],
   "source": [
    "popular_trips100_df.head()"
   ]
  },
  {
   "cell_type": "markdown",
   "metadata": {},
   "source": [
    "Создаю множество самых популярных пар, а потом добавляю в выборку новую колонку, отвечающую за признаки \"из какой ячейки началась поездка\" и \"в какой ячейке закончилась поездка\". Для этого просто проверяю содержится ли pickup_zone и dropoff_zone объекта в множестве самых популярных пар, если да, то делаю значение признака равным zoneXX, иначе \"-1\"."
   ]
  },
  {
   "cell_type": "code",
   "execution_count": 231,
   "metadata": {},
   "outputs": [],
   "source": [
    "popular_trips100 = set()\n",
    "for index, row in popular_trips100_df.iterrows():\n",
    "    b = (row['pickup_zone'], row['dropoff_zone'])\n",
    "    popular_trips100.add(b)"
   ]
  },
  {
   "cell_type": "code",
   "execution_count": 232,
   "metadata": {},
   "outputs": [],
   "source": [
    "X_train['trip_direction'] = X_train.apply(lambda x: 'zone'+str(x['pickup_zone'])+str(x['dropoff_zone'])\n",
    "                                          if (x['pickup_zone'], x['dropoff_zone']) in popular_trips100\n",
    "                                          else\n",
    "                                          str(-1)\n",
    "                                          ,axis=1)"
   ]
  },
  {
   "cell_type": "code",
   "execution_count": 233,
   "metadata": {},
   "outputs": [],
   "source": [
    "X_test['trip_direction'] = X_test.apply(lambda x: 'zone'+str(x['pickup_zone'])+str(x['dropoff_zone'])\n",
    "                                          if (x['pickup_zone'], x['dropoff_zone']) in popular_trips100\n",
    "                                          else\n",
    "                                          str(-1)\n",
    "                                          ,axis=1)"
   ]
  },
  {
   "cell_type": "markdown",
   "metadata": {},
   "source": [
    "Переобучите модель на новых даннных и посчитайте качество на тестовой выборке"
   ]
  },
  {
   "cell_type": "code",
   "execution_count": 234,
   "metadata": {},
   "outputs": [],
   "source": [
    "categorical = list(['weekday', 'month', 'trip_direction'])\n",
    "numeric_features = list(['passenger_count', 'vendor_id',\n",
    "                         'hour', 'is_anomaly', 'day_num', 'haversine', 'log_haversine',\n",
    "                         'jam', 'lg_air_pickup', 'lg_air_dropoff',\n",
    "                         'jf_air_pickup', 'jf_air_dropoff', 'pickup_zone', 'dropoff_zone'])\n",
    "column_transformer = ColumnTransformer([\n",
    "    ('ohe', OneHotEncoder(handle_unknown=\"ignore\"), categorical),\n",
    "    ('scaling', StandardScaler(), numeric_features)\n",
    "])\n",
    "\n",
    "pipeline = Pipeline(steps=[\n",
    "    ('ohe_and_scaling', column_transformer),\n",
    "    ('regression', Ridge())\n",
    "])"
   ]
  },
  {
   "cell_type": "code",
   "execution_count": 235,
   "metadata": {},
   "outputs": [
    {
     "name": "stdout",
     "output_type": "stream",
     "text": [
      "Test RMSlE = 0.5215\n"
     ]
    }
   ],
   "source": [
    "model = pipeline.fit(X_train, y_train['log_trip_duration'])\n",
    "y_pred = model.predict(X_test)\n",
    "print(\"Test RMSlE = %.4f\" % rmse(y_test['log_trip_duration'], y_pred))"
   ]
  },
  {
   "cell_type": "markdown",
   "metadata": {},
   "source": [
    "**Задание 16 (бонус, 1 балл)**. Где, как не для нашей задачи, считать манхэттенское расстояние?\n",
    "\n",
    "**Вопрос**: Найдите, что такое манхэттенское расстояние и почему оно так называется. Как оно нам может помочь?\n",
    "\n",
    "Введите систему координат на нашей карте так, чтобы оси были параллельны улицам Манхэттена, и добавьте сначала в данные признак \"манхэттенское расстояние между пунктом отправления и пунктом назначения\", а затем и логарифм этого признака. Посчитайте корреляцию между вашим новыми признаком и таргетом; между `log_haversine` и таргетом. В каком случае корреляция больше?\n",
    "\n",
    "Нарисуйте карту, где покажете выбранные оси. Чтобы мы могли проверить вашу работу, просьба сделать скрин этой карты и приложить картинку (если мы откроем ваш ноутбук, виджеты отображаться не будут). "
   ]
  },
  {
   "cell_type": "code",
   "execution_count": 237,
   "metadata": {},
   "outputs": [],
   "source": [
    "tp_X_train, tp_X_test = X_train.copy(), X_test.copy()"
   ]
  },
  {
   "cell_type": "code",
   "execution_count": 238,
   "metadata": {},
   "outputs": [],
   "source": [
    "from math import cos, sin, radians, sqrt"
   ]
  },
  {
   "cell_type": "code",
   "execution_count": 243,
   "metadata": {},
   "outputs": [],
   "source": [
    "def rotation_matrix(alpha):\n",
    "    '''матрица поворота для того, чтобы \n",
    "    оси координатой сис-мы были параллельны\n",
    "    улицам'''\n",
    "    return [[cos(alpha), -sin(alpha)],[sin(alpha), cos(alpha)]]\n",
    "\n",
    "def manhattan(a, b, alpha):\n",
    "    '''\n",
    "    A(a0, a1)\n",
    "    B(b0, b1)\n",
    "    d(A, B) = |a0 - b0| + |a1 - b1|\n",
    "    '''\n",
    "    rotmat = rotation_matrix(alpha)\n",
    "    x = a[0]-b[0]\n",
    "    y = (a[1]-b[1])\n",
    "    res = np.dot(rotmat,[x, y])\n",
    "    return abs(res[0])+abs(res[1])"
   ]
  },
  {
   "cell_type": "code",
   "execution_count": 240,
   "metadata": {},
   "outputs": [],
   "source": [
    "tp_X_train['manhattan'] = tp_X_train.apply(lambda x: \n",
    "                                           manhattan([x['pickup_longitude'], x['pickup_latitude']],\n",
    "                                                              [x['dropoff_longitude'], x['dropoff_latitude']],\n",
    "                                                              radians(30))\n",
    "                                           ,axis=1)"
   ]
  },
  {
   "cell_type": "code",
   "execution_count": 242,
   "metadata": {},
   "outputs": [],
   "source": [
    "tp_X_test['manhattan'] = tp_X_test.apply(lambda x: \n",
    "                                           manhattan([x['pickup_longitude'], x['pickup_latitude']],\n",
    "                                                              [x['dropoff_longitude'], x['dropoff_latitude']],\n",
    "                                                              radians(30))\n",
    "                                           ,axis=1)"
   ]
  },
  {
   "cell_type": "code",
   "execution_count": 244,
   "metadata": {},
   "outputs": [],
   "source": [
    "tp_X_train['log_manhattan'] = np.log1p(tp_X_train['manhattan'])\n",
    "tp_X_test['log_manhattan'] = np.log1p(tp_X_test['manhattan'])"
   ]
  },
  {
   "cell_type": "code",
   "execution_count": 245,
   "metadata": {},
   "outputs": [
    {
     "data": {
      "image/png": "[encoded data removed]",
      "text/plain": [
       "<Figure size 504x216 with 1 Axes>"
      ]
     },
     "metadata": {
      "needs_background": "light"
     },
     "output_type": "display_data"
    }
   ],
   "source": [
    "corrs = [np.corrcoef(tp_X_train['log_manhattan'], y_train['log_trip_duration'])[0][1],\n",
    "         np.corrcoef(tp_X_train['log_haversine'], y_train['log_trip_duration'])[0][1]]\n",
    "features = ['log_manhattan', 'log_haversine']\n",
    "plot = sns.barplot(y=features, x=corrs)\n",
    "plot.figure.set_size_inches(7, 3)"
   ]
  },
  {
   "cell_type": "markdown",
   "metadata": {},
   "source": [
    "Переобучите модель на новых даннных и посчитайте качество на тестовой выборке"
   ]
  },
  {
   "cell_type": "code",
   "execution_count": 246,
   "metadata": {},
   "outputs": [
    {
     "name": "stdout",
     "output_type": "stream",
     "text": [
      "Test RMSlE = 0.5017\n"
     ]
    }
   ],
   "source": [
    "categorical = list(['weekday', 'month', 'trip_direction'])\n",
    "numeric_features = list(['passenger_count', 'vendor_id',\n",
    "                         'hour', 'is_anomaly', 'day_num', 'haversine', 'log_haversine',\n",
    "                         'jam', 'lg_air_pickup', 'lg_air_dropoff',\n",
    "                         'jf_air_pickup', 'jf_air_dropoff', 'pickup_zone', 'dropoff_zone', 'manhattan',\n",
    "                        'log_manhattan'])\n",
    "column_transformer = ColumnTransformer([\n",
    "    ('ohe', OneHotEncoder(handle_unknown=\"ignore\"), categorical),\n",
    "    ('scaling', StandardScaler(), numeric_features)\n",
    "])\n",
    "\n",
    "pipeline = Pipeline(steps=[\n",
    "    ('ohe_and_scaling', column_transformer),\n",
    "    ('regression', Ridge())\n",
    "])\n",
    "model = pipeline.fit(tp_X_train, y_train['log_trip_duration'])\n",
    "y_pred = model.predict(tp_X_test)\n",
    "print(\"Test RMSlE = %.4f\" % rmse(y_test['log_trip_duration'], y_pred))"
   ]
  },
  {
   "cell_type": "markdown",
   "metadata": {},
   "source": [
    "<img src=\"https://www.dropbox.com/s/xf1uwfkao3eflgg/zaeb2000.jpg?raw=1\">"
   ]
  },
  {
   "cell_type": "markdown",
   "metadata": {},
   "source": [
    "Источники:\n",
    "https://www.kaggle.com/hpulkkinen/using-the-manhattan-distance-with-random-forest\n",
    "https://www.kaggle.com/headsortails/nyc-taxi-eda-update-the-fast-the-curious/code"
   ]
  },
  {
   "cell_type": "code",
   "execution_count": null,
   "metadata": {},
   "outputs": [],
   "source": []
  }
 ],
 "metadata": {
  "kernelspec": {
   "display_name": "Python 3",
   "language": "python",
   "name": "python3"
  },
  "language_info": {
   "codemirror_mode": {
    "name": "ipython",
    "version": 3
   },
   "file_extension": ".py",
   "mimetype": "text/x-python",
   "name": "python",
   "nbconvert_exporter": "python",
   "pygments_lexer": "ipython3",
   "version": "3.7.1"
  }
 },
 "nbformat": 4,
 "nbformat_minor": 2
}
